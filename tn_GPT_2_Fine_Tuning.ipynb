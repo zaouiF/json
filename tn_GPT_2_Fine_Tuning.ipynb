{
  "nbformat": 4,
  "nbformat_minor": 0,
  "metadata": {
    "colab": {
      "name": "tn_GPT_2_Fine_Tuning",
      "provenance": [],
      "collapsed_sections": [],
      "include_colab_link": true
    },
    "kernelspec": {
      "name": "python3",
      "display_name": "Python 3"
    },
    "accelerator": "GPU",
    "widgets": {
      "application/vnd.jupyter.widget-state+json": {
        "31ec33f3bc90405387509de84faf6111": {
          "model_module": "@jupyter-widgets/controls",
          "model_name": "HBoxModel",
          "state": {
            "_view_name": "HBoxView",
            "_dom_classes": [],
            "_model_name": "HBoxModel",
            "_view_module": "@jupyter-widgets/controls",
            "_model_module_version": "1.5.0",
            "_view_count": null,
            "_view_module_version": "1.5.0",
            "box_style": "",
            "layout": "IPY_MODEL_6c466af878a546a18acf0414fb3043f9",
            "_model_module": "@jupyter-widgets/controls",
            "children": [
              "IPY_MODEL_4aec9070d0d14fd3aa74c497fe685ae7",
              "IPY_MODEL_1866b4d207b44412b9b4c6971c8a28ab"
            ]
          }
        },
        "6c466af878a546a18acf0414fb3043f9": {
          "model_module": "@jupyter-widgets/base",
          "model_name": "LayoutModel",
          "state": {
            "_view_name": "LayoutView",
            "grid_template_rows": null,
            "right": null,
            "justify_content": null,
            "_view_module": "@jupyter-widgets/base",
            "overflow": null,
            "_model_module_version": "1.2.0",
            "_view_count": null,
            "flex_flow": null,
            "width": null,
            "min_width": null,
            "border": null,
            "align_items": null,
            "bottom": null,
            "_model_module": "@jupyter-widgets/base",
            "top": null,
            "grid_column": null,
            "overflow_y": null,
            "overflow_x": null,
            "grid_auto_flow": null,
            "grid_area": null,
            "grid_template_columns": null,
            "flex": null,
            "_model_name": "LayoutModel",
            "justify_items": null,
            "grid_row": null,
            "max_height": null,
            "align_content": null,
            "visibility": null,
            "align_self": null,
            "height": null,
            "min_height": null,
            "padding": null,
            "grid_auto_rows": null,
            "grid_gap": null,
            "max_width": null,
            "order": null,
            "_view_module_version": "1.2.0",
            "grid_template_areas": null,
            "object_position": null,
            "object_fit": null,
            "grid_auto_columns": null,
            "margin": null,
            "display": null,
            "left": null
          }
        },
        "4aec9070d0d14fd3aa74c497fe685ae7": {
          "model_module": "@jupyter-widgets/controls",
          "model_name": "FloatProgressModel",
          "state": {
            "_view_name": "ProgressView",
            "style": "IPY_MODEL_4a094b58dc74423c80d7a1bdd6e38442",
            "_dom_classes": [],
            "description": "Downloading: 100%",
            "_model_name": "FloatProgressModel",
            "bar_style": "success",
            "max": 1935314,
            "_view_module": "@jupyter-widgets/controls",
            "_model_module_version": "1.5.0",
            "value": 1935314,
            "_view_count": null,
            "_view_module_version": "1.5.0",
            "orientation": "horizontal",
            "min": 0,
            "description_tooltip": null,
            "_model_module": "@jupyter-widgets/controls",
            "layout": "IPY_MODEL_9881cad93f6e4aacbff709a6a82fe786"
          }
        },
        "1866b4d207b44412b9b4c6971c8a28ab": {
          "model_module": "@jupyter-widgets/controls",
          "model_name": "HTMLModel",
          "state": {
            "_view_name": "HTMLView",
            "style": "IPY_MODEL_7368607bcc8d4e6a84632d2626da0a4e",
            "_dom_classes": [],
            "description": "",
            "_model_name": "HTMLModel",
            "placeholder": "​",
            "_view_module": "@jupyter-widgets/controls",
            "_model_module_version": "1.5.0",
            "value": " 1.94M/1.94M [00:03&lt;00:00, 607kB/s]",
            "_view_count": null,
            "_view_module_version": "1.5.0",
            "description_tooltip": null,
            "_model_module": "@jupyter-widgets/controls",
            "layout": "IPY_MODEL_fb969e9e514a4e98a8bb78e939b8dc32"
          }
        },
        "4a094b58dc74423c80d7a1bdd6e38442": {
          "model_module": "@jupyter-widgets/controls",
          "model_name": "ProgressStyleModel",
          "state": {
            "_view_name": "StyleView",
            "_model_name": "ProgressStyleModel",
            "description_width": "initial",
            "_view_module": "@jupyter-widgets/base",
            "_model_module_version": "1.5.0",
            "_view_count": null,
            "_view_module_version": "1.2.0",
            "bar_color": null,
            "_model_module": "@jupyter-widgets/controls"
          }
        },
        "9881cad93f6e4aacbff709a6a82fe786": {
          "model_module": "@jupyter-widgets/base",
          "model_name": "LayoutModel",
          "state": {
            "_view_name": "LayoutView",
            "grid_template_rows": null,
            "right": null,
            "justify_content": null,
            "_view_module": "@jupyter-widgets/base",
            "overflow": null,
            "_model_module_version": "1.2.0",
            "_view_count": null,
            "flex_flow": null,
            "width": null,
            "min_width": null,
            "border": null,
            "align_items": null,
            "bottom": null,
            "_model_module": "@jupyter-widgets/base",
            "top": null,
            "grid_column": null,
            "overflow_y": null,
            "overflow_x": null,
            "grid_auto_flow": null,
            "grid_area": null,
            "grid_template_columns": null,
            "flex": null,
            "_model_name": "LayoutModel",
            "justify_items": null,
            "grid_row": null,
            "max_height": null,
            "align_content": null,
            "visibility": null,
            "align_self": null,
            "height": null,
            "min_height": null,
            "padding": null,
            "grid_auto_rows": null,
            "grid_gap": null,
            "max_width": null,
            "order": null,
            "_view_module_version": "1.2.0",
            "grid_template_areas": null,
            "object_position": null,
            "object_fit": null,
            "grid_auto_columns": null,
            "margin": null,
            "display": null,
            "left": null
          }
        },
        "7368607bcc8d4e6a84632d2626da0a4e": {
          "model_module": "@jupyter-widgets/controls",
          "model_name": "DescriptionStyleModel",
          "state": {
            "_view_name": "StyleView",
            "_model_name": "DescriptionStyleModel",
            "description_width": "",
            "_view_module": "@jupyter-widgets/base",
            "_model_module_version": "1.5.0",
            "_view_count": null,
            "_view_module_version": "1.2.0",
            "_model_module": "@jupyter-widgets/controls"
          }
        },
        "fb969e9e514a4e98a8bb78e939b8dc32": {
          "model_module": "@jupyter-widgets/base",
          "model_name": "LayoutModel",
          "state": {
            "_view_name": "LayoutView",
            "grid_template_rows": null,
            "right": null,
            "justify_content": null,
            "_view_module": "@jupyter-widgets/base",
            "overflow": null,
            "_model_module_version": "1.2.0",
            "_view_count": null,
            "flex_flow": null,
            "width": null,
            "min_width": null,
            "border": null,
            "align_items": null,
            "bottom": null,
            "_model_module": "@jupyter-widgets/base",
            "top": null,
            "grid_column": null,
            "overflow_y": null,
            "overflow_x": null,
            "grid_auto_flow": null,
            "grid_area": null,
            "grid_template_columns": null,
            "flex": null,
            "_model_name": "LayoutModel",
            "justify_items": null,
            "grid_row": null,
            "max_height": null,
            "align_content": null,
            "visibility": null,
            "align_self": null,
            "height": null,
            "min_height": null,
            "padding": null,
            "grid_auto_rows": null,
            "grid_gap": null,
            "max_width": null,
            "order": null,
            "_view_module_version": "1.2.0",
            "grid_template_areas": null,
            "object_position": null,
            "object_fit": null,
            "grid_auto_columns": null,
            "margin": null,
            "display": null,
            "left": null
          }
        },
        "5d7ca79668164bbd9bc49e064ce08666": {
          "model_module": "@jupyter-widgets/controls",
          "model_name": "HBoxModel",
          "state": {
            "_view_name": "HBoxView",
            "_dom_classes": [],
            "_model_name": "HBoxModel",
            "_view_module": "@jupyter-widgets/controls",
            "_model_module_version": "1.5.0",
            "_view_count": null,
            "_view_module_version": "1.5.0",
            "box_style": "",
            "layout": "IPY_MODEL_7629ac3dbb1f4647a5e61d427ccbc675",
            "_model_module": "@jupyter-widgets/controls",
            "children": [
              "IPY_MODEL_ff293b5f3d8342dd8412cea5499cf27f",
              "IPY_MODEL_624cd53ff50d4eb4a22b067cd2e66a44"
            ]
          }
        },
        "7629ac3dbb1f4647a5e61d427ccbc675": {
          "model_module": "@jupyter-widgets/base",
          "model_name": "LayoutModel",
          "state": {
            "_view_name": "LayoutView",
            "grid_template_rows": null,
            "right": null,
            "justify_content": null,
            "_view_module": "@jupyter-widgets/base",
            "overflow": null,
            "_model_module_version": "1.2.0",
            "_view_count": null,
            "flex_flow": null,
            "width": null,
            "min_width": null,
            "border": null,
            "align_items": null,
            "bottom": null,
            "_model_module": "@jupyter-widgets/base",
            "top": null,
            "grid_column": null,
            "overflow_y": null,
            "overflow_x": null,
            "grid_auto_flow": null,
            "grid_area": null,
            "grid_template_columns": null,
            "flex": null,
            "_model_name": "LayoutModel",
            "justify_items": null,
            "grid_row": null,
            "max_height": null,
            "align_content": null,
            "visibility": null,
            "align_self": null,
            "height": null,
            "min_height": null,
            "padding": null,
            "grid_auto_rows": null,
            "grid_gap": null,
            "max_width": null,
            "order": null,
            "_view_module_version": "1.2.0",
            "grid_template_areas": null,
            "object_position": null,
            "object_fit": null,
            "grid_auto_columns": null,
            "margin": null,
            "display": null,
            "left": null
          }
        },
        "ff293b5f3d8342dd8412cea5499cf27f": {
          "model_module": "@jupyter-widgets/controls",
          "model_name": "FloatProgressModel",
          "state": {
            "_view_name": "ProgressView",
            "style": "IPY_MODEL_dac42458838049248093d6c2ae1bc9c8",
            "_dom_classes": [],
            "description": "Downloading: 100%",
            "_model_name": "FloatProgressModel",
            "bar_style": "success",
            "max": 1497508,
            "_view_module": "@jupyter-widgets/controls",
            "_model_module_version": "1.5.0",
            "value": 1497508,
            "_view_count": null,
            "_view_module_version": "1.5.0",
            "orientation": "horizontal",
            "min": 0,
            "description_tooltip": null,
            "_model_module": "@jupyter-widgets/controls",
            "layout": "IPY_MODEL_d839121c1f63417d9848a886a713ba50"
          }
        },
        "624cd53ff50d4eb4a22b067cd2e66a44": {
          "model_module": "@jupyter-widgets/controls",
          "model_name": "HTMLModel",
          "state": {
            "_view_name": "HTMLView",
            "style": "IPY_MODEL_60d7d55f4e704da6ab43457e5ee1a35b",
            "_dom_classes": [],
            "description": "",
            "_model_name": "HTMLModel",
            "placeholder": "​",
            "_view_module": "@jupyter-widgets/controls",
            "_model_module_version": "1.5.0",
            "value": " 1.50M/1.50M [00:02&lt;00:00, 726kB/s]",
            "_view_count": null,
            "_view_module_version": "1.5.0",
            "description_tooltip": null,
            "_model_module": "@jupyter-widgets/controls",
            "layout": "IPY_MODEL_27321a0b2217417e89d91eb1461f66fb"
          }
        },
        "dac42458838049248093d6c2ae1bc9c8": {
          "model_module": "@jupyter-widgets/controls",
          "model_name": "ProgressStyleModel",
          "state": {
            "_view_name": "StyleView",
            "_model_name": "ProgressStyleModel",
            "description_width": "initial",
            "_view_module": "@jupyter-widgets/base",
            "_model_module_version": "1.5.0",
            "_view_count": null,
            "_view_module_version": "1.2.0",
            "bar_color": null,
            "_model_module": "@jupyter-widgets/controls"
          }
        },
        "d839121c1f63417d9848a886a713ba50": {
          "model_module": "@jupyter-widgets/base",
          "model_name": "LayoutModel",
          "state": {
            "_view_name": "LayoutView",
            "grid_template_rows": null,
            "right": null,
            "justify_content": null,
            "_view_module": "@jupyter-widgets/base",
            "overflow": null,
            "_model_module_version": "1.2.0",
            "_view_count": null,
            "flex_flow": null,
            "width": null,
            "min_width": null,
            "border": null,
            "align_items": null,
            "bottom": null,
            "_model_module": "@jupyter-widgets/base",
            "top": null,
            "grid_column": null,
            "overflow_y": null,
            "overflow_x": null,
            "grid_auto_flow": null,
            "grid_area": null,
            "grid_template_columns": null,
            "flex": null,
            "_model_name": "LayoutModel",
            "justify_items": null,
            "grid_row": null,
            "max_height": null,
            "align_content": null,
            "visibility": null,
            "align_self": null,
            "height": null,
            "min_height": null,
            "padding": null,
            "grid_auto_rows": null,
            "grid_gap": null,
            "max_width": null,
            "order": null,
            "_view_module_version": "1.2.0",
            "grid_template_areas": null,
            "object_position": null,
            "object_fit": null,
            "grid_auto_columns": null,
            "margin": null,
            "display": null,
            "left": null
          }
        },
        "60d7d55f4e704da6ab43457e5ee1a35b": {
          "model_module": "@jupyter-widgets/controls",
          "model_name": "DescriptionStyleModel",
          "state": {
            "_view_name": "StyleView",
            "_model_name": "DescriptionStyleModel",
            "description_width": "",
            "_view_module": "@jupyter-widgets/base",
            "_model_module_version": "1.5.0",
            "_view_count": null,
            "_view_module_version": "1.2.0",
            "_model_module": "@jupyter-widgets/controls"
          }
        },
        "27321a0b2217417e89d91eb1461f66fb": {
          "model_module": "@jupyter-widgets/base",
          "model_name": "LayoutModel",
          "state": {
            "_view_name": "LayoutView",
            "grid_template_rows": null,
            "right": null,
            "justify_content": null,
            "_view_module": "@jupyter-widgets/base",
            "overflow": null,
            "_model_module_version": "1.2.0",
            "_view_count": null,
            "flex_flow": null,
            "width": null,
            "min_width": null,
            "border": null,
            "align_items": null,
            "bottom": null,
            "_model_module": "@jupyter-widgets/base",
            "top": null,
            "grid_column": null,
            "overflow_y": null,
            "overflow_x": null,
            "grid_auto_flow": null,
            "grid_area": null,
            "grid_template_columns": null,
            "flex": null,
            "_model_name": "LayoutModel",
            "justify_items": null,
            "grid_row": null,
            "max_height": null,
            "align_content": null,
            "visibility": null,
            "align_self": null,
            "height": null,
            "min_height": null,
            "padding": null,
            "grid_auto_rows": null,
            "grid_gap": null,
            "max_width": null,
            "order": null,
            "_view_module_version": "1.2.0",
            "grid_template_areas": null,
            "object_position": null,
            "object_fit": null,
            "grid_auto_columns": null,
            "margin": null,
            "display": null,
            "left": null
          }
        },
        "4e690fdb63c54cfbb77681ebcdd08979": {
          "model_module": "@jupyter-widgets/controls",
          "model_name": "HBoxModel",
          "state": {
            "_view_name": "HBoxView",
            "_dom_classes": [],
            "_model_name": "HBoxModel",
            "_view_module": "@jupyter-widgets/controls",
            "_model_module_version": "1.5.0",
            "_view_count": null,
            "_view_module_version": "1.5.0",
            "box_style": "",
            "layout": "IPY_MODEL_0bbb706e8c724e80a16e11f6f99aff37",
            "_model_module": "@jupyter-widgets/controls",
            "children": [
              "IPY_MODEL_938fb4a78a44485a8919d8414bce05e0",
              "IPY_MODEL_cec93a67d8de45ceafdd0eb756e21f31"
            ]
          }
        },
        "0bbb706e8c724e80a16e11f6f99aff37": {
          "model_module": "@jupyter-widgets/base",
          "model_name": "LayoutModel",
          "state": {
            "_view_name": "LayoutView",
            "grid_template_rows": null,
            "right": null,
            "justify_content": null,
            "_view_module": "@jupyter-widgets/base",
            "overflow": null,
            "_model_module_version": "1.2.0",
            "_view_count": null,
            "flex_flow": null,
            "width": null,
            "min_width": null,
            "border": null,
            "align_items": null,
            "bottom": null,
            "_model_module": "@jupyter-widgets/base",
            "top": null,
            "grid_column": null,
            "overflow_y": null,
            "overflow_x": null,
            "grid_auto_flow": null,
            "grid_area": null,
            "grid_template_columns": null,
            "flex": null,
            "_model_name": "LayoutModel",
            "justify_items": null,
            "grid_row": null,
            "max_height": null,
            "align_content": null,
            "visibility": null,
            "align_self": null,
            "height": null,
            "min_height": null,
            "padding": null,
            "grid_auto_rows": null,
            "grid_gap": null,
            "max_width": null,
            "order": null,
            "_view_module_version": "1.2.0",
            "grid_template_areas": null,
            "object_position": null,
            "object_fit": null,
            "grid_auto_columns": null,
            "margin": null,
            "display": null,
            "left": null
          }
        },
        "938fb4a78a44485a8919d8414bce05e0": {
          "model_module": "@jupyter-widgets/controls",
          "model_name": "FloatProgressModel",
          "state": {
            "_view_name": "ProgressView",
            "style": "IPY_MODEL_b49146eb691f40b0a5897ea694c32d4e",
            "_dom_classes": [],
            "description": "Downloading: 100%",
            "_model_name": "FloatProgressModel",
            "bar_style": "success",
            "max": 4519765,
            "_view_module": "@jupyter-widgets/controls",
            "_model_module_version": "1.5.0",
            "value": 4519765,
            "_view_count": null,
            "_view_module_version": "1.5.0",
            "orientation": "horizontal",
            "min": 0,
            "description_tooltip": null,
            "_model_module": "@jupyter-widgets/controls",
            "layout": "IPY_MODEL_7f3932982c8f487abe071264b603e0e3"
          }
        },
        "cec93a67d8de45ceafdd0eb756e21f31": {
          "model_module": "@jupyter-widgets/controls",
          "model_name": "HTMLModel",
          "state": {
            "_view_name": "HTMLView",
            "style": "IPY_MODEL_3544a33e52564e4db105ebadbfdfcd5a",
            "_dom_classes": [],
            "description": "",
            "_model_name": "HTMLModel",
            "placeholder": "​",
            "_view_module": "@jupyter-widgets/controls",
            "_model_module_version": "1.5.0",
            "value": " 4.52M/4.52M [00:00&lt;00:00, 9.41MB/s]",
            "_view_count": null,
            "_view_module_version": "1.5.0",
            "description_tooltip": null,
            "_model_module": "@jupyter-widgets/controls",
            "layout": "IPY_MODEL_d3fd0c30c18c47ab8c6d934b8fcdcbfc"
          }
        },
        "b49146eb691f40b0a5897ea694c32d4e": {
          "model_module": "@jupyter-widgets/controls",
          "model_name": "ProgressStyleModel",
          "state": {
            "_view_name": "StyleView",
            "_model_name": "ProgressStyleModel",
            "description_width": "initial",
            "_view_module": "@jupyter-widgets/base",
            "_model_module_version": "1.5.0",
            "_view_count": null,
            "_view_module_version": "1.2.0",
            "bar_color": null,
            "_model_module": "@jupyter-widgets/controls"
          }
        },
        "7f3932982c8f487abe071264b603e0e3": {
          "model_module": "@jupyter-widgets/base",
          "model_name": "LayoutModel",
          "state": {
            "_view_name": "LayoutView",
            "grid_template_rows": null,
            "right": null,
            "justify_content": null,
            "_view_module": "@jupyter-widgets/base",
            "overflow": null,
            "_model_module_version": "1.2.0",
            "_view_count": null,
            "flex_flow": null,
            "width": null,
            "min_width": null,
            "border": null,
            "align_items": null,
            "bottom": null,
            "_model_module": "@jupyter-widgets/base",
            "top": null,
            "grid_column": null,
            "overflow_y": null,
            "overflow_x": null,
            "grid_auto_flow": null,
            "grid_area": null,
            "grid_template_columns": null,
            "flex": null,
            "_model_name": "LayoutModel",
            "justify_items": null,
            "grid_row": null,
            "max_height": null,
            "align_content": null,
            "visibility": null,
            "align_self": null,
            "height": null,
            "min_height": null,
            "padding": null,
            "grid_auto_rows": null,
            "grid_gap": null,
            "max_width": null,
            "order": null,
            "_view_module_version": "1.2.0",
            "grid_template_areas": null,
            "object_position": null,
            "object_fit": null,
            "grid_auto_columns": null,
            "margin": null,
            "display": null,
            "left": null
          }
        },
        "3544a33e52564e4db105ebadbfdfcd5a": {
          "model_module": "@jupyter-widgets/controls",
          "model_name": "DescriptionStyleModel",
          "state": {
            "_view_name": "StyleView",
            "_model_name": "DescriptionStyleModel",
            "description_width": "",
            "_view_module": "@jupyter-widgets/base",
            "_model_module_version": "1.5.0",
            "_view_count": null,
            "_view_module_version": "1.2.0",
            "_model_module": "@jupyter-widgets/controls"
          }
        },
        "d3fd0c30c18c47ab8c6d934b8fcdcbfc": {
          "model_module": "@jupyter-widgets/base",
          "model_name": "LayoutModel",
          "state": {
            "_view_name": "LayoutView",
            "grid_template_rows": null,
            "right": null,
            "justify_content": null,
            "_view_module": "@jupyter-widgets/base",
            "overflow": null,
            "_model_module_version": "1.2.0",
            "_view_count": null,
            "flex_flow": null,
            "width": null,
            "min_width": null,
            "border": null,
            "align_items": null,
            "bottom": null,
            "_model_module": "@jupyter-widgets/base",
            "top": null,
            "grid_column": null,
            "overflow_y": null,
            "overflow_x": null,
            "grid_auto_flow": null,
            "grid_area": null,
            "grid_template_columns": null,
            "flex": null,
            "_model_name": "LayoutModel",
            "justify_items": null,
            "grid_row": null,
            "max_height": null,
            "align_content": null,
            "visibility": null,
            "align_self": null,
            "height": null,
            "min_height": null,
            "padding": null,
            "grid_auto_rows": null,
            "grid_gap": null,
            "max_width": null,
            "order": null,
            "_view_module_version": "1.2.0",
            "grid_template_areas": null,
            "object_position": null,
            "object_fit": null,
            "grid_auto_columns": null,
            "margin": null,
            "display": null,
            "left": null
          }
        },
        "849a047d3b64453ebd7c6784fdf2eea6": {
          "model_module": "@jupyter-widgets/controls",
          "model_name": "HBoxModel",
          "state": {
            "_view_name": "HBoxView",
            "_dom_classes": [],
            "_model_name": "HBoxModel",
            "_view_module": "@jupyter-widgets/controls",
            "_model_module_version": "1.5.0",
            "_view_count": null,
            "_view_module_version": "1.5.0",
            "box_style": "",
            "layout": "IPY_MODEL_bf753b742a124ea2aa8251e445f3dec8",
            "_model_module": "@jupyter-widgets/controls",
            "children": [
              "IPY_MODEL_4777445582284ba59d57ca31b3261381",
              "IPY_MODEL_8aa8bd63b41d4e6b889a9aa97bff0e50"
            ]
          }
        },
        "bf753b742a124ea2aa8251e445f3dec8": {
          "model_module": "@jupyter-widgets/base",
          "model_name": "LayoutModel",
          "state": {
            "_view_name": "LayoutView",
            "grid_template_rows": null,
            "right": null,
            "justify_content": null,
            "_view_module": "@jupyter-widgets/base",
            "overflow": null,
            "_model_module_version": "1.2.0",
            "_view_count": null,
            "flex_flow": null,
            "width": null,
            "min_width": null,
            "border": null,
            "align_items": null,
            "bottom": null,
            "_model_module": "@jupyter-widgets/base",
            "top": null,
            "grid_column": null,
            "overflow_y": null,
            "overflow_x": null,
            "grid_auto_flow": null,
            "grid_area": null,
            "grid_template_columns": null,
            "flex": null,
            "_model_name": "LayoutModel",
            "justify_items": null,
            "grid_row": null,
            "max_height": null,
            "align_content": null,
            "visibility": null,
            "align_self": null,
            "height": null,
            "min_height": null,
            "padding": null,
            "grid_auto_rows": null,
            "grid_gap": null,
            "max_width": null,
            "order": null,
            "_view_module_version": "1.2.0",
            "grid_template_areas": null,
            "object_position": null,
            "object_fit": null,
            "grid_auto_columns": null,
            "margin": null,
            "display": null,
            "left": null
          }
        },
        "4777445582284ba59d57ca31b3261381": {
          "model_module": "@jupyter-widgets/controls",
          "model_name": "FloatProgressModel",
          "state": {
            "_view_name": "ProgressView",
            "style": "IPY_MODEL_25bd7e1d3c954f23907c4f6a60fca765",
            "_dom_classes": [],
            "description": "Downloading: 100%",
            "_model_name": "FloatProgressModel",
            "bar_style": "success",
            "max": 843,
            "_view_module": "@jupyter-widgets/controls",
            "_model_module_version": "1.5.0",
            "value": 843,
            "_view_count": null,
            "_view_module_version": "1.5.0",
            "orientation": "horizontal",
            "min": 0,
            "description_tooltip": null,
            "_model_module": "@jupyter-widgets/controls",
            "layout": "IPY_MODEL_aefecc561c3b4577bafd38a95252380e"
          }
        },
        "8aa8bd63b41d4e6b889a9aa97bff0e50": {
          "model_module": "@jupyter-widgets/controls",
          "model_name": "HTMLModel",
          "state": {
            "_view_name": "HTMLView",
            "style": "IPY_MODEL_ff538351139d43f583dd536d4b3a55e5",
            "_dom_classes": [],
            "description": "",
            "_model_name": "HTMLModel",
            "placeholder": "​",
            "_view_module": "@jupyter-widgets/controls",
            "_model_module_version": "1.5.0",
            "value": " 843/843 [02:09&lt;00:00, 6.52B/s]",
            "_view_count": null,
            "_view_module_version": "1.5.0",
            "description_tooltip": null,
            "_model_module": "@jupyter-widgets/controls",
            "layout": "IPY_MODEL_18527b1502a14b4b8085bf23b1e70bc4"
          }
        },
        "25bd7e1d3c954f23907c4f6a60fca765": {
          "model_module": "@jupyter-widgets/controls",
          "model_name": "ProgressStyleModel",
          "state": {
            "_view_name": "StyleView",
            "_model_name": "ProgressStyleModel",
            "description_width": "initial",
            "_view_module": "@jupyter-widgets/base",
            "_model_module_version": "1.5.0",
            "_view_count": null,
            "_view_module_version": "1.2.0",
            "bar_color": null,
            "_model_module": "@jupyter-widgets/controls"
          }
        },
        "aefecc561c3b4577bafd38a95252380e": {
          "model_module": "@jupyter-widgets/base",
          "model_name": "LayoutModel",
          "state": {
            "_view_name": "LayoutView",
            "grid_template_rows": null,
            "right": null,
            "justify_content": null,
            "_view_module": "@jupyter-widgets/base",
            "overflow": null,
            "_model_module_version": "1.2.0",
            "_view_count": null,
            "flex_flow": null,
            "width": null,
            "min_width": null,
            "border": null,
            "align_items": null,
            "bottom": null,
            "_model_module": "@jupyter-widgets/base",
            "top": null,
            "grid_column": null,
            "overflow_y": null,
            "overflow_x": null,
            "grid_auto_flow": null,
            "grid_area": null,
            "grid_template_columns": null,
            "flex": null,
            "_model_name": "LayoutModel",
            "justify_items": null,
            "grid_row": null,
            "max_height": null,
            "align_content": null,
            "visibility": null,
            "align_self": null,
            "height": null,
            "min_height": null,
            "padding": null,
            "grid_auto_rows": null,
            "grid_gap": null,
            "max_width": null,
            "order": null,
            "_view_module_version": "1.2.0",
            "grid_template_areas": null,
            "object_position": null,
            "object_fit": null,
            "grid_auto_columns": null,
            "margin": null,
            "display": null,
            "left": null
          }
        },
        "ff538351139d43f583dd536d4b3a55e5": {
          "model_module": "@jupyter-widgets/controls",
          "model_name": "DescriptionStyleModel",
          "state": {
            "_view_name": "StyleView",
            "_model_name": "DescriptionStyleModel",
            "description_width": "",
            "_view_module": "@jupyter-widgets/base",
            "_model_module_version": "1.5.0",
            "_view_count": null,
            "_view_module_version": "1.2.0",
            "_model_module": "@jupyter-widgets/controls"
          }
        },
        "18527b1502a14b4b8085bf23b1e70bc4": {
          "model_module": "@jupyter-widgets/base",
          "model_name": "LayoutModel",
          "state": {
            "_view_name": "LayoutView",
            "grid_template_rows": null,
            "right": null,
            "justify_content": null,
            "_view_module": "@jupyter-widgets/base",
            "overflow": null,
            "_model_module_version": "1.2.0",
            "_view_count": null,
            "flex_flow": null,
            "width": null,
            "min_width": null,
            "border": null,
            "align_items": null,
            "bottom": null,
            "_model_module": "@jupyter-widgets/base",
            "top": null,
            "grid_column": null,
            "overflow_y": null,
            "overflow_x": null,
            "grid_auto_flow": null,
            "grid_area": null,
            "grid_template_columns": null,
            "flex": null,
            "_model_name": "LayoutModel",
            "justify_items": null,
            "grid_row": null,
            "max_height": null,
            "align_content": null,
            "visibility": null,
            "align_self": null,
            "height": null,
            "min_height": null,
            "padding": null,
            "grid_auto_rows": null,
            "grid_gap": null,
            "max_width": null,
            "order": null,
            "_view_module_version": "1.2.0",
            "grid_template_areas": null,
            "object_position": null,
            "object_fit": null,
            "grid_auto_columns": null,
            "margin": null,
            "display": null,
            "left": null
          }
        },
        "716ca76bd2fc47e9affd0c966a375cc7": {
          "model_module": "@jupyter-widgets/controls",
          "model_name": "HBoxModel",
          "state": {
            "_view_name": "HBoxView",
            "_dom_classes": [],
            "_model_name": "HBoxModel",
            "_view_module": "@jupyter-widgets/controls",
            "_model_module_version": "1.5.0",
            "_view_count": null,
            "_view_module_version": "1.5.0",
            "box_style": "",
            "layout": "IPY_MODEL_08d9b371b3e94607b7b42bc4811b1505",
            "_model_module": "@jupyter-widgets/controls",
            "children": [
              "IPY_MODEL_f39b418e71e44df997a5a93c10ce50fe",
              "IPY_MODEL_e64013fe5b91488cb35e191f507c79bb"
            ]
          }
        },
        "08d9b371b3e94607b7b42bc4811b1505": {
          "model_module": "@jupyter-widgets/base",
          "model_name": "LayoutModel",
          "state": {
            "_view_name": "LayoutView",
            "grid_template_rows": null,
            "right": null,
            "justify_content": null,
            "_view_module": "@jupyter-widgets/base",
            "overflow": null,
            "_model_module_version": "1.2.0",
            "_view_count": null,
            "flex_flow": null,
            "width": null,
            "min_width": null,
            "border": null,
            "align_items": null,
            "bottom": null,
            "_model_module": "@jupyter-widgets/base",
            "top": null,
            "grid_column": null,
            "overflow_y": null,
            "overflow_x": null,
            "grid_auto_flow": null,
            "grid_area": null,
            "grid_template_columns": null,
            "flex": null,
            "_model_name": "LayoutModel",
            "justify_items": null,
            "grid_row": null,
            "max_height": null,
            "align_content": null,
            "visibility": null,
            "align_self": null,
            "height": null,
            "min_height": null,
            "padding": null,
            "grid_auto_rows": null,
            "grid_gap": null,
            "max_width": null,
            "order": null,
            "_view_module_version": "1.2.0",
            "grid_template_areas": null,
            "object_position": null,
            "object_fit": null,
            "grid_auto_columns": null,
            "margin": null,
            "display": null,
            "left": null
          }
        },
        "f39b418e71e44df997a5a93c10ce50fe": {
          "model_module": "@jupyter-widgets/controls",
          "model_name": "FloatProgressModel",
          "state": {
            "_view_name": "ProgressView",
            "style": "IPY_MODEL_dd94ca40fb8b484785a867e17aa06750",
            "_dom_classes": [],
            "description": "Downloading: 100%",
            "_model_name": "FloatProgressModel",
            "bar_style": "success",
            "max": 552618653,
            "_view_module": "@jupyter-widgets/controls",
            "_model_module_version": "1.5.0",
            "value": 552618653,
            "_view_count": null,
            "_view_module_version": "1.5.0",
            "orientation": "horizontal",
            "min": 0,
            "description_tooltip": null,
            "_model_module": "@jupyter-widgets/controls",
            "layout": "IPY_MODEL_feca2c1495f8469cb60aa06fff66ffbf"
          }
        },
        "e64013fe5b91488cb35e191f507c79bb": {
          "model_module": "@jupyter-widgets/controls",
          "model_name": "HTMLModel",
          "state": {
            "_view_name": "HTMLView",
            "style": "IPY_MODEL_13469fd028874f99b7b445198c3ee69a",
            "_dom_classes": [],
            "description": "",
            "_model_name": "HTMLModel",
            "placeholder": "​",
            "_view_module": "@jupyter-widgets/controls",
            "_model_module_version": "1.5.0",
            "value": " 553M/553M [00:14&lt;00:00, 38.9MB/s]",
            "_view_count": null,
            "_view_module_version": "1.5.0",
            "description_tooltip": null,
            "_model_module": "@jupyter-widgets/controls",
            "layout": "IPY_MODEL_0c9c574558314b0d877f6e68a1c54ccb"
          }
        },
        "dd94ca40fb8b484785a867e17aa06750": {
          "model_module": "@jupyter-widgets/controls",
          "model_name": "ProgressStyleModel",
          "state": {
            "_view_name": "StyleView",
            "_model_name": "ProgressStyleModel",
            "description_width": "initial",
            "_view_module": "@jupyter-widgets/base",
            "_model_module_version": "1.5.0",
            "_view_count": null,
            "_view_module_version": "1.2.0",
            "bar_color": null,
            "_model_module": "@jupyter-widgets/controls"
          }
        },
        "feca2c1495f8469cb60aa06fff66ffbf": {
          "model_module": "@jupyter-widgets/base",
          "model_name": "LayoutModel",
          "state": {
            "_view_name": "LayoutView",
            "grid_template_rows": null,
            "right": null,
            "justify_content": null,
            "_view_module": "@jupyter-widgets/base",
            "overflow": null,
            "_model_module_version": "1.2.0",
            "_view_count": null,
            "flex_flow": null,
            "width": null,
            "min_width": null,
            "border": null,
            "align_items": null,
            "bottom": null,
            "_model_module": "@jupyter-widgets/base",
            "top": null,
            "grid_column": null,
            "overflow_y": null,
            "overflow_x": null,
            "grid_auto_flow": null,
            "grid_area": null,
            "grid_template_columns": null,
            "flex": null,
            "_model_name": "LayoutModel",
            "justify_items": null,
            "grid_row": null,
            "max_height": null,
            "align_content": null,
            "visibility": null,
            "align_self": null,
            "height": null,
            "min_height": null,
            "padding": null,
            "grid_auto_rows": null,
            "grid_gap": null,
            "max_width": null,
            "order": null,
            "_view_module_version": "1.2.0",
            "grid_template_areas": null,
            "object_position": null,
            "object_fit": null,
            "grid_auto_columns": null,
            "margin": null,
            "display": null,
            "left": null
          }
        },
        "13469fd028874f99b7b445198c3ee69a": {
          "model_module": "@jupyter-widgets/controls",
          "model_name": "DescriptionStyleModel",
          "state": {
            "_view_name": "StyleView",
            "_model_name": "DescriptionStyleModel",
            "description_width": "",
            "_view_module": "@jupyter-widgets/base",
            "_model_module_version": "1.5.0",
            "_view_count": null,
            "_view_module_version": "1.2.0",
            "_model_module": "@jupyter-widgets/controls"
          }
        },
        "0c9c574558314b0d877f6e68a1c54ccb": {
          "model_module": "@jupyter-widgets/base",
          "model_name": "LayoutModel",
          "state": {
            "_view_name": "LayoutView",
            "grid_template_rows": null,
            "right": null,
            "justify_content": null,
            "_view_module": "@jupyter-widgets/base",
            "overflow": null,
            "_model_module_version": "1.2.0",
            "_view_count": null,
            "flex_flow": null,
            "width": null,
            "min_width": null,
            "border": null,
            "align_items": null,
            "bottom": null,
            "_model_module": "@jupyter-widgets/base",
            "top": null,
            "grid_column": null,
            "overflow_y": null,
            "overflow_x": null,
            "grid_auto_flow": null,
            "grid_area": null,
            "grid_template_columns": null,
            "flex": null,
            "_model_name": "LayoutModel",
            "justify_items": null,
            "grid_row": null,
            "max_height": null,
            "align_content": null,
            "visibility": null,
            "align_self": null,
            "height": null,
            "min_height": null,
            "padding": null,
            "grid_auto_rows": null,
            "grid_gap": null,
            "max_width": null,
            "order": null,
            "_view_module_version": "1.2.0",
            "grid_template_areas": null,
            "object_position": null,
            "object_fit": null,
            "grid_auto_columns": null,
            "margin": null,
            "display": null,
            "left": null
          }
        }
      }
    }
  },
  "cells": [
    {
      "cell_type": "markdown",
      "metadata": {
        "id": "view-in-github",
        "colab_type": "text"
      },
      "source": [
        "<a href=\"https://colab.research.google.com/github/zaouiF/json/blob/master/tn_GPT_2_Fine_Tuning.ipynb\" target=\"_parent\"><img src=\"https://colab.research.google.com/assets/colab-badge.svg\" alt=\"Open In Colab\"/></a>"
      ]
    },
    {
      "cell_type": "markdown",
      "metadata": {
        "id": "Xf3Qw77SZGbS"
      },
      "source": [
        "# Setup\n",
        "\n",
        "We will be fine tuning an existing GPT2 model using the interface Hugging Face provides. Fine tuning instead of retraining for a few very simple and pragmatic reasons. First among them these language models requre vast swaths of data and are computationally prohibitively expensive to train. However, by leveraging what is already available we can cut out both of these requirements. This means we can tweak the outputs of the model to suit specific purposes with minimal data and with achievable hardward. This is essentially transfer learning for language generation problems. To start off with we need to install the Huggingface transformers library first. Many of the common scientific libraries are pre-installed on Colab but not this one in particular. Installing transformers will also install tokenizers, a dependency, and another useful set of tools for this task."
      ]
    },
    {
      "cell_type": "code",
      "metadata": {
        "id": "0NmMdkZO8R6q"
      },
      "source": [
        "%%capture\n",
        "!pip install transformers"
      ],
      "execution_count": null,
      "outputs": []
    },
    {
      "cell_type": "markdown",
      "metadata": {
        "id": "ZfdCML6Parvv"
      },
      "source": [
        "# Create Training Set\n",
        "\n",
        "We're going to use the flavor text of existing MTG cards to generate new ones. Luckily, the hard work of scraping the data has been done for us and we can ingest the flavor text from the [Scryfall](https://scryfall.com/advanced) API and quickly parson the json we are returned. \n"
      ]
    },
    {
      "cell_type": "code",
      "metadata": {
        "id": "W-MYTjAIxfBr"
      },
      "source": [
        "# We'll need these libraries to gather and shape the data.\n",
        "import requests \n",
        "import pandas as pd\n",
        "from itertools import compress\n",
        "\n",
        "\n",
        "path_to_file ='text.txt'\n",
        "with open(path_to_file, encoding = \"utf-8\") as file:\n",
        "    t=file.readlines()\n",
        "    cardValues = []\n",
        "    for i in file:\n",
        "      cardValues.append(t)\n",
        "    \n",
        "\n",
        "\n",
        "import pandas as pd\n",
        "\n",
        "\n",
        "\n",
        "# I'll convert this to a data frame to visualize a few rows nicely\n",
        "# mostly just a sanity check.\n",
        "df = pd.DataFrame(t)\n",
        "\n",
        "cards = df.copy()"
      ],
      "execution_count": null,
      "outputs": []
    },
    {
      "cell_type": "code",
      "metadata": {
        "id": "3X6bbc67Btmm",
        "colab": {
          "base_uri": "https://localhost:8080/"
        },
        "outputId": "02a36330-c052-4dd8-801a-0c3dd1fceb45"
      },
      "source": [
        "cards.columns = ['text']\n",
        "t"
      ],
      "execution_count": null,
      "outputs": [
        {
          "output_type": "execute_result",
          "data": {
            "text/plain": [
              "['text\\n',\n",
              " 'ان شاء الله\\n',\n",
              " 'الحلقة لولة من طوكيو ڨول\\n',\n",
              " 'اوكاي\\n',\n",
              " 'ها انا زادا فمة حاجات فارغة والله هاني باش نهبط توا انا ها تو كي نروح نحكيوا\\n',\n",
              " 'انا مبلع بالفارغ\\n',\n",
              " 'على اقل انت عندك حاجات مهمة فيه\\n',\n",
              " 'بك متاعي باش يطرشق نحسو ها لازمني نلم فلوس و نشري دسيق دور\\n',\n",
              " 'اخدمو في ربع ساعة\\n',\n",
              " 'ما فيه شيء\\n',\n",
              " 'لازم لغو نبعثولها ليلة\\n',\n",
              " 'قد ما تنجم\\n',\n",
              " 'هاو في يدك من تو لغدوة التسعة متاع الصباح\\n',\n",
              " 'و نرتاح عينيا\\n',\n",
              " 'دخت انا والله تعبت مال بك ريت توا منجم نعمل ديسيجن حطى شي كنشيش باش يجيوا يعيوض لازم نرتاح\\n',\n",
              " 'ما فيها شيء\\n',\n",
              " 'اي معقول\\n',\n",
              " 'قال لي حاول تصغر فال اللي باش كي تتحت في أوراق تخوف اسباس كبيرة\\n',\n",
              " 'اش بيه\\n',\n",
              " 'عود رجععين اللي لغو لنيك 2 بواب\\n',\n",
              " 'اش يهبل فيك\\n',\n",
              " 'الصورة هذه في احدى الأحياء بالعاصمة راجل يخدم في المرمة في شانطي و مرتو كل نهار تجيب الفطور مع نص النهار و تجيب بنتها و ولدها الصغير و تجي تفطر مع راجلها\\n',\n",
              " 'كانت تنجم تطيبلو فطورو من الليل و يهزو معاه\\n',\n",
              " 'هنا تفهم انها البساطة كنز و انها المحبة و العشرة ماهيش ساهلة و انها التضحية ماهوش بالشرط انها تكون تضحية بحاجات كبيرة حتى تبين حبك للشخص لي معاك\\n',\n",
              " 'لكن هي اختارت انها تتعب و تهز القوايل على راسها باش تفطر هي وراجلها وصغارها\\n',\n",
              " 'أما والله باش نهبل ك بون\\n',\n",
              " 'كي سلكت\\n',\n",
              " 'في خلاصة كلامي بنت الحلال و بنت الاصل كنز\\n',\n",
              " 'نحاولو البوليسية دبشو وضربوه وسحلوه وهانوه\\n',\n",
              " 'أنا كان نعاود نلقاهم توا نعاود نقراهم نعشقهم\\n',\n",
              " 'الي مشربش مل الكاس هذا عمرو ما عرف المطعم الحقيقي للماء و الي مطيحوش فالليل عمرو ما عرف المطعم الحقيقي للبخس\\n',\n",
              " 'فسرولي كيفاش وحدة توصل تكرهك وتغير منك وتمرض منك و انتي ما تعرفهاش وجامي قابلتها ولا حكيت معاها\\n',\n",
              " 'باش يرجع تلميذ صغير جيعان يحب يشبع ويشطح فرحان\\n',\n",
              " 'ايا باهي\\n',\n",
              " 'هاني مروحة توا انا هاني نستنى فال كار\\n',\n",
              " 'جماعة الباك جيبولي سكينة باش نعمل كسكروت أنا مانجمش نمشي للكوجينة تعرفو إلي عندي إمتحاناتتو نحكيوا بعد\\n',\n",
              " 'عاودت رجعتلي خدمت اميلكار\\n',\n",
              " 'هاك قريب تروح\\n',\n",
              " 'اع فديت\\n',\n",
              " 'ملا جو\\n',\n",
              " 'مشاءالله عليك إنشاءالله تكون عزيمتي قوية كيفك يارب\\n',\n",
              " 'في بلادنا العيش اصبح مضني جدا لان الفساد طغى واستشرى فاذا لم يستفيق القضاء وينفض الغبار عن ملفات الفساد ويتصرف بالاستقلالية الكاملة ويصدر احكامه بكل اريحية فلن يقوم للبلاد شان مهما فعل السياسيون الحاليين او القادمين من افكار وابتكارات حتى لو اتو باعتى العباقرة\\n',\n",
              " 'كان مالقيتش حد باهي خليك إنت باهي يمكن حد يلقاك\\n',\n",
              " 'الي يحب عليه\\n',\n",
              " 'و تخليل اكا الخط المدور\\n',\n",
              " 'ما تنجمش تحسنها من داخل\\n',\n",
              " 'ما نعرش\\n',\n",
              " 'انا زادا عجبتني هاذيكا\\n',\n",
              " 'هي الافضل\\n',\n",
              " 'دونك اخر وحدة\\n',\n",
              " 'انت لعبت كان على الستيل متاع التاكست\\n',\n",
              " 'لحظة برك\\n',\n",
              " 'هات رايك\\n',\n",
              " 'مانعرش والله حرت\\n',\n",
              " 'من غير انترنيت\\n',\n",
              " 'مالا شتعمل\\n',\n",
              " 'شوي بركة منيش\\n',\n",
              " 'معدية 150ميغا\\n',\n",
              " 'البارح وفتلي كي جيت باش نبعثلو ل خدمة ع قميل ياخي وفتلي وانا مابعثتش ها\\n',\n",
              " 'مالا فاش وفات\\n',\n",
              " 'مانحلش فيد انا\\n',\n",
              " 'ماو ما تحلش فيديوات\\n',\n",
              " 'البارح زادا هكاكا و مام با شدتني درج\\n',\n",
              " 'نان يوفيلو فيسع وانا ما زالت كي صبيت\\n',\n",
              " 'برتاجي بتليفونك\\n',\n",
              " 'كنكس مقصوصة\\n',\n",
              " 'عندك حق\\n',\n",
              " 'خاصة بالزين هذا\\n',\n",
              " 'ها لا كان لا قل ها\\n',\n",
              " 'لا عندك حق\\n',\n",
              " 'موش حفالت حاشمة داخلة مع ولاد لا اجنس وحدهم فاش قام ها كي يعملولي حاجة انا\\n',\n",
              " 'و انت حشامة\\n',\n",
              " 'جاني مولة ل اجنس الاخرى اللي مقبلتنا قال لي ادخل كان تحب قلت ل ه لا ها و حوما لكلهم ولاد ها\\n',\n",
              " 'جاوش الجماعة\\n',\n",
              " 'يمكن قبيلة هزيت ل كرتبة بال قوي ولى تعاودتهاش بال كرتبة ولى جكب توا منجم نهز بها شي\\n',\n",
              " 'اش فصعها\\n',\n",
              " 'و زيد يدي تفسعت نجمتش نهبط مال كار قبيلة\\n',\n",
              " 'والله لا حالتي حليلة\\n',\n",
              " 'ملا انت\\n',\n",
              " 'شو حالتي ها\\n',\n",
              " 'لا مايعطينيش\\n',\n",
              " 'خوذ المفاتح\\n',\n",
              " 'هاني نستنى\\n',\n",
              " 'هاني توا خلط ما زال ماجا حد\\n',\n",
              " 'وصلت للخدمة مالا\\n',\n",
              " 'ا هاني مش نشرب قهوتي شوي اخر\\n',\n",
              " 'هاي ونك مالا سفا أي هاني ف ثنية\\n',\n",
              " 'خدامة مالا\\n',\n",
              " 'مش كيف كيف\\n',\n",
              " 'و كبتيري\\n',\n",
              " 'كبتيرك\\n',\n",
              " 'شف ل كبت متاعي\\n',\n",
              " 'نان نان جاوبتك\\n',\n",
              " 'هزك النوم\\n',\n",
              " 'مالا تفيتني البارح باز ها\\n',\n",
              " 'و انت ما جاوبتش\\n',\n",
              " 'قتلك اذواق\\n',\n",
              " 'ها أمان يا نوام ها بنج هاك تنجم رقدت موش انا ها\\n',\n",
              " 'يا نوامة\\n',\n",
              " 'صباح الخير\\n',\n",
              " 'وي ها أما هانا تقبلنا في حاجة مشتكرات ها\\n',\n",
              " 'نوب ي دنت ليك ات هه\\n',\n",
              " 'تو تشوف\\n',\n",
              " 'كملها\\n',\n",
              " 'ها يا فاشلين هه ماسطة ملول ها\\n',\n",
              " 'فيسع كملتها\\n',\n",
              " 'عادية\\n',\n",
              " 'اذيكا تحكي على فشلنا احنا الرجال\\n',\n",
              " 'اذيكا هي\\n',\n",
              " 'شسمها\\n',\n",
              " 'ايا باهي\\n',\n",
              " 'ك بون\\n',\n",
              " 'نتصور 2016\\n',\n",
              " 'موش لغادي\\n',\n",
              " 'نان مالقيتش هال مهارح ها و وصلت اللي 2014\\n',\n",
              " 'جاب ربي ما نبرتاجيش برشا انا\\n',\n",
              " 'زادا ها\\n',\n",
              " 'بعيدة شوي راي\\n',\n",
              " 'و ذكرني في اسمها\\n',\n",
              " 'اعمل طلة\\n',\n",
              " 'فيها مهرج\\n',\n",
              " 'موجودة على المير متاعي\\n',\n",
              " 'ها موش مشكل\\n',\n",
              " 'نتفكر في اسمها هارب عليا\\n',\n",
              " 'عندي وحدة\\n',\n",
              " 'ها آية باهي\\n',\n",
              " 'موش رائعين\\n',\n",
              " 'باهين\\n',\n",
              " 'شقولك\\n',\n",
              " 'حلو\\n',\n",
              " 'هاذم اللي حطهم ف ليستة الايامات هاذي ها بخلاف ل باني ها\\n',\n",
              " 'مايهمنش ف لنجو ما عجبوني علخر\\n',\n",
              " 'اتراك تسمع\\n',\n",
              " 'وي ها نكيك منج ها عشيقي ل واحد هاذيكا هه\\n',\n",
              " 'نيكي ميناج\\n',\n",
              " 'باهي انا مقرومة ياسر ب نكيك منج و كاردي ب و أكا اجو ها أما الايامات هاذي تغرما بال أغني هاذم نحسهم يرضحو لعصب ها\\n',\n",
              " 'هات\\n',\n",
              " 'نوريك من جنر انا فال قنيت\\n',\n",
              " 'صارا\\n',\n",
              " 'ها لا غناية هه\\n',\n",
              " 'القلوب\\n',\n",
              " 'ليا انا\\n',\n",
              " 'موش سمارت\\n',\n",
              " 'تليفونك\\n',\n",
              " 'تعبت والله\\n',\n",
              " 'فك عليك\\n',\n",
              " 'باش نشد فرشي نقصد و نسكر ل بك\\n',\n",
              " 'مش ترقد\\n',\n",
              " 'هات قبل مانرقد\\n',\n",
              " 'هاذي\\n',\n",
              " 'زيد شوف بلكشي تلقا ماخير\\n',\n",
              " 'حلوة ها 3 أول مرة نسمع تيب هاذا تاع قنيت ها\\n',\n",
              " 'عجبتك مالا\\n',\n",
              " 'أوي ها\\n',\n",
              " 'اما هاذوم في نيفو اخر\\n',\n",
              " 'روك عل أوراب ها ي ليك ات 3 كيما ميرات\\n',\n",
              " 'نوع اخر\\n',\n",
              " 'أوراب\\n',\n",
              " 'باهي\\n',\n",
              " 'لحظة\\n',\n",
              " 'حلوة ماهيش خايبة ها\\n',\n",
              " 'جرب و قلي\\n',\n",
              " 'باهي هاني شنججز\\n',\n",
              " 'لا لا لا ها\\n',\n",
              " 'حط هاذي\\n',\n",
              " 'ما لقيت شي\\n',\n",
              " 'اعطيني ساعة غناية تصلح خنثحولة\\n',\n",
              " 'قداه تحب\\n',\n",
              " 'عندك حق\\n',\n",
              " 'شفت كيفاش ها\\n',\n",
              " 'لا عندي فلوس\\n',\n",
              " 'ياخي ماك تخلص حساتني ماعندكش فلوس ها\\n',\n",
              " 'معناها منين مش نعطيك الفلوس\\n',\n",
              " 'فهمتش شمعنها منين شتجيب ها فهمتش\\n',\n",
              " 'منين مش نجيبلك\\n',\n",
              " 'كونش نفدلك\\n',\n",
              " 'ما تنجم زادا قلت لي باش نخلصش نان ها\\n',\n",
              " 'ما فيه حتى كذبة\\n',\n",
              " 'هذا بكلو صحيح\\n',\n",
              " 'اللي يحفر حفرة السوء ما يحفر الا قياسو يدور الهم لكيا حافر حفرة السوء قال\\n',\n",
              " 'ما يرجع الا لراسو يحكيو علي سلطان كان خايف ربي واللي يحفر حفرة السوء ما يحفر الا قياسو يدور الهم\\n',\n",
              " 'يقدر اهل العلم و يعظم رجال الدين صلاي حافظ كلام وما يرجع الا لراسو يحكيو علي سلطان كان خايف ربي\\n',\n",
              " 'يعظم رجال الدين صلاي حافظ كلام ربي لكن يشوف في ويحكيو علي سلطان كان خايف ربي و يقدر اهل العلم\\n',\n",
              " 'الجوامع فارغه تطمبر قعد يخمم كيفاش يعمل معاهم باش يردهم وربي لكن يشوف في الرعية متاعو موش قايمين بفرايض دينهم\\n',\n",
              " 'الطهر ها الناس لا يعرفوا لا يغسلوا لا ينظفوا أبدانهم ومعاهم باش يردهم للطريق المستقيم قال من اركان الدين النظافة\\n',\n",
              " 'النظافة توصل للوضوء للصلاة قال نعمل حمام و الي يجيء وفيهم لحموا يتقرقش بالسكينة هات قبل كل شيء نعلمهم النظافة\\n',\n",
              " 'الي يجيء يغسل بلاش كفن بلا فلوس كل نفس ذايقة ونعلمهم النظافة و النظافة توصل للوضوء للصلاة قال نعمل حمام\\n',\n",
              " 'الحاكم العاقل كيف يحب يرغب الناس في حاجة يعملهالهم في ويجيء يغسل بلاش كفن بلا فلوس كل نفس ذايقة الموت\\n',\n",
              " 'الشبابك جاب الدهان شهرين وهو يدهن عمل الفيليتوات و القرنيزة والأول بلاش جاب البناي بني لو حمام هايل ركبوا البيبان\\n',\n",
              " 'القرنيزة محابس النوار صيد مربوط في نخلة زوز حمامات و والبيبان و الشبابك جاب الدهان شهرين وهو يدهن عمل الفيليتوات\\n',\n",
              " 'بيناتهم خمسة ركب الكواتروات سيدنا علي و الحسن و الحسين وو القرنيزة محابس النوار صيد مربوط في نخلة زوز حمامات\\n',\n",
              " 'الحسن و الحسين باسم الله الرحمان الرحيمن فاز من ظفر ونخلة زوز حمامات و بيناتهم خمسة ركب الكواتروات سيدنا علي\\n',\n",
              " 'الحسين باسم الله الرحمان الرحيمن فاز من ظفر بالدين خرج وحمامات و بيناتهم خمسة ركب الكواتروات سيدنا علي و الحسن\\n',\n",
              " 'الغسيل بلاش في حمام السلطان و جاب البناي حطو في وكيف العروسه خرج البراح يدور في البلاد النظافة من الايمان\\n',\n",
              " 'جاب البناي حطو في الحمام و عمل لو شهرية و والبلاد النظافة من الايمان و الغسيل بلاش في حمام السلطان\\n',\n",
              " 'عمل لو شهرية و ولي هاك الحمام بالبعبوص دق بلا وبلاش في حمام السلطان و جاب البناي حطو في الحمام\\n',\n",
              " 'ولي هاك الحمام بالبعبوص دق بلا حق أشكون الي يلحقلو وو جاب البناي حطو في الحمام و عمل لو شهرية\\n',\n",
              " 'يدخل يعمل طياب و شيخ قاعد في المحرس يعلم في وهاك الحمام بالبعبوص دق بلا حق أشكون الي يلحقلو الطريق\\n',\n",
              " 'شيخ قاعد في المحرس يعلم في الناس في الوضوء و وبلا حق أشكون الي يلحقلو الطريق و يدخل يعمل طياب\\n',\n",
              " 'الصلاة و هاك البناي عامل لسين يغزل لحرير سيدي سيدي وو شيخ قاعد في المحرس يعلم في الناس في الوضوء\\n',\n",
              " 'هاك البناي عامل لسين يغزل لحرير سيدي سيدي و النهار وقاعد في المحرس يعلم في الناس في الوضوء و الصلاة\\n',\n",
              " 'النهار لكل و هو يجري و يطيح هذا يمدلو البشاكر والصلاة و هاك البناي عامل لسين يغزل لحرير سيدي سيدي\\n',\n",
              " 'هو يجري و يطيح هذا يمدلو البشاكر هذا يدوروا القبقاب والبناي عامل لسين يغزل لحرير سيدي سيدي و النهار لكل\\n',\n",
              " 'يطيح هذا يمدلو البشاكر هذا يدوروا القبقاب هذا يجيبلو شربية ويغزل لحرير سيدي سيدي و النهار لكل و هو يجري\\n',\n",
              " 'ولاه يحسنولو و لي يقبض فيهم جوانب و كل يوم وهذا يدوروا القبقاب هذا يجيبلو شربية ماء حتي حبوه الناس\\n',\n",
              " 'لي يقبض فيهم جوانب و كل يوم علي قسم جديد وهذا يجيبلو شربية ماء حتي حبوه الناس و ولاه يحسنولو\\n',\n",
              " 'كل يوم علي قسم جديد و تنفنفت أحوالو و الشهرية وحبوه الناس و ولاه يحسنولو و لي يقبض فيهم جوانب\\n',\n",
              " 'تنفنفت أحوالو و الشهرية متع السلطان هذيكة كل شهر يخليها ولي يقبض فيهم جوانب و كل يوم علي قسم جديد\\n',\n",
              " 'الشهرية متع السلطان هذيكة كل شهر يخليها علي جهة ما وجوانب و كل يوم علي قسم جديد و تنفنفت أحوالو\\n',\n",
              " 'انا دهنت علاش حطو هو في الحمام وموش أنا و وعلي جهة ما يجبدهاش حسدو سي الدهان قال هو بني\\n',\n",
              " 'في عوض الي هو قاعد يصور في الميات و الألوف وو انا دهنت علاش حطو هو في الحمام وموش أنا\\n',\n",
              " 'الألوف و يكنز علاش موش أنا لكن هاو نربط هالو وأنا و في عوض الي هو قاعد يصور في الميات\\n',\n",
              " 'يكنز علاش موش أنا لكن هاو نربط هالو طلع للسلطان وفي عوض الي هو قاعد يصور في الميات و الألوف\\n',\n",
              " 'تفضلت عليها و عملت حمام و الغسيل بلاش و ها وهالو طلع للسلطان قال يا سيدي انت تكرمت علي الرعية\\n',\n",
              " 'عملت حمام و الغسيل بلاش و ها الراجل الي حطيتو وقال يا سيدي انت تكرمت علي الرعية و تفضلت عليها\\n',\n",
              " 'الغسيل بلاش و ها الراجل الي حطيتو في الحمام راهو وانت تكرمت علي الرعية و تفضلت عليها و عملت حمام\\n',\n",
              " 'ها الراجل الي حطيتو في الحمام راهو يدفع في الناس والرعية و تفضلت عليها و عملت حمام و الغسيل بلاش\\n',\n",
              " 'المطهرة بقداش و الناس ياسيدي راهم قاعدين يتضجرو منو و والي حطيتو في الحمام راهو يدفع في الناس الطياب بقداش\\n',\n",
              " 'الناس ياسيدي راهم قاعدين يتضجرو منو و نزيدك زيادة ثمه والحمام راهو يدفع في الناس الطياب بقداش و المطهرة بقداش\\n',\n",
              " 'نزيدك زيادة ثمه ناس من هاك المشوشين يقولوا الي هو وو المطهرة بقداش و الناس ياسيدي راهم قاعدين يتضجرو منو\\n',\n",
              " 'توه من فم شكون تسمعها السلطان ولي حمامجي قال شنوه ويعمل فيه من راسو الفلوس قاعد يحاسب بيهم في السلطان\\n',\n",
              " 'ارميه في البحر وبره انت يا دهان اقعد في بقعتو وسمع من المتهوم قال وزير هز البناي حطو في شكاره\\n',\n",
              " 'الأخير الوزير جا باش يتكلم خاف علي نفسو ماش يقول وفي بقعتو في الحمام يا حافر حفرة السوء الجزء الثاني\\n',\n",
              " 'ابحث وحتي يشهدوا لك الناس لكن شاف السلطان مغشش و ولو يا سيدي بالك هالراجل يكذب بالك بناتهمش أغراض استخبر\\n',\n",
              " 'الناس لكن شاف السلطان مغشش و شلاغمو تتنمبر و شعرو لكهالراجل يكذب بالك بناتهمش أغراض استخبر و ابحث وحتي يشهدوا\\n',\n",
              " 'شلاغمو تتنمبر و شعرو مفيش سكت عند الاول فرق الحكم وو ابحث وحتي يشهدوا لك الناس لكن شاف السلطان مغشش\\n',\n",
              " 'شعرو مفيش سكت عند الاول فرق الحكم روح الوزير لدارو ويشهدوا لك الناس لكن شاف السلطان مغشش و شلاغمو تتنمبر\\n',\n",
              " 'الدهان حاسدك و ننجم ما نفذش الحكم لكن علي شرط وقالو آش عملت من عيب قالو نعرف الي انت مظلوم\\n',\n",
              " 'ننجم ما نفذش الحكم لكن علي شرط اقعد عندي هونية ومن عيب قالو نعرف الي انت مظلوم و الدهان حاسدك\\n',\n",
              " 'يخبر السلطان راهو راسي يلعب بين ساقيا وانا عملت معاك وآش يعمل ربي علي خاطر اذا كان يشوفك بعض الحد\\n',\n",
              " 'طلع للسلطان قال نفذت الحكم المطاع و ربي يبقي سيدنا وعندو بيت في الجنينة الجنينة داير بيها سور حطو فيها\\n',\n",
              " 'ربي يبقي سيدنا و سي الدهان مشي تنصب في الحمام وسور حطو فيها و طلع للسلطان قال نفذت الحكم المطاع\\n',\n",
              " 'سي الدهان مشي تنصب في الحمام ووقتها ولي غديكة الدفوع وطلع للسلطان قال نفذت الحكم المطاع و ربي يبقي سيدنا\\n',\n",
              " 'الدفوع بالمسبق بره يا زمان ويجي يازمان نهار السلطان عندو والاحسان وواحد يعطي واربعة خمسة ما يعطيوش ولي الحمام بالطريفة\\n',\n",
              " 'مدلدل يدو في الماء و تملص الخاتم من صبعو طاح وبابورينو متع نزهة خرج يتفسح في البحرهو قاعد علي الكويطره\\n',\n",
              " 'تملص الخاتم من صبعو طاح في البحر خاتم طاح في وفي البحرهو قاعد علي الكويطره و مدلدل يدو في الماء\\n',\n",
              " 'هبطوا هاك الحوت قال هزوا باي لدار فلان و باي وهاك البابورينو يصطادو في الحوت برزو نهارتها كيف روح للسراية\\n',\n",
              " 'باي لدار فلان منهم باي لدار لوزير الوزير قاعد في وللسراية و هبطوا هاك الحوت قال هزوا باي لدار فلان\\n',\n",
              " 'جابوا كيف ما تقول انت كنسترو بالحوت قالو هاذية من ولدار فلان منهم باي لدار لوزير الوزير قاعد في دارو\\n',\n",
              " 'هزها هاذي لهاك البناي مسكين قلو يدبر راسو فيها يشوي لهالكن فبل ما تهز الكنسترو اختار منو حوتة باهية قال\\n',\n",
              " 'الا يعمل كيف ما يحب هزت هاك الحوتة للبناي حكها وهزها هاذي لهاك البناي مسكين قلو يدبر راسو فيها يشوي\\n',\n",
              " 'جبد الفرت متاعها و يلقي في وسطها خاتم خزرلو ثبت وهاك الحوتة للبناي حكها في الماء شد قشرها هو شقها\\n',\n",
              " 'يلقي في وسطها خاتم خزرلو ثبت فيه مليح يلقاه خاتم وفي الماء شد قشرها هو شقها و جبد الفرت متاعها\\n',\n",
              " 'قبل ما يدخل يغسل يخلي عندو اسطوشو و سلسلة و وما يغباش فيه السلطان مستانس كل نهار جمعة يجيء للحمام\\n',\n",
              " 'سلسلة و منقالة و خاتمو رمي الخاتم في مكتوبو و ويجيء للحمام و قبل ما يدخل يغسل يخلي عندو اسطوشو\\n',\n",
              " 'منقالة و خاتمو رمي الخاتم في مكتوبو و قام مشي وو قبل ما يدخل يغسل يخلي عندو اسطوشو و سلسلة\\n',\n",
              " 'خاتمو رمي الخاتم في مكتوبو و قام مشي للوزير قالو وما يدخل يغسل يخلي عندو اسطوشو و سلسلة و منقالة\\n',\n",
              " 'قام مشي للوزير قالو سيدي نحبك تقابل بي السلطان اشنيه وو سلسلة و منقالة و خاتمو رمي الخاتم في مكتوبو\\n',\n",
              " 'السلطان اشنيه قالو هذا كفويا علي خاطر عصيت امرو و بيفي مكتوبو و قام مشي للوزير قالو سيدي نحبك تقابل\\n',\n",
              " 'خبيتك و عتقتك من الموت تحبو اليوم يبخر بلحمي هكه وبي السلطان اشنيه قالو هذا كفويا علي خاطر عصيت امرو\\n',\n",
              " 'عتقتك من الموت تحبو اليوم يبخر بلحمي هكه اتق شر واشنيه قالو هذا كفويا علي خاطر عصيت امرو و خبيتك\\n',\n",
              " 'خليني ندبر راسي قالو انخمم بات الليل لكل النوم ما وكيف يسألك قول الي انت نفذت امرو ورميتني في البحر\\n',\n",
              " 'علي اليسار جا باش حامبة حل الباب علي فردتين و وخرج السلطان للمحكمة دخل الوزير الدايره الفركاوات تصففو علي اليمين\\n',\n",
              " 'قال سيدي حاضر يا شكاية و سي البناي داخل هو وو علي اليسار جا باش حامبة حل الباب علي فردتين\\n',\n",
              " 'سي البناي داخل هو الاول قدم و خر عطي كار وحل الباب علي فردتين و قال سيدي حاضر يا شكاية\\n',\n",
              " 'خر عطي كار السلطنة السلطان غزرلو قال آه هدا موش وحاضر يا شكاية و سي البناي داخل هو الاول قدم\\n',\n",
              " 'ترميه في البحر قالو يا سيدي امرك مطاع و ما وهدا موش البناي وزير موش آذنتك باش تحطو في شكارة\\n',\n",
              " 'ما نخالفش عليه حطيتو في شكارة و خيطت عليه و وشكارة و ترميه في البحر قالو يا سيدي امرك مطاع\\n',\n",
              " 'خيطت عليه و زدت ربطت فيها حجره و جيت لغريق وسيدي امرك مطاع و ما نخالفش عليه حطيتو في شكارة\\n',\n",
              " 'زدت ربطت فيها حجره و جيت لغريق البحر ورميتو ما وو ما نخالفش عليه حطيتو في شكارة و خيطت عليه\\n',\n",
              " 'جيت لغريق البحر ورميتو ما نعرفش كيفاش اليوم هاو حي وفي شكارة و خيطت عليه و زدت ربطت فيها حجره\\n',\n",
              " 'السلام من خوك سلطان البحر قال لو شنوه هو ثمه لكولدي احكي لي قصتك وين كنت قالو يا سيدي جبت\\n',\n",
              " 'خيط علي وزاد ثقلني بحجره الله يجازيه خير و رماني وقالو اي نعم يا سيدي سيدي الوزير حطني في شكاره\\n',\n",
              " 'رماني في البحر غطست سعدك و المسعودين جيت قد قد وشكاره و خيط علي وزاد ثقلني بحجره الله يجازيه خير\\n',\n",
              " 'المسعودين جيت قد قد قدام السراية متاع سلطان البحر شدوني وبحجره الله يجازيه خير و رماني في البحر غطست سعدك\\n',\n",
              " 'حكيت من الجملة حتي علي الحمام الي بنيت هولك يا وكيف سبتك حكيت لو قلت لو الي أنا صنعتي بناي\\n',\n",
              " 'هاذي المدة لكل وانا نبني و ما كمل الحمام الا وقال لي ابني لي حمام كيف الي بنيتو لسلطان البر\\n',\n",
              " 'ما كمل الحمام الا البارح برك اليوم علي الفجر قال والي بنيتو لسلطان البر و هاذي المدة لكل وانا نبني\\n',\n",
              " 'سلم علي خويا السلطان وقول لو يعمل مزية يبعث لي وبرك اليوم علي الفجر قال لي توة ماش نرجعك للبر\\n',\n",
              " 'عطاني يا سيدي ها الخاتم قال لي ادي هولو مد ويبعث لي الدهان الي دهن لو الحمام متاعو وهاو الاماره\\n',\n",
              " 'يستناني و جيبو الدهان مقابله للحرس فيسع باش منخليوش خويا وجيبوا الدهان بره يا باش حامبه قول للرايس يحضر البابورينو\\n',\n",
              " 'جيبو الدهان مقابله للحرس فيسع باش منخليوش خويا سلطان البحر وبره يا باش حامبه قول للرايس يحضر البابورينو و يستناني\\n',\n",
              " 'قصدني ما نعطلوش حضرت الكروسة مقابله الحرس طلعوا للبابورينو الدهان وفيسع باش منخليوش خويا سلطان البحر يستني هو احتاج لي\\n',\n",
              " 'نحبك تهنيني و تخدم لو خدمة في طريقها تمشيشي تحشمني ولي قال يحب نبعثلو الدهان متاعي اماله هاوكه سلم عليه\\n',\n",
              " 'تخدم لو خدمة في طريقها تمشيشي تحشمني معاه الدهن فهم ونبعثلو الدهان متاعي اماله هاوكه سلم عليه و نحبك تهنيني\\n',\n",
              " 'عرف الي صاحبو البناي هو الي ربطهالو و المسلفه في ولو خدمة في طريقها تمشيشي تحشمني معاه الدهن فهم النازله\\n',\n",
              " 'المسلفه في لغنم مردوده لكن آش ماش يقول قعد يخمم وفهم النازله و عرف الي صاحبو البناي هو الي ربطهالو\\n',\n",
              " 'منها قال لو حاضر يا سيدي و أمر السلاطين طاعة ولكن آش ماش يقول قعد يخمم في حيلة باش يمنع\\n',\n",
              " 'أمر السلاطين طاعة و كون متهني الهناء التام لكن أنا وحيلة باش يمنع و منها قال لو حاضر يا سيدي\\n',\n",
              " 'كون متهني الهناء التام لكن أنا توة ماشي سامحني نمشي ومنها قال لو حاضر يا سيدي و أمر السلاطين طاعة\\n',\n",
              " 'الشيت من الشيت الكبارمتع التبييض لشيت بو ثلاثه شعرات القرينزه وماعون هو خصيص في الماعون الدهن عندو علي كل لون\\n',\n",
              " 'ثلاثه شعرات القرينزه شيت الفيليتوات كل شي عندو بالبرشت لا بوعلي كل لون و الشيت من الشيت الكبارمتع التبييض لشيت\\n',\n",
              " 'نخيط عليه بيدي انا نعرف كيفاش و دخلو في الشكاره وأي الشكارة جابو الشكارة قال البناي هات أنا نحطو فيها\\n',\n",
              " 'دخلو في الشكاره و خيط عليه خياطتين و ربط فيها وأنا نحطو فيها و نخيط عليه بيدي انا نعرف كيفاش\\n',\n",
              " 'خيط عليه خياطتين و ربط فيها حجره و منها قال ونخيط عليه بيدي انا نعرف كيفاش و دخلو في الشكاره\\n',\n",
              " 'ربط فيها حجره و منها قال هدي شوية ثماشي حجرة ونعرف كيفاش و دخلو في الشكاره و خيط عليه خياطتين\\n',\n",
              " 'منها قال هدي شوية ثماشي حجرة اخري ربط حجرتين وهزو وفي الشكاره و خيط عليه خياطتين و ربط فيها حجره\\n',\n",
              " 'قال لو ايا بره في الامان و سلم لي علي وحجرة اخري ربط حجرتين وهزو هو بيدو ورماه في البحر\\n',\n",
              " 'سلم لي علي السلطان و بوس لي يدو راهو خيرو وورماه في البحر و قال لو ايا بره في الامان\\n',\n",
              " 'بوس لي يدو راهو خيرو في كرشي و براس خويا ولو ايا بره في الامان و سلم لي علي السلطان\\n',\n",
              " 'براس خويا ما تحشمنيش معاه و ياحافر حفرة السو ما وعلي السلطان و بوس لي يدو راهو خيرو في كرشي\\n',\n",
              " 'ياحافر حفرة السو ما تحفر الا قياسك قرد موالف ولي وراهو خيرو في كرشي و براس خويا ما تحشمنيش معاه\\n',\n",
              " 'قام قعد بلا فطور في العشاء كيف كيف الماكلة الي وطيبت عجة موش مستانس ياكل العجة حطها قدامو خزرلها شمها\\n',\n",
              " 'الماكلة الموجودة ما كانش يعرفها في السابق و مستانس لباس وفطور في العشاء كيف كيف الماكلة الي مستانس بيها مالقاهاش\\n',\n",
              " 'مستانس لباس مايلبس الا الملف المليح و الحرير المهم و وبيها مالقاهاش و الماكلة الموجودة ما كانش يعرفها في السابق\\n',\n",
              " 'الحرير المهم و البرنوس الجريدي هذمكه ما عادش يطولهم حويجاتو ويعرفها في السابق و مستانس لباس مايلبس الا الملف المليح\\n',\n",
              " 'البرنوس الجريدي هذمكه ما عادش يطولهم حويجاتو تهرات و ما وو مستانس لباس مايلبس الا الملف المليح و الحرير المهم\\n',\n",
              " 'ما عندوش باش يشري بطل الخرجه من الدار و ما والمهم و البرنوس الجريدي هذمكه ما عادش يطولهم حويجاتو تهرات\\n',\n",
              " 'ما ياكل الا وقت الي يتقطع بالشر و تظلام عينيه وتهرات و ما عندوش باش يشري بطل الخرجه من الدار\\n',\n",
              " 'تظلام عينيه و يشرف علي الهلاك و النهار الكل و ومن الدار و ما ياكل الا وقت الي يتقطع بالشر\\n',\n",
              " 'يشرف علي الهلاك و النهار الكل و هو يخمم زعمه وما ياكل الا وقت الي يتقطع بالشر و تظلام عينيه\\n',\n",
              " 'النهار الكل و هو يخمم زعمه منين يدبر باش يلبس والي يتقطع بالشر و تظلام عينيه و يشرف علي الهلاك\\n',\n",
              " 'هو يخمم زعمه منين يدبر باش يلبس و ياكل حتي وو تظلام عينيه و يشرف علي الهلاك و النهار الكل\\n',\n",
              " 'ياكل حتي لين تفكر صاحبو الي دارباه للمهالك ليله بعد والنهار الكل و هو يخمم زعمه منين يدبر باش يلبس\\n',\n",
              " 'قاعه المرا ما ثماش هزت نفسها و مشات لدار بوها وتحبلو نصيف شهرآخر رجع علي نفسو للدار لقي الدار سقف\\n',\n",
              " 'مشات لدار بوها ماعادتش تنجم تقاسي هاك الهم قال الي ولقي الدار سقف و قاعه المرا ما ثماش هزت نفسها\\n',\n",
              " 'الي يبيعك بالفول بيعو بالقشور و منها قال مرتي مرتي وتقاسي هاك الهم قال الي يهرب منك ما تجري وراه\\n',\n",
              " 'منها قال مرتي مرتي الي جمالها يضربو بيه الأمثال و ومنك ما تجري وراه و الي يبيعك بالفول بيعو بالقشور\\n',\n",
              " 'قعد يخمم يخلط عليها و يمشي يلحلح و يزقدح و وو منها قال مرتي مرتي الي جمالها يضربو بيه الأمثال\\n',\n",
              " 'يمشي يلحلح و يزقدح و يبوس اليدين ثماشي ما بوها والي جمالها يضربو بيه الأمثال و قعد يخمم يخلط عليها\\n',\n",
              " 'يزقدح و يبوس اليدين ثماشي ما بوها يتنهزر فيها و وبيه الأمثال و قعد يخمم يخلط عليها و يمشي يلحلح\\n',\n",
              " 'يبوس اليدين ثماشي ما بوها يتنهزر فيها و يقول لها وو قعد يخمم يخلط عليها و يمشي يلحلح و يزقدح\\n',\n",
              " 'يقول لها قوم روح مع راجلك و منها قال لا وو يزقدح و يبوس اليدين ثماشي ما بوها يتنهزر فيها\\n',\n",
              " 'قوم روح مع راجلك و منها قال لا نمشيلها لا لهاو يبوس اليدين ثماشي ما بوها يتنهزر فيها و يقول\\n',\n",
              " 'منها قال لا نمشيلها لا نكبر لها راسها آما ها وبوها يتنهزر فيها و يقول لها قوم روح مع راجلك\\n',\n",
              " 'راسها آما ها البلاد الي كنت فيها في عين صبحت لهاروح مع راجلك و منها قال لا نمشيلها لا نكبر\\n',\n",
              " 'في هاك الليل شد الثنية لوين ماشي ارض الله واسعة وفي عين صبحت في عين ما عادتش نقيم فيها قد\\n',\n",
              " 'فين يلقي غدير يشرب منو حتي خلطت عليه قافله بدا وشد الثنية لوين ماشي ارض الله واسعة ياكل في الحشيش\\n',\n",
              " 'المرحوم عندو عليه مزايا لاباس عليك آش و قع لك وولد فلان الفلاني طلع التاجر مولي هاك القافله يعرف بوه\\n',\n",
              " 'قع لك حكي لو حن عليه قلبو و سخف قالوأنا ويعرف بوه و المرحوم عندو عليه مزايا لاباس عليك آش\\n',\n",
              " 'حكي لو حن عليه قلبو و سخف قالوأنا ما عنديش لكو المرحوم عندو عليه مزايا لاباس عليك آش و قع\\n',\n",
              " 'سخف قالوأنا ما عنديش ولاد نعملك ولدي استبناه ولي هو وعليك آش و قع لك حكي لو حن عليه قلبو\\n',\n",
              " 'الولد يشد العسه ورادد بالو أكثر منو حتي وصلو لبقعه وقالوأنا ما عنديش ولاد نعملك ولدي استبناه ولي هو يرقد\\n',\n",
              " 'العباد ولات تتغاغي بالعطش بركوا ما عاد حد ينجم يمشي ووصلو لبقعه ما فيهاش ماء النهار الأول الثاني الثالث الزوايل\\n',\n",
              " 'شد الثنية نهار نهارين الثالث وصل لبير و هذا العازب ويا بابا اقعدوا انتم هوني وانا نمشي ندبرلكم في الماء\\n',\n",
              " 'هذا العازب واقف و سالل شاكريه السلام عليكم و عليكم وفي الماء و شد الثنية نهار نهارين الثالث وصل لبير\\n',\n",
              " 'سالل شاكريه السلام عليكم و عليكم السلام لا باس آش والثنية نهار نهارين الثالث وصل لبير و هذا العازب واقف\\n',\n",
              " 'عليكم السلام لا باس آش جاي تعمل قال لو حاجتي ولبير و هذا العازب واقف و سالل شاكريه السلام عليكم\\n',\n",
              " 'تقرب راسكلبعد يلعب بين ساقيك و كان جاوبت عليهم تفضل وسؤالات اذا كان متجاوبش عليهم لا ثمة لا ماء لاشيء\\n',\n",
              " 'كان جاوبت عليهم تفضل قالو مليح اشنوه ها السؤالات قال وثمة لا ماء لاشيء و تقرب راسكلبعد يلعب بين ساقيك\\n',\n",
              " 'خيار الملبوس و خيار الزواج اشنوه خيار الماكول نعرف عليه وقالو مليح اشنوه ها السؤالات قال لو اشنوه خيار الماكول\\n',\n",
              " 'خيار الزواج اشنوه خيار الماكول نعرف عليه أنا بدا يخمم وها السؤالات قال لو اشنوه خيار الماكول و خيار الملبوس\\n',\n",
              " 'منها تفكر تفكر كيفاش مات بالشر خاطرو ما حبش ياكل وخيار الزواج اشنوه خيار الماكول نعرف عليه أنا بدا يخمم\\n',\n",
              " 'خير اللباس ما ستر اي و خيار الزواج قال لو وبيها حتي ولي مشتاقها قال لو خيار الماكول ما حضر\\n',\n",
              " 'خيار الزواج قال لو خيار الزواج تفكر مرتو الجميله الي وخيار الماكول ما حضر و خير اللباس ما ستر اي\\n',\n",
              " 'عبي قد الي يظهرلك وهاك الولد هذاكه طلع ولد سلطان وغزال شرود بارك الله فيك قال لو ايا تفضل اشرب\\n',\n",
              " 'أديب و فهيم مع قلب المستبلي ضيق ماخذلو بوه بنت ووهاك الولد هذاكه طلع ولد سلطان عجبو وخينا لقاه ظريف\\n',\n",
              " 'فهيم مع قلب المستبلي ضيق ماخذلو بوه بنت سلطان آخر وهذاكه طلع ولد سلطان عجبو وخينا لقاه ظريف و أديب\\n',\n",
              " 'كلمة كلمتين تمشي لبلاد بوها ها الكلمه جاتو عالمضمار رمي وأكبر من بوه جمالها يضربو بيه الأمثال زاده امرتلو عيشتو\\n',\n",
              " 'هزو معاه للسرايا و هاك الجماعة متاع القافله بعثو جابوهم وتمشي لبلاد بوها ها الكلمه جاتو عالمضمار رمي عليه الصحبة\\n',\n",
              " 'هاك الجماعة متاع القافله بعثو جابوهم و قدمو لبوه عجبو والكلمه جاتو عالمضمار رمي عليه الصحبة و هزو معاه للسرايا\\n',\n",
              " 'قدمو لبوه عجبو كيف ما عجب ولدو و عطاه بنتو وهزو معاه للسرايا و هاك الجماعة متاع القافله بعثو جابوهم\\n',\n",
              " 'عطاه بنتو حبا دبا شد في الحيط و مشي لينا وبعثو جابوهم و قدمو لبوه عجبو كيف ما عجب ولدو\\n',\n",
              " 'مشي لينا مديدة علي حكاية من حكايات العروي و هاذي وعجب ولدو و عطاه بنتو حبا دبا شد في الحيط\\n',\n",
              " 'هاذي عجبتني خاصة علي المقدمة متاعها و حتي لخر متاعها والحيط و مشي لينا مديدة علي حكاية من حكايات العروي\\n',\n",
              " 'حتي لخر متاعها ماهوش دوني و الجوهر زادة مزيان يحكيو ومن حكايات العروي و هاذي عجبتني خاصة علي المقدمة متاعها\\n',\n",
              " 'الجوهر زادة مزيان يحكيو علي تاجر تاجر من هاك التجار وخاصة علي المقدمة متاعها و حتي لخر متاعها ماهوش دوني\\n',\n",
              " 'البرور بلا حساب لكن ما عندوش اولاد ما عندوش هاك والمال الي ما يحصي عدادو الا الله قوافلو في الصحاري\\n',\n",
              " 'طلب ربي يرزقو بوليد و كان باب الدعاء مفتوح ربي وليلة من اليالي بعد ما صلي بسط كفوفو لعالي السماء\\n',\n",
              " 'كان باب الدعاء مفتوح ربي استجاب لدعاه المرا طلع عليها وصلي بسط كفوفو لعالي السماء و طلب ربي يرزقو بوليد\\n',\n",
              " 'ثلاثة شحم و ثلاثة ينظف منهم الشحم و العظم المرا وربي استجاب لدعاه المرا طلع عليها الشهر صحيح ثلاثة دم\\n',\n",
              " 'ثلاثة ينظف منهم الشحم و العظم المرا طلت كرشها كيف والمرا طلع عليها الشهر صحيح ثلاثة دم و ثلاثة شحم\\n',\n",
              " 'العظم المرا طلت كرشها كيف التنين قدامها و هي تسخايل وثلاثة دم و ثلاثة شحم و ثلاثة ينظف منهم الشحم\\n',\n",
              " 'هي تسخايل بالواري كانها شقف من شقوفات راجلها و هو ومنهم الشحم و العظم المرا طلت كرشها كيف التنين قدامها\\n',\n",
              " 'هو يصلي عالنبي و يسمي باسم الله و يا ساتر وقدامها و هي تسخايل بالواري كانها شقف من شقوفات راجلها\\n',\n",
              " 'يسمي باسم الله و يا ساتر تستر أيا قام عليها وبالواري كانها شقف من شقوفات راجلها و هو يصلي عالنبي\\n',\n",
              " 'يا ساتر تستر أيا قام عليها الحس طلقت طلقه جابت وشقوفات راجلها و هو يصلي عالنبي و يسمي باسم الله\\n',\n",
              " 'بوق البواقين و ليد في دار المشتاقين سبعة أيام و وأيا قام عليها الحس طلقت طلقه جابت ولد قد الفلقه\\n',\n",
              " 'ليد في دار المشتاقين سبعة أيام و سبعة ليالي و والحس طلقت طلقه جابت ولد قد الفلقه و بوق البواقين\\n',\n",
              " 'سبعة ليالي و دار سي التاجر تطعم و ساعة ساعة وو بوق البواقين و ليد في دار المشتاقين سبعة أيام\\n',\n",
              " 'دار سي التاجر تطعم و ساعة ساعة يتكيوا علي بقر وو ليد في دار المشتاقين سبعة أيام و سبعة ليالي\\n',\n",
              " 'ساعة ساعة يتكيوا علي بقر يذبحوه و العصايد قصاع و وسبعة أيام و سبعة ليالي و دار سي التاجر تطعم\\n',\n",
              " 'العصايد قصاع و الناس تاكل و الي يجيء يقلو البشارة وسي التاجر تطعم و ساعة ساعة يتكيوا علي بقر يذبحوه\\n',\n",
              " 'الناس تاكل و الي يجيء يقلو البشارة يعبيلو حجرو باللويز وو ساعة ساعة يتكيوا علي بقر يذبحوه و العصايد قصاع\\n',\n",
              " 'الي يجيء يقلو البشارة يعبيلو حجرو باللويز أيا كبر هاك ويتكيوا علي بقر يذبحوه و العصايد قصاع و الناس تاكل\\n',\n",
              " 'مشي و لي يلاغي ولي يتكلم تبرشن طلعو للكتاب حفظ وباللويز أيا كبر هاك الوليد حبا دبا شد في الحيط\\n',\n",
              " 'لي يلاغي ولي يتكلم تبرشن طلعو للكتاب حفظ للقلم الأول وكبر هاك الوليد حبا دبا شد في الحيط و مشي\\n',\n",
              " 'بدا يخدم و يمشي في هاك القوافل و في هاك ويشهق يتقطعلو النفس بعد مدة مات بوه حل حانوت بوه\\n',\n",
              " 'يمشي في هاك القوافل و في هاك الشقوفات و يوسق وبعد مدة مات بوه حل حانوت بوه و بدا يخدم\\n',\n",
              " 'في هاك الشقوفات و يوسق في سلع و يجيب في وحانوت بوه و بدا يخدم و يمشي في هاك القوافل\\n',\n",
              " 'يوسق في سلع و يجيب في سلع عويمين و الا ويخدم و يمشي في هاك القوافل و في هاك الشقوفات\\n',\n",
              " 'يجيب في سلع عويمين و الا ثلاثة أخرينه ماتت أمو وهاك القوافل و في هاك الشقوفات و يوسق في سلع\\n',\n",
              " 'الا ثلاثة أخرينه ماتت أمو حزن عليها الحزن الشديد كيف والشقوفات و يوسق في سلع و يجيب في سلع عويمين\\n',\n",
              " 'يبدا يفركس كيفاش ينسي همومو نهار سكر حانوتو عند المغرب وقليب المستبلي ضيق الانسان المهموم يولي أقل شيء يأثر فيه\\n',\n",
              " 'مروح للدار هو و تاجر آخر من جيرانو يسمع فيه ويبدا يفركس كيفاش ينسي همومو نهار سكر حانوتو عند المغرب\\n',\n",
              " 'تاجر آخر من جيرانو يسمع فيه يتنهد و يتحسر و وهمومو نهار سكر حانوتو عند المغرب و مروح للدار هو\\n',\n",
              " 'يتحسر و يطحمر قال بينو و بين نفسو ياخي هذا وللدار هو و تاجر آخر من جيرانو يسمع فيه يتنهد\\n',\n",
              " 'يطحمر قال بينو و بين نفسو ياخي هذا باش يموت وو تاجر آخر من جيرانو يسمع فيه يتنهد و يتحسر\\n',\n",
              " 'بين نفسو ياخي هذا باش يموت في جرة بوه و وجيرانو يسمع فيه يتنهد و يتحسر و يطحمر قال بينو\\n',\n",
              " 'أمو كانها موش الموت كاينه و تكون و هم السابقون وو بين نفسو ياخي هذا باش يموت في جرة بوه\\n',\n",
              " 'تكون و هم السابقون واحنا الاحقون تعداوا في ثنيتهم علي ويموت في جرة بوه و أمو كانها موش الموت كاينه\\n',\n",
              " 'هم السابقون واحنا الاحقون تعداوا في ثنيتهم علي باب دق وجرة بوه و أمو كانها موش الموت كاينه و تكون\\n',\n",
              " 'قالو استني شويه تحل الباب قال أيا تفضل اشنوه قالو وهم السابقون واحنا الاحقون تعداوا في ثنيتهم علي باب دق\\n',\n",
              " 'علي كل حال أنا عندي حديث معاك دخل معاه قعدوا وقال أيا تفضل اشنوه قالو تي أدخل نرتاحوا شويه هوني\\n',\n",
              " 'المحلات الي كيف هذا قالو طويسة برك فرك بيها سوده لهاطاولة المدام آه آه قالوأنا ما نشربش أنا ما ندخلش\\n',\n",
              " 'نحي خمجة من قلبك هذا يحلف و هذا يحلف غلبو والمحلات الي كيف هذا قالو طويسة برك فرك بيها سوده\\n',\n",
              " 'هذا يحلف غلبو وروح ملحلح ليلتها و بعد وقتو و وفرك بيها سوده و نحي خمجة من قلبك هذا يحلف\\n',\n",
              " 'بعد وقتو و المرا موش مستانسه بيه يوخر حلات لو وقلبك هذا يحلف و هذا يحلف غلبو وروح ملحلح ليلتها\\n',\n",
              " 'المرا موش مستانسه بيه يوخر حلات لو النقه من غدويكة وو هذا يحلف غلبو وروح ملحلح ليلتها و بعد وقتو\\n',\n",
              " 'الفساد ما ثماش ما أسهل منو و لي كل ليله وغدويكة عند المغرب كيف جاو مروحين قالو نتعداوا لبقيعة لبارح\\n',\n",
              " 'لي كل ليله يروح مثقل حتي سمع نسيبو بوها قالو ونتعداوا لبقيعة لبارح و الفساد ما ثماش ما أسهل منو\\n',\n",
              " 'هذا راهو ما يخرجش عليك انت راك ولد فلان اسمك نيروح مثقل حتي سمع نسيبو بوها قالو يا سي فلا\\n',\n",
              " 'المعاصي و ليه اماليه موش الناس لكل قالو الحق معاك بواسمك مالي الدنيا الشرب راهو يطيح لقدر يخلي الديار هو\\n',\n",
              " 'ليه اماليه موش الناس لكل قالو الحق معاك يا عمي والدنيا الشرب راهو يطيح لقدر يخلي الديار هو بو المعاصي\\n',\n",
              " 'اسمع مني باليمين الفلاني قطرة واحده معاتش نشربها و رجع ويا عمي فلان ان شاء الله التوبة تكون علي يدك\\n',\n",
              " 'رجع لخدمتو كيف العاده و العوايد لكن في هاك المده ويدك و اسمع مني باليمين الفلاني قطرة واحده معاتش نشربها\\n',\n",
              " 'العوايد لكن في هاك المده وهو في حبك درباني كل والفلاني قطرة واحده معاتش نشربها و رجع لخدمتو كيف العاده\\n',\n",
              " 'الي كانو يشريو من عندو و لاو يشريو من غيرو والبرور كانو يسوقو في السلعه ليه هو ولاو يسوقو لغيرو\\n',\n",
              " 'لاو يشريو من غيرو ماش يرجع هذومة الاخرينه لازمو عمر وهو ولاو يسوقو لغيرو و الي كانو يشريو من عندو\\n',\n",
              " 'بدا يخدم هو علي كل حال ليل مع نهار و وغيرو ماش يرجع هذومة الاخرينه لازمو عمر بنادم قوي قلبو\\n',\n",
              " 'يجري و يقول يا قلة الصحة لكن لا ينفع العقار وو بدا يخدم هو علي كل حال ليل مع نهار\\n',\n",
              " 'يقول يا قلة الصحة لكن لا ينفع العقار فيما أفسده ويخدم هو علي كل حال ليل مع نهار و يجري\\n',\n",
              " 'قت الي تضرب فيه الانقرية اللهم عافينا بدا يمشي بالتوالي وفيما أفسده الدهر الحاجة الي فسدت فسدت كيف بدن بنادم\\n',\n",
              " 'باعها و ها المخزن لواه ما يصلح لشي هذي حانوت والتجار باعوا لحرفاواتهم الجدد وصل قال السانية هذيه شنعمل بيها\\n',\n",
              " 'ها المخزن لواه ما يصلح لشي هذي حانوت زايده عندو ولحرفاواتهم الجدد وصل قال السانية هذيه شنعمل بيها و باعها\\n',\n",
              " 'الله لا يدور علينا زمان الا بالمليح حتي بطل الخدمه وفيها قلالة خرجهم باعها ولي يبيع في رزقو باش ياكل\\n',\n",
              " 'آخر حانوت الي تبقاتلو باعها و لا عاد يكسب لا والله لا يدور علينا زمان الا بالمليح حتي بطل الخدمه\\n',\n",
              " 'لا عاد يكسب لا مركب لا جمل الكف الجزء الثالث وبالمليح حتي بطل الخدمه و آخر حانوت الي تبقاتلو باعها\\n',\n",
              " 'الأخير الفلوس الي جابهم معاه اذا كان ماش يقعد يصرف ولا عاد يكسب لا مركب لا جمل الكف الجزء الثالث\\n',\n",
              " 'ياكل ماش يجي نهار و يوفاو و ماش يولي يتلزم والفلوس الي جابهم معاه اذا كان ماش يقعد يصرف منهم\\n',\n",
              " 'يوفاو و ماش يولي يتلزم و يخدم في مرمة و وكان ماش يقعد يصرف منهم و ياكل ماش يجي نهار\\n',\n",
              " 'ماش يولي يتلزم و يخدم في مرمة و الا يمد ويقعد يصرف منهم و ياكل ماش يجي نهار و يوفاو\\n',\n",
              " 'يخدم في مرمة و الا يمد يدو للطلبه و هو وياكل ماش يجي نهار و يوفاو و ماش يولي يتلزم\\n',\n",
              " 'الا يمد يدو للطلبه و هو أصلو عزيز و دم وو يوفاو و ماش يولي يتلزم و يخدم في مرمة\\n',\n",
              " 'هو أصلو عزيز و دم غالي و عزة نفسه ما ويتلزم و يخدم في مرمة و الا يمد يدو للطلبه\\n',\n",
              " 'دم غالي و عزة نفسه ما تعطيهش باش يخدم في ومرمة و الا يمد يدو للطلبه و هو أصلو عزيز\\n',\n",
              " 'عزة نفسه ما تعطيهش باش يخدم في المرمه و الا ويمد يدو للطلبه و هو أصلو عزيز و دم غالي\\n',\n",
              " 'الا يطلب مشي حل حانوت عطرية و قعد يبيع و وغالي و عزة نفسه ما تعطيهش باش يخدم في المرمه\\n',\n",
              " 'قعد يبيع و يشري و يخدم علي نفسه عمل أحباب ويخدم في المرمه و الا يطلب مشي حل حانوت عطرية\\n',\n",
              " 'يشري و يخدم علي نفسه عمل أحباب و اصحاب و وو الا يطلب مشي حل حانوت عطرية و قعد يبيع\\n',\n",
              " 'يخدم علي نفسه عمل أحباب و اصحاب و صار معروف ويطلب مشي حل حانوت عطرية و قعد يبيع و يشري\\n',\n",
              " 'اصحاب و صار معروف في السوق بالثقة و الأمان و وقعد يبيع و يشري و يخدم علي نفسه عمل أحباب\\n',\n",
              " 'صار معروف في السوق بالثقة و الأمان و الأخلاق الطيبة وو يشري و يخدم علي نفسه عمل أحباب و اصحاب\\n',\n",
              " 'الأمان و الأخلاق الطيبة لا يعرف لا يتغشش لا يسب وعمل أحباب و اصحاب و صار معروف في السوق بالثقة\\n',\n",
              " 'الأخلاق الطيبة لا يعرف لا يتغشش لا يسب لا يعارك وو اصحاب و صار معروف في السوق بالثقة و الأمان\\n',\n",
              " 'كل حد يشتهي باش يمشي له و لو باش يشري ولا يطرد حد آش تعرف تربية ملوك ولات حانوته بالبعبوص\\n',\n",
              " 'لو باش يشري قرن فلفل مسير طالت عليه المدة حب وولات حانوته بالبعبوص و كل حد يشتهي باش يمشي له\\n',\n",
              " 'مرته و وليداته نهار جاو المستاذنات للدار يستاذنوا في مرته وهاك البلاد تزوج عمل وليدات وهو عايش متهني بين حانوته\\n',\n",
              " 'وليداته نهار جاو المستاذنات للدار يستاذنوا في مرته لطهور ولد وتزوج عمل وليدات وهو عايش متهني بين حانوته و مرته\\n',\n",
              " 'حوايج جدد و عطاها الرمو باش ترمي كيف الناس و لهاالمستاذنات للدار يستاذنوا في مرته لطهور ولد الملك شاورته شري\\n',\n",
              " 'عطاها الرمو باش ترمي كيف الناس و بعثها طلوع النهار وفي مرته لطهور ولد الملك شاورته شري لها حوايج جدد\\n',\n",
              " 'بعثها طلوع النهار هو في حانوته يبيع و يشري و ولها حوايج جدد و عطاها الرمو باش ترمي كيف الناس\\n',\n",
              " 'يشري و هذي الزوز صبايحيه جاو قالولو سيدنا يستاذنك لطهور وكيف الناس و بعثها طلوع النهار هو في حانوته يبيع\\n',\n",
              " 'هذي الزوز صبايحيه جاو قالولو سيدنا يستاذنك لطهور ولده قال وو بعثها طلوع النهار هو في حانوته يبيع و يشري\\n',\n",
              " 'مشي للدار بدل حوايجه و مشي للسرايه نهار كبير و وقالولو سيدنا يستاذنك لطهور ولده قال الله يبارك سكر الحانوت\\n',\n",
              " 'مشي للسرايه نهار كبير و الكبير الله و قمبري يخبط وقال الله يبارك سكر الحانوت و مشي للدار بدل حوايجه\\n',\n",
              " 'الكبير الله و قمبري يخبط و بوطبيله يزعزع في الدنيا وو مشي للدار بدل حوايجه و مشي للسرايه نهار كبير\\n',\n",
              " 'قمبري يخبط و بوطبيله يزعزع في الدنيا دخل مع الناس وبدل حوايجه و مشي للسرايه نهار كبير و الكبير الله\\n',\n",
              " 'بوطبيله يزعزع في الدنيا دخل مع الناس و حضر مع ومشي للسرايه نهار كبير و الكبير الله و قمبري يخبط\\n',\n",
              " 'حضر مع الحاضرين بعد القص بداوا هاك الأعيان و التجار وقمبري يخبط و بوطبيله يزعزع في الدنيا دخل مع الناس\\n',\n",
              " 'التجار داخلين بالواحد بالواحد للمطهر و كل واحد آش يهدي والناس و حضر مع الحاضرين بعد القص بداوا هاك الأعيان\\n',\n",
              " 'كل واحد آش يهدي واحد يهدي تقليد واحد منقاله و والقص بداوا هاك الأعيان و التجار داخلين بالواحد بالواحد للمطهر\\n',\n",
              " 'واحد عقد هنشير واحد قصر واحد سانيه و زوز عدول وو كل واحد آش يهدي واحد يهدي تقليد واحد منقاله\\n',\n",
              " 'زوز عدول حالين دفتر وقاعدين يقيدو في كل واحد آش وواحد منقاله و واحد عقد هنشير واحد قصر واحد سانيه\\n',\n",
              " 'يتعراو في هاك الطهور بالهدايا وقت الي استاذنهم كل واحد والبلاد الملك وين يطهر ولده أولاده ستاذن أمالي للبلاد الكل\\n',\n",
              " 'الي جاب عقد سانيه و الا حانوت و خينا ما وهز فلوس الي هز قطعه صياغه الي جاب عقد هنشير\\n',\n",
              " 'الا حانوت و خينا ما يعرفش بسبر البلاد ما جاب وصياغه الي جاب عقد هنشير و الي جاب عقد سانيه\\n',\n",
              " 'خينا ما يعرفش بسبر البلاد ما جاب شيء في يده وعقد هنشير و الي جاب عقد سانيه و الا حانوت\\n',\n",
              " 'دخل و شاف قطايع الصياغه المكدسين علي زربيه و العقود والبلاد ما جاب شيء في يده وقت الي جاه الطريق\\n',\n",
              " 'شاف قطايع الصياغه المكدسين علي زربيه و العقود في كنسترو وجاب شيء في يده وقت الي جاه الطريق و دخل\\n',\n",
              " 'العقود في كنسترو و الزوز عدول قاعدين يقيدو حار و والطريق و دخل و شاف قطايع الصياغه المكدسين علي زربيه\\n',\n",
              " 'الزوز عدول قاعدين يقيدو حار و حار دليله معرفش آش وشاف قطايع الصياغه المكدسين علي زربيه و العقود في كنسترو\\n',\n",
              " 'حار دليله معرفش آش يعمل يرجع للدار يجيب حاجه موش وو العقود في كنسترو و الزوز عدول قاعدين يقيدو حار\\n',\n",
              " 'الملك و الدايره قاعدين موش ممكن يرجع علي ثنيته و ويرجع للدار يجيب حاجه موش ممكن دخل تعدي بحذا للمطهر\\n',\n",
              " 'الدايره قاعدين موش ممكن يرجع علي ثنيته و الا يقول ويجيب حاجه موش ممكن دخل تعدي بحذا للمطهر و الملك\\n',\n",
              " 'الا يقول لهم سامحوني هاني توة نجيء طبس علي الوالد وو الملك و الدايره قاعدين موش ممكن يرجع علي ثنيته\\n',\n",
              " 'سامحوني هاني توة نجيء طبس علي الوالد و باسه و لهمالدايره قاعدين موش ممكن يرجع علي ثنيته و الا يقول\\n',\n",
              " 'باسه و منها تلفت للشهود قال لهم أكتبو علي هذايه والا يقول لهم سامحوني هاني توة نجيء طبس علي الوالد\\n',\n",
              " 'منها تلفت للشهود قال لهم أكتبو علي هذايه وهبت له ولهم سامحوني هاني توة نجيء طبس علي الوالد و باسه\\n',\n",
              " 'أكتبو علي هذايه وهبت له مملكه الشام يحكم فيها و لهمطبس علي الوالد و باسه و منها تلفت للشهود قال\\n',\n",
              " 'لا يدفع لي لا جزيه لا خراج قعدو الشهود يخزرولو ولهم أكتبو علي هذايه وهبت له مملكه الشام يحكم فيها\\n',\n",
              " 'يقول له العرب رحلت اعطاه كف شعيره لا عماه آش والشهود يخزرولو باهتين وولد الملك الكبير واقف يشرع في طابقه\\n',\n",
              " 'مغشش و قال كلب جاي يتقصص علينا يخدم عطار و واعطاه كف شعيره لا عماه آش تعرف وصيف وولد ملك\\n',\n",
              " 'قال كلب جاي يتقصص علينا يخدم عطار و جاي يهدي وشعيره لا عماه آش تعرف وصيف وولد ملك و مغشش\\n',\n",
              " 'جاي يهدي في المملكات خرجوه تمكنوا بيه الصبايحيه خرجوه كل وو مغشش و قال كلب جاي يتقصص علينا يخدم عطار\\n',\n",
              " 'الحمد الله كليته في بلاد غير بلادي و في بر وآه هذا هو الكفيف الي قال عليه المنام هاني كليته\\n',\n",
              " 'في بر الي ما يعرفني فيه حد بعد الي ما وهاني كليته و الحمد الله كليته في بلاد غير بلادي\\n',\n",
              " 'ما عندي علاش نخاف مشي بقي مرته و اولاده بخير وصدقونيش كيف هديت مملكه توة تحل الرصد ننجم نروح لبلادي\\n',\n",
              " 'اولاده بخير و شد الثنيه بعد كيف ما تقول انت ونروح لبلادي و ما عندي علاش نخاف مشي بقي مرته\\n',\n",
              " 'شد الثنيه بعد كيف ما تقول انت نصف شهر و وما عندي علاش نخاف مشي بقي مرته و اولاده بخير\\n',\n",
              " 'هو ساير كهب علي البلاد يلقي ولد سارح بالنعيجات قال وو شد الثنيه بعد كيف ما تقول انت نصف شهر\\n',\n",
              " 'لا يعرفوه لا ميت لا حي مدله السبحه متاعه و وهاذي البلاد الفلانية السلطان متاعنا عنده اليوم عشره سنين غايب\\n',\n",
              " 'قال له بره ادي هذيه للسرايه راهو ولد السلطان يعطيك وو لا يعرفوه لا ميت لا حي مدله السبحه متاعه\\n',\n",
              " 'تسيب يجري ساقيه أعلي من راسه مقابله للسرايه شاورو عليه وولد السلطان يعطيك بشاره مهمه السارح سمع بالبشاره خطف السبحه\\n',\n",
              " 'الأعيان تلمو في رمشة عين و سناجق و طبل يضرب وحجر ولد السلطان قال عنديشي حد في الحين موكب ووزر\\n',\n",
              " 'سناجق و طبل يضرب و خرجو يعرضو في السلطان يا وفي الحين موكب ووزر و الأعيان تلمو في رمشة عين\\n',\n",
              " 'طبل يضرب و خرجو يعرضو في السلطان يا بوس يا وموكب ووزر و الأعيان تلمو في رمشة عين و سناجق\\n',\n",
              " 'خرجو يعرضو في السلطان يا بوس يا تعنيق و يا والأعيان تلمو في رمشة عين و سناجق و طبل يضرب\\n',\n",
              " 'يا كبان روح السلطان للسرايه و قام الزغاريط عامل مسد ويضرب و خرجو يعرضو في السلطان يا بوس يا تعنيق\\n',\n",
              " 'قام الزغاريط عامل مسد قال لولده اسمع لم المحله آش ويا بوس يا تعنيق و يا كبان روح السلطان للسرايه\\n',\n",
              " 'لم المحله و غدوه قاصدين ربي ماش نرجع علي ثنيتي لكاسمع لم المحله آش ثمة يا بابا قال له قلت\\n',\n",
              " 'غدوه قاصدين ربي ماش نرجع علي ثنيتي أمر السلاطين طاعه وآش ثمة يا بابا قال له قلت لك لم المحله\\n',\n",
              " 'كان أعداء يردو البلاد جير و ياجور طل الملك من وقال محله تسد عين الشمس كان أضياف يعريوك في الضيافه\\n',\n",
              " 'ياجور طل الملك من الناظور يلقي الدنيا كحلا قال هزو وأضياف يعريوك في الضيافه و كان أعداء يردو البلاد جير\\n',\n",
              " 'الدايره باش يستخبرو و يشوفو آش شنيه النازله و يطلبو وكحلا قال هزو السنجق الأبيض تهز السنجق الأبيض خرج الوزير\\n',\n",
              " 'يشوفو آش شنيه النازله و يطلبو الامان يلقاو الوطقات تنصبوا والأبيض تهز السنجق الأبيض خرج الوزير و الدايره باش يستخبرو\\n',\n",
              " 'يطلبو الامان يلقاو الوطقات تنصبوا و سلطان البيرين و خاقان والوزير و الدايره باش يستخبرو و يشوفو آش شنيه النازله\\n',\n",
              " 'سلطان البيرين و خاقان البحرين قاعد علي التخت و العسكر ويشوفو آش شنيه النازله و يطلبو الامان يلقاو الوطقات تنصبوا\\n',\n",
              " 'خاقان البحرين قاعد علي التخت و العسكر سالين سيوفهم و والنازله و يطلبو الامان يلقاو الوطقات تنصبوا و سلطان البيرين\\n',\n",
              " 'العسكر سالين سيوفهم و السنجق يذري قال حدكم ثمة ارجعو وتنصبوا و سلطان البيرين و خاقان البحرين قاعد علي التخت\\n',\n",
              " 'السنجق يذري قال حدكم ثمة ارجعو علي ثنيتكم و جيبو وو خاقان البحرين قاعد علي التخت و العسكر سالين سيوفهم\\n',\n",
              " 'جيبو الملك متاعكم نحبه توة قدامي هو و اللي في وسيوفهم و السنجق يذري قال حدكم ثمة ارجعو علي ثنيتكم\\n',\n",
              " 'قلها نطلع بلا كلمة\\n',\n",
              " 'شنية الخدمة\\n',\n",
              " 'و يلزمني نوريه\\n',\n",
              " 'باش نڨد لوڨو لدار الثقافة\\n',\n",
              " 'ماو قلها عطيت كلمتي\\n',\n",
              " 'مشكلتي باش نقول لها باش نمشي نخدم خدمة هذاكا ل حل اللي باش تخليني نخرج تقول لي و فمة خلاص باش نقول لها نان باش تقول لي مالا لا ها هاذي ل مشكلة دنك لازم نخمم في حل ولى هاني هنا تو نخدملك وكهاو\\n',\n",
              " 'انك تركحها\\n',\n",
              " 'نتصور مش صعيب\\n',\n",
              " 'لازم نحاول مع م\\n',\n",
              " 'نجم نجم\\n',\n",
              " 'ملا جو\\n',\n",
              " 'كان نجمت تو نجيك سامدي\\n',\n",
              " 'تڨد اللوڨو\\n',\n",
              " 'وقتاه مش تجي\\n',\n",
              " 'لا مانيش متغشش\\n',\n",
              " 'تتغشش عاد نفدلك\\n',\n",
              " 'شنوة\\n',\n",
              " 'حاصيلو\\n',\n",
              " 'اصيلو\\n',\n",
              " 'مخيبك\\n',\n",
              " 'نخلط انا ها كان ف ستاغ بلاش بيان سور ها\\n',\n",
              " 'في لحظة\\n',\n",
              " 'امان\\n',\n",
              " 'بطلت مالا ها\\n',\n",
              " 'ملا نفدلك\\n',\n",
              " 'بجدك\\n',\n",
              " 'منين مش نخلصك\\n',\n",
              " 'ه\\n',\n",
              " 'و ما زالت تحبني انا نخدملك و بال خلاص\\n',\n",
              " 'بالرسمي\\n',\n",
              " 'اي\\n',\n",
              " 'فكرني فال خلاص تو بالرسمي باش تخدم لغو اللي دار الثقافة\\n',\n",
              " 'تو تشوف\\n',\n",
              " 'اي\\n',\n",
              " 'ها\\n',\n",
              " 'على خدمتك\\n',\n",
              " 'تو يخلصوك\\n',\n",
              " 'ان شاء الله علاش لا ها وشخص\\n',\n",
              " 'انت مش تمشي للاجونس الجديدة\\n',\n",
              " 'و دجى عود قال لي كمل اقعد معنا و اخدم أما انا نعرش تتفكروا لغو لنيك 2 بواب باش يحل به اجنس أخرى خسزة به فرانسيس هه\\n',\n",
              " 'تلنصيت معناها\\n',\n",
              " 'نان صاير توا نجمش نفصع فمة خدمة تاع سيت لازمها تكمل نهار جماعة دنك باش نولي نخدم معهم فاكا كس واكا ل أجواء معهم\\n',\n",
              " 'غدوة مش تفصع\\n',\n",
              " 'موش مشكل\\n',\n",
              " 'أي والله\\n',\n",
              " 'من غير فايدة\\n',\n",
              " 'شوي حازكم نهار كامل\\n',\n",
              " 'كنكس مقصوصة اليوم دجى مخدم حد ماني قتلك عملت بر ع أساس باش نروح و نجيك\\n',\n",
              " 'تفشخ في النوم\\n',\n",
              " 'لا اليوم ماخدمت شي هاذوكم مال بارح\\n',\n",
              " 'اذاكا شخدمت نهار كامل\\n',\n",
              " 'هايه\\n',\n",
              " 'ها صحة\\n',\n",
              " 'نتفرج و برى\\n',\n",
              " 'في القهوة لخرى\\n',\n",
              " 'هاي شتعمل مالا\\n',\n",
              " 'اما ما عاودناش خرجنا\\n',\n",
              " 'ما ضربتنيش بسكينة\\n',\n",
              " 'ما صار شي\\n',\n",
              " 'اه ياخي شصار\\n',\n",
              " 'كيفاه تحبني نقصها\\n',\n",
              " 'قتلي انا اصلا اخترتها خاطر اذاكا بابا الي توفى\\n',\n",
              " 'و خرجو الراجل اذاكا\\n',\n",
              " 'قلتلها قصها\\n',\n",
              " 'و راجل في حانوت يقضي\\n',\n",
              " 'فيها ممشى\\n',\n",
              " 'الفوطو دو كوفرتير\\n',\n",
              " 'مش تعمل كتاب\\n',\n",
              " 'مرة نحكي انا و بنية\\n',\n",
              " 'تو نحكيلك فازة\\n',\n",
              " 'ميسالش\\n',\n",
              " 'كتيبة تحت ال لغو هذاكا راه ها\\n',\n",
              " 'سمبوليك الكتيبة\\n',\n",
              " 'كيما قتلك\\n',\n",
              " 'و زيد حكيت معه عل لغو قلت ل ه بالله شنية أكلي فوق ل بلومي هاذيكا باش نجم نصلح فيها ياخي قال لي راه هاذيكا ما يحبش يمسحه قال لي ألعب عل كلام اللي ملطوة ك تت ها قلت ل ه الله يبارك ها\\n',\n",
              " 'بكلو في مصلحتك\\n',\n",
              " 'اش عندك تعمل\\n',\n",
              " 'ميسالش\\n',\n",
              " 'باهي هو زادا عجبتو و بعثتلو ل خدمة صاير ياخي درى كيفاش جا و عيط لا بنات اللي معايا قلهم هتو رايكم كل عادة ها وحدة سدمتني قالت حطى وحدة م تصلح انا خدمت برشة خاطر و وحدة ماعجبتهش هاذي ولى شنية ها قلت ل ه راه ال ناس أذواق ها ياخي قال لي مالا زيد فركس و اخدملي حاجة أخرى ها\\n',\n",
              " 'يعطيك الصحة\\n',\n",
              " 'حلوة برشا\\n',\n",
              " 'هات رايك فيها\\n',\n",
              " 'ايا احكيلي\\n',\n",
              " 'يا مرحبا\\n',\n",
              " 'هاني جيت\\n',\n",
              " 'مالا نستناك تحكيلي\\n',\n",
              " 'اوكاي\\n',\n",
              " 'تو بعد نحكيلك شصار\\n',\n",
              " 'كملت اللوڨو\\n',\n",
              " 'هكاكا قتلها ها\\n',\n",
              " 'علاه ساي بيان\\n',\n",
              " 'صحة صحة ها ا صار ها ك بيان والله\\n',\n",
              " 'توقيت رمضاني\\n',\n",
              " 'توقيت صيفي\\n',\n",
              " 'توقيت شتوي\\n',\n",
              " 'صباح و عشية\\n',\n",
              " 'نحلو خاطر التوقيت متاعنا هكة\\n',\n",
              " 'اما في العشية نشرب تاي\\n',\n",
              " 'في اكسبراس\\n',\n",
              " 'نحط زوز\\n',\n",
              " 'ها لا عاد هه صحة صحة قداش تحط سكر فال قهوة علاش تحل في دار ثقافة مال 5 اللي 8 بك\\n',\n",
              " 'تأمر موش تسأل\\n',\n",
              " 'انا نتقهوج\\n',\n",
              " 'وانتي فاش تعمل حقا باش نسالك\\n',\n",
              " 'ه\\n',\n",
              " 'أي هكاكا ها\\n',\n",
              " 'العشق الممنوع\\n',\n",
              " 'انا نعشق اي حاجة زعرا\\n',\n",
              " 'اما ناكلو كوم ام\\n',\n",
              " 'ما عنديش مع لازعر\\n',\n",
              " 'بالشفاء\\n',\n",
              " 'مقرونة زعرا\\n',\n",
              " 'و شنوة طيبت\\n',\n",
              " 'ها وي\\n',\n",
              " 'على الزعامة\\n',\n",
              " 'اسمع يا سيدي\\n',\n",
              " 'طيبت عشي و فتورير باش نهزو دومين معايا ها و عاونات ماما في قسلن ل فراش ها\\n',\n",
              " 'و طيبت عشاك\\n',\n",
              " 'المهم كملت قضياتك\\n',\n",
              " 'دسل تشديت فال قضية توا ها نان قتلك تو بعد نحكيوا نقصد كيف اروح خاطر دجى كنكس وفتلي ف تلف و ما عنديش برشة فلوس\\n',\n",
              " 'خاطر\\n',\n",
              " 'قتلي لحظة\\n',\n",
              " 'اي\\n',\n",
              " 'بعد مطلبتك\\n',\n",
              " 'وين غبرت قبيلي\\n',\n",
              " 'ها\\n',\n",
              " 'هاني هاني\\n',\n",
              " 'وقتاش تخرج من دار ثقافة لعشية\\n',\n",
              " 'ونك مالا سفا\\n',\n",
              " 'شنوة\\n',\n",
              " 'غيبتك\\n',\n",
              " 'ها صحة صحة\\n',\n",
              " 'رائعة\\n',\n",
              " 'هلو كيفاش سهرية البارح\\n',\n",
              " 'عسلامة\\n',\n",
              " 'أوي 3\\n',\n",
              " 'رائعة\\n',\n",
              " 'محلاها 3 3 3\\n',\n",
              " 'عجيتك\\n',\n",
              " 'شفتها ف ديراكت ها\\n',\n",
              " 'ها\\n',\n",
              " 'ياي ل حفلة بدات\\n',\n",
              " 'شفت ها ماما ألعب معها في كل شي اللي ل قراية هي تحب هاكا وين نعرف عليها\\n',\n",
              " 'في فورماسيون\\n',\n",
              " 'علاه تزيد تقراها\\n',\n",
              " 'اما انت مش تعاود عام كامل\\n',\n",
              " 'ملا امك هاذي\\n',\n",
              " 'وي خاطر هذاكا اشي اللي طيحني انا\\n',\n",
              " 'دو سيت واب\\n',\n",
              " 'في دفلوبمون\\n',\n",
              " 'سونتر دو فورماسين\\n',\n",
              " 'ها لا لا هذاكا مكتوب كيف يجي يجي عادي أما قتلي تكمل ال ستاغ منا باش ندخلك ف سنتر دنفرمنت تقرا ديفلوبمنت\\n',\n",
              " 'هاذي طلعتعا\\n',\n",
              " 'نتصور\\n',\n",
              " 'مش تعرسلك\\n',\n",
              " 'تعرف شنية طالعة اللي طلعتلي بها الايامات اللي فاتو\\n',\n",
              " 'اصبر برك\\n',\n",
              " 'تو ترضى\\n',\n",
              " 'أما ما زالت متغشقة\\n',\n",
              " 'هاو قلب الام\\n',\n",
              " 'واو\\n',\n",
              " 'أي آكيد ها\\n',\n",
              " 'خلاتك تبوسها\\n',\n",
              " 'أي ها فرحت علخر\\n',\n",
              " 'عملتو عيد الميلاد\\n',\n",
              " 'هاني هوني مالا ها\\n',\n",
              " 'الحفلة العشرة\\n',\n",
              " 'و مزال بكري\\n',\n",
              " 'تي لا\\n',\n",
              " 'قلت بالك قلقتك\\n',\n",
              " 'مالا علاه قتلي نخليك\\n',\n",
              " 'نان ما زالت\\n',\n",
              " 'مش ترقد مالا\\n',\n",
              " 'نشالله\\n',\n",
              " 'أوي أوي ها\\n',\n",
              " 'زعمة\\n',\n",
              " 'ها\\n',\n",
              " 'تو يجي نهار و نعرفه\\n',\n",
              " 'أي صحيح ها\\n',\n",
              " 'نا ما نعرش برشا من الي تحبهم انت\\n',\n",
              " 'باز ها\\n',\n",
              " 'نتصورك برشا نحبهم و انت ما تعرفهمش\\n',\n",
              " 'مانعرفهاش ها\\n',\n",
              " 'عمناول\\n',\n",
              " 'و هي تغنيلي\\n',\n",
              " 'انا نقترح في الغنايات\\n',\n",
              " 'اصلا انا في حفلة دينا الويديدي\\n',\n",
              " 'من غير ما توصي\\n',\n",
              " 'ه\\n',\n",
              " 'آية نخليك مالا اعمل جو تنساش عاد\\n',\n",
              " 'في بالي مش نفسرلك\\n',\n",
              " 'مش لازم\\n',\n",
              " 'خليه عندك\\n',\n",
              " 'نومرويا نعطيهولك نرم ها أما راني نحكيش ب تلف كي نبدا ف دار دسل\\n',\n",
              " 'تو تفهم\\n',\n",
              " 'هات نومروك\\n',\n",
              " 'فهمتش\\n',\n",
              " 'ه\\n',\n",
              " 'ساي كومبليكاي\\n',\n",
              " 'ما كانش في البرنامج\\n',\n",
              " 'مش يسهرو لبرة\\n',\n",
              " 'وحدي وحدي\\n',\n",
              " 'اي\\n',\n",
              " 'ا صار فيبالي وحدك وحدك ها صحة مالا\\n',\n",
              " 'يروحو بيا\\n',\n",
              " 'باش يسهرو\\n',\n",
              " 'اما خلطو اصحابي\\n',\n",
              " 'أي\\n',\n",
              " 'ياخي مشيت وحدك\\n',\n",
              " 'في الانتظار\\n',\n",
              " 'يعيشك\\n',\n",
              " 'صحة صحة\\n',\n",
              " 'اصلا مش نبات على البحر\\n',\n",
              " 'ايا اخلط\\n',\n",
              " 'نعرف ها\\n',\n",
              " 'غيبتك\\n',\n",
              " 'اتهنى\\n',\n",
              " 'ا بروفيت بيان مالا\\n',\n",
              " 'ي\\n',\n",
              " 'مقنعين\\n',\n",
              " 'والله حرت ماشي اللي عرس\\n',\n",
              " 'تستسلم بسهولة\\n',\n",
              " 'مالا وين ماشي استسلمت انا\\n',\n",
              " 'دنك باز يا ماشي اللي تنس يا ماشي لا بحر ك فاسلي\\n',\n",
              " 'اي\\n',\n",
              " 'لا عاد أصبر ها توا تنجم ف طرين صحيح ه نان\\n',\n",
              " 'شي ماكش مش تاخو 100د\\n',\n",
              " 'لا\\n',\n",
              " 'ماشي تبحر باز ها\\n',\n",
              " 'وين عندك تمشي مالا يا قهوة يا دار ثقافة يا داركم ها\\n',\n",
              " 'انا متاع قهاوي\\n',\n",
              " 'هذا كلام\\n',\n",
              " 'قهوة\\n',\n",
              " 'آكيد ماشي لا قهوة\\n',\n",
              " 'تاخو 100د\\n',\n",
              " 'و وين ماشي\\n',\n",
              " 'هو كان انت تطلع انا وين تو\\n',\n",
              " 'ها صحة و بشفا\\n',\n",
              " 'اما ناكلهم راني\\n',\n",
              " 'كيما الكمونية\\n',\n",
              " 'كيما اللوبيا\\n',\n",
              " 'كيما المقلي\\n',\n",
              " 'كيما شنية\\n',\n",
              " 'لا فما حاجات من نخيرهمش\\n',\n",
              " 'ه\\n',\n",
              " 'تنجم تاكل كل شي ها\\n',\n",
              " 'اما ناكلو راني\\n',\n",
              " 'انا زادة ما نحبش الحلو\\n',\n",
              " 'نصدق\\n',\n",
              " 'آية تسدق اللي انا نكلكش شوكلاتة\\n',\n",
              " 'هايه\\n',\n",
              " 'وي آكيد\\n',\n",
              " 'فما البنين و فما الي لا\\n',\n",
              " 'انا داج ماناكلاش ل حلو مهما يكون\\n',\n",
              " 'الحلو الكل موش كيف كيف\\n',\n",
              " 'كيما اي قتعود ها نكلكش ل حلو ياسر انا\\n',\n",
              " 'بنين الڨاطو زعمة\\n',\n",
              " 'اخيرا و ليس اخرا\\n',\n",
              " 'ها وخرين باش نحكي معها\\n',\n",
              " 'واو\\n',\n",
              " 'عيد ميلاد ماما ها\\n',\n",
              " 'تاكلو\\n',\n",
              " 'وحدك\\n',\n",
              " 'يشفيك ها\\n',\n",
              " 'و الهناء\\n',\n",
              " 'بالشفاء\\n',\n",
              " 'باش نمشي نشري قتعود\\n',\n",
              " 'ه\\n',\n",
              " 'ها أي\\n',\n",
              " 'وين عندك تمشي\\n',\n",
              " 'في عقلها\\n',\n",
              " 'تخرج 50\\n',\n",
              " 'ما زالت كي جات ل كار\\n',\n",
              " 'لطبربة\\n',\n",
              " 'وين\\n',\n",
              " 'وصلتش\\n',\n",
              " 'ها وي\\n',\n",
              " 'ملا جو\\n',\n",
              " 'يي هاني فال كار أما ماشديتش بلاصة\\n',\n",
              " 'ه\\n',\n",
              " 'ها\\n',\n",
              " 'اعمل بعمالك\\n',\n",
              " '4 درج و نخرج ها و يضهرلي دومين مانيش ماشيتلو\\n',\n",
              " 'ها\\n',\n",
              " 'ملا ستاجيارة\\n',\n",
              " 'ما زالت نخدم في رول أوب ها\\n',\n",
              " 'زيد كركر\\n',\n",
              " 'ما زالت مامسيتوش\\n',\n",
              " 'شعملت في اللوڨو\\n',\n",
              " 'صحة ها\\n',\n",
              " 'اي من وينو\\n',\n",
              " 'باز روحت مالا\\n',\n",
              " 'و كلاتني السخانة\\n',\n",
              " 'مشيت\\n',\n",
              " 'مشيت لا مرنجينة\\n',\n",
              " 'ه\\n',\n",
              " 'و راحتو\\n',\n",
              " 'على راحتك\\n',\n",
              " 'نبدل فيه جملة هكاكا\\n',\n",
              " 'و شوف\\n',\n",
              " 'اعمل الي قتلك\\n',\n",
              " 'ما زالت نعرش والله\\n',\n",
              " 'شنوة اقترح في التحسينات هو\\n',\n",
              " 'والله نغزل انا توا مازلتمش أصين قاعدة نخدم في الاخرى\\n',\n",
              " 'سمبوليك الحاكية عندو\\n',\n",
              " 'ل مشكلة قلك ل كلينت قال اجو هذاكا اللي قلت عليه تنجم لكل قلك مايتمشاوش يبقى هو بيدو ل بلومي وال فوقها وال خاط\\n',\n",
              " 'وين مالا\\n',\n",
              " 'ل مشكلة موش غادي\\n',\n",
              " 'كان جيت في الخدمة راني وريتك شنوة نقصد\\n',\n",
              " 'اكتب بيه اميلكار وين هو دڨراداي\\n',\n",
              " 'لوطة الخط الابيض\\n',\n",
              " 'و فوقها حط ضوء يلصف\\n',\n",
              " 'حط وحدة اشب\\n',\n",
              " 'اكالبلومة\\n',\n",
              " 'ريت الفون نحيه جملة\\n',\n",
              " 'شفت بالله\\n',\n",
              " 'هذا لوڨو\\n',\n",
              " 'وريني تره\\n',\n",
              " 'ها أي علخر شنوة رتحت لغو ماسط ماجا شي فهمتش اش باش نصلح فيه\\n',\n",
              " 'ارتحت مالا\\n',\n",
              " 'ام\\n',\n",
              " 'ها\\n',\n",
              " 'متاع العالم\\n',\n",
              " 'ها ل مرة هاذي لغو موجود جست يحب علاء تحسن ها\\n',\n",
              " 'اما نقص من تعقريب على لوڨوات\\n',\n",
              " 'عندو فيك ثقة\\n',\n",
              " 'ملا انت\\n',\n",
              " 'ها وي والله عطاني باش نخدم لغو جديد و بسنسي رول أوب\\n',\n",
              " 'بلحق\\n',\n",
              " 'هاو الستاجات\\n',\n",
              " 'اع زادين زوز خدم آخرين\\n',\n",
              " 'اذاكا شنقصد انا\\n',\n",
              " 'تي\\n',\n",
              " 'نخدم ف ديسيجن انا\\n',\n",
              " 'اي و ماشية برمجت السيت\\n',\n",
              " 'هاني فال خدمة\\n',\n",
              " 'ماشية الخدمة\\n',\n",
              " 'هايه\\n',\n",
              " 'ها لول\\n',\n",
              " 'خير من بلاش\\n',\n",
              " 'ه\\n',\n",
              " 'باردة ها\\n',\n",
              " 'تسلك بيها امورك\\n',\n",
              " 'ماو تجبد دبوزة من الفريجيدار\\n',\n",
              " 'تقوم صباح تلقى ما مقصوص كيفاش تحبوا يكون نهار\\n',\n",
              " 'علاه شبيك\\n',\n",
              " 'هكاكا و برا\\n',\n",
              " 'عال العال وانت\\n',\n",
              " 'صباح الخير\\n',\n",
              " 'صباح النور\\n',\n",
              " 'حاست بك والله أوكي بنق ا دومين ان شاء الله\\n',\n",
              " 'بون نوي\\n',\n",
              " 'غدوة نحكو\\n',\n",
              " 'معادش فيا\\n',\n",
              " 'مريم\\n',\n",
              " 'جربي ما عنديش فكرة أما نتفكر في بيردي ل محرجنا اللي كانت تصير فيه كان اللي عمي وقتلي جابه فاطمة بوسهة و جابه لامين انهدي هاذم اللي نتفكرهم\\n',\n",
              " 'تلهى بيه بلڨدا\\n',\n",
              " 'اخر واحد\\n',\n",
              " 'اكيد\\n',\n",
              " 'كان الجربي\\n',\n",
              " 'بعد حالتو بدات تتعب جكب شصار\\n',\n",
              " 'نان نان وقتلي كان ب قيمتو و زينو والله ها و حافتلو اللي كانت سيرة فيه\\n',\n",
              " 'و حالتو تاعبة\\n',\n",
              " 'وقت البيسين بالغرم\\n',\n",
              " 'اه\\n',\n",
              " 'آخر مالك كان مالكو هو عمي و ولدو و بابا كان يخدم معهم فيه\\n',\n",
              " 'اي\\n',\n",
              " 'ريتو ل بيسن اللي توا ولا مركز ها\\n',\n",
              " 'زيدني\\n',\n",
              " 'نزيدك حاجة أخرى\\n',\n",
              " 'ربي يعينو\\n',\n",
              " 'ساعات كار ساعات طرين ها نعرش عليه يخرج 4 متاع صباح\\n',\n",
              " 'ه\\n',\n",
              " 'شمعناها يضهرلك\\n',\n",
              " 'يثريله أي\\n',\n",
              " 'يمشي في الكار\\n',\n",
              " 'ولد برج العامري\\n',\n",
              " 'نان بابا في حدائق قرطاج\\n',\n",
              " 'و بوك يخدم في طبربة زادة\\n',\n",
              " 'ها الله غالب ها\\n',\n",
              " 'مرة غادي\\n',\n",
              " 'مرة هنا\\n',\n",
              " 'مش نبقو نلعبو\\n',\n",
              " 'والله مانعرش أما يضهرلي سكنا هن ف 2002 و بعد عاودنا رجعنا اللي مرنجينة قعدنا 3 انص و عاودنا رجعنا هنا\\n',\n",
              " 'عام شنوة هذا\\n',\n",
              " 'كيف عرسو ماما و بابا و جابوني انا ها سكون ملول غادي و بعد قرو باش يشريو دار دنك ماما شفت أناهي أقرب بلاصة لا مرنجينة و زيد تبدا فيها خدمتها دنك لقات تبورب و وقتها ما زالوا كي بنو ديار إسنتي جات و شرات دار\\n',\n",
              " 'شنوة الي جابك لطبربة\\n',\n",
              " 'احكيلي\\n',\n",
              " 'الله غالب ريت بالله راغم اللي انا عشات غادي اكثر من هوني\\n',\n",
              " 'شمجيبك لطبربة\\n',\n",
              " 'والله ها تبورب عنديش برشة ماللي سكنا فيها مانيش بنات تبورب يعني\\n',\n",
              " 'بلحق\\n',\n",
              " 'ه\\n',\n",
              " 'انا انا ها\\n',\n",
              " 'انا بنت المرناڨية\\n',\n",
              " 'شبيهم\\n',\n",
              " 'بنات ل مرنجينة\\n',\n",
              " 'علاه\\n',\n",
              " 'أهه مانحبش فيها راني\\n',\n",
              " 'المرناڨية ميش من البلايص يقولولهم صحة\\n',\n",
              " 'في كونك ماتخدمش و ماشي لا مرنجينة\\n',\n",
              " 'فاش\\n',\n",
              " 'يا صحة لك\\n',\n",
              " 'عندي قضية\\n',\n",
              " 'ماشي للمرناڨية\\n',\n",
              " 'اه بك تخدموش بال ذنين\\n',\n",
              " 'غدوة راحة\\n',\n",
              " 'وانتي تخدم دومين نان صاير كملتو لغو ما زالت باش نكمل استي توا\\n',\n",
              " 'متاع نهارة الجمعة\\n',\n",
              " 'مالا تكمل الخدمة\\n',\n",
              " 'هايه\\n',\n",
              " 'اه اوكاي\\n',\n",
              " '4 نوصل اللي ستايستو 430 كار تخرج 450 نوصل 530\\n',\n",
              " 'مالا علاه الخمسة و نص\\n',\n",
              " '4 كل يوم\\n',\n",
              " 'و بكري تكمل\\n',\n",
              " 'حاستك صاير باش ترقد أبرمنط ها وي خدمة هه\\n',\n",
              " 'هايه خدامة مالا غدوة\\n',\n",
              " 'باز تو يعوضه دومين\\n',\n",
              " 'لا ما فما شيء\\n',\n",
              " 'دجى يضهرلي ما زال يحكي توا\\n',\n",
              " 'انا مهتم الحقيقة\\n',\n",
              " 'أي والله ها\\n',\n",
              " 'غير مهتمات\\n',\n",
              " 'ه\\n',\n",
              " 'ها انا وقتها نجبد في شعري و ماما بدلت تف مايهمهاش\\n',\n",
              " 'ما خلطتش عليه\\n',\n",
              " 'شقال الباجي اليوم\\n',\n",
              " 'شيهمنا فيهم مالا ها\\n',\n",
              " 'موش موضوع بالنسبة ليا\\n',\n",
              " 'انا الحقيقة ما يهمونيش\\n',\n",
              " 'تي على كل\\n',\n",
              " 'هوما يراوها باهية\\n',\n",
              " 'انت تشوفها خايبة\\n',\n",
              " 'تحول أوكي أما حاجة كيما هكاكا جات خايبة تهبط فيها لواش\\n',\n",
              " 'حاجة باهية\\n',\n",
              " 'اما انك تحاول\\n',\n",
              " 'هوما خايبين\\n',\n",
              " 'اسمعني\\n',\n",
              " 'ريت بربي موماثلة كبيرة كيفها موجودة في كليب كيما هكاكا مايجيش والله دجى كلاو صب لين شبعو والله أكوي كامل عليها هي و عل فقمة و علاء كل شي ها\\n',\n",
              " 'ما قصرتش\\n',\n",
              " 'تعاون فيهم\\n',\n",
              " 'عزيزة بولبيار\\n',\n",
              " 'أوي أوي هه\\n',\n",
              " 'خل يحاولو\\n',\n",
              " 'ملا حالة والله\\n',\n",
              " 'كان جيت انا نعمل ما خير\\n',\n",
              " 'اما بالبنات اذوكم الكل و الاولاد زادة\\n',\n",
              " 'و الصوت خايب\\n',\n",
              " 'الذوق صفر\\n',\n",
              " 'بون\\n',\n",
              " 'اكي جات\\n',\n",
              " 'باهي\\n',\n",
              " 'و شف آخر ل فيد شكون معهم\\n',\n",
              " 'لحظة\\n',\n",
              " 'وكاي\\n',\n",
              " 'ادخل لا يوتوب و شوفها كاملة اسمها هي اتحي وانا نطلعها\\n',\n",
              " 'ويني البقية\\n',\n",
              " 'قلي شنوة لحقيقة\\n',\n",
              " 'ما نستعملش فيس بوك\\n',\n",
              " 'فازات أكا ل كليب\\n',\n",
              " 'شفت لفضحية اللي قاعدة ادور الايامات هاذي فال فب\\n',\n",
              " 'اوكاي\\n',\n",
              " 'وي صحيح كلامك\\n',\n",
              " 'هكة لوجيك يقول\\n',\n",
              " 'تهرب المستقلين في اجت\\n',\n",
              " 'اما نورمالمون الفلوس الجاي من الحزب\\n',\n",
              " 'ل فلوس تعمل برشة حاجات\\n',\n",
              " 'الفلوس مهمة برشا\\n',\n",
              " 'فلوس\\n',\n",
              " 'انهضة معنوهم في فلوسي\\n',\n",
              " 'ماي النهضة معاهم\\n',\n",
              " 'كان تشوف تاع ل مرنجينة فيها ياسر جو و جابه فرقة حفلوها علخر ها\\n',\n",
              " 'شبكتو مليح\\n',\n",
              " 'ما قصرتوش\\n',\n",
              " 'ما زال دومين منوبة و لانديم دندن يظهر لي\\n',\n",
              " 'متاع التوجيه\\n',\n",
              " 'كملتو ندواتكم\\n',\n",
              " 'أوي هه\\n',\n",
              " 'اكيد\\n',\n",
              " 'فوتني يحبلها وقت\\n',\n",
              " 'فيبالي تجري في الشارع\\n',\n",
              " 'ف دار آكيد ها\\n',\n",
              " 'وين\\n',\n",
              " 'سبور\\n',\n",
              " 'نعمل شوية سبور و نحطر روحي و نخرج\\n',\n",
              " 'علاه\\n',\n",
              " 'اه\\n',\n",
              " 'لتسعة\\n',\n",
              " 'دومين نقوم بكري\\n',\n",
              " 'فيسع فيسع\\n',\n",
              " 'انا هاني شادة فرشي و عادك بيا رقدت\\n',\n",
              " 'هايه و انت\\n',\n",
              " 'ها ا أي هاذيكا حاجة اكيدة ها\\n',\n",
              " 'نتلشرجي و نتفرج\\n',\n",
              " 'فلاش ديسك\\n',\n",
              " 'فلاش\\n',\n",
              " 'ما نستحقهمش\\n',\n",
              " 'عندي الفلاش\\n',\n",
              " 'ها ساعة ل عز\\n',\n",
              " 'بصفة عامة\\n',\n",
              " 'عندي سنين على مبك\\n',\n",
              " 'في نسمة\\n',\n",
              " 'تنجم باز في مبك ماكس\\n',\n",
              " 'هاو كمل\\n',\n",
              " 'توا هاه جا ها\\n',\n",
              " 'هو لول\\n',\n",
              " 'جوراسيك ورلد\\n',\n",
              " ...]"
            ]
          },
          "metadata": {
            "tags": []
          },
          "execution_count": 3
        }
      ]
    },
    {
      "cell_type": "markdown",
      "metadata": {
        "id": "cMml12FJGjPW"
      },
      "source": [
        "# GPT2 Tokenizer"
      ]
    },
    {
      "cell_type": "markdown",
      "metadata": {
        "id": "ANJhbBwdxN-b"
      },
      "source": [
        "First a brief description of tokenization straight from the source, the Hugging Face [Tokenizers](https://github.com/huggingface/tokenizers) github page:\n",
        "\n",
        "```\n",
        "What is a Tokenizer\n",
        "\n",
        "A Tokenizer works as a pipeline, it processes some raw text as input and outputs an Encoding. The various steps of the pipeline are:\n",
        "\n",
        "- The Normalizer: in charge of normalizing the text. Common examples of normalization are the unicode normalization standards, such as NFD or NFKC.\n",
        "- The PreTokenizer: in charge of creating initial words splits in the text. The most common way of splitting text is simply on whitespace.\n",
        "- The Model: in charge of doing the actual tokenization. An example of a Model would be BPE or WordPiece.\n",
        "- The PostProcessor: in charge of post-processing the Encoding to add anything relevant that, for example, a language model would need, such as special tokens.\n",
        "```\n",
        "\n",
        "We will be using the GPT-2 tokenizer to tokenize our flavor text data. The defaults of this function set the bos (beginning of sentence) eos (end of sentence) to '<|endoftext|>' but we can specifically set them differently to differentiate and also assign a non-default pad token that will take care of white space for differently sized text. The next cell will instantiate our tokenizer and provide an example encoding."
      ]
    },
    {
      "cell_type": "code",
      "metadata": {
        "id": "Z474sSC6oe7A",
        "colab": {
          "base_uri": "https://localhost:8080/",
          "height": 198,
          "referenced_widgets": [
            "31ec33f3bc90405387509de84faf6111",
            "6c466af878a546a18acf0414fb3043f9",
            "4aec9070d0d14fd3aa74c497fe685ae7",
            "1866b4d207b44412b9b4c6971c8a28ab",
            "4a094b58dc74423c80d7a1bdd6e38442",
            "9881cad93f6e4aacbff709a6a82fe786",
            "7368607bcc8d4e6a84632d2626da0a4e",
            "fb969e9e514a4e98a8bb78e939b8dc32",
            "5d7ca79668164bbd9bc49e064ce08666",
            "7629ac3dbb1f4647a5e61d427ccbc675",
            "ff293b5f3d8342dd8412cea5499cf27f",
            "624cd53ff50d4eb4a22b067cd2e66a44",
            "dac42458838049248093d6c2ae1bc9c8",
            "d839121c1f63417d9848a886a713ba50",
            "60d7d55f4e704da6ab43457e5ee1a35b",
            "27321a0b2217417e89d91eb1461f66fb",
            "4e690fdb63c54cfbb77681ebcdd08979",
            "0bbb706e8c724e80a16e11f6f99aff37",
            "938fb4a78a44485a8919d8414bce05e0",
            "cec93a67d8de45ceafdd0eb756e21f31",
            "b49146eb691f40b0a5897ea694c32d4e",
            "7f3932982c8f487abe071264b603e0e3",
            "3544a33e52564e4db105ebadbfdfcd5a",
            "d3fd0c30c18c47ab8c6d934b8fcdcbfc"
          ]
        },
        "outputId": "d0e5789f-1492-4d70-c60c-9e8a3aa51a94"
      },
      "source": [
        "from transformers import GPT2Tokenizer\n",
        "\n",
        "tokenizer = GPT2Tokenizer.from_pretrained('aubmindlab/aragpt2-base', \n",
        "                                          bos_token='<|startoftext|>', \n",
        "                                          eos_token='<|endoftext|>', \n",
        "                                          pad_token='<|pad|>')\n",
        "\n",
        "\n",
        "tokenizer.encode(\"صباح النور\")"
      ],
      "execution_count": null,
      "outputs": [
        {
          "output_type": "display_data",
          "data": {
            "application/vnd.jupyter.widget-view+json": {
              "model_id": "31ec33f3bc90405387509de84faf6111",
              "version_minor": 0,
              "version_major": 2
            },
            "text/plain": [
              "HBox(children=(FloatProgress(value=0.0, description='Downloading', max=1935314.0, style=ProgressStyle(descript…"
            ]
          },
          "metadata": {
            "tags": []
          }
        },
        {
          "output_type": "stream",
          "text": [
            "\n"
          ],
          "name": "stdout"
        },
        {
          "output_type": "display_data",
          "data": {
            "application/vnd.jupyter.widget-view+json": {
              "model_id": "5d7ca79668164bbd9bc49e064ce08666",
              "version_minor": 0,
              "version_major": 2
            },
            "text/plain": [
              "HBox(children=(FloatProgress(value=0.0, description='Downloading', max=1497508.0, style=ProgressStyle(descript…"
            ]
          },
          "metadata": {
            "tags": []
          }
        },
        {
          "output_type": "stream",
          "text": [
            "\n"
          ],
          "name": "stdout"
        },
        {
          "output_type": "display_data",
          "data": {
            "application/vnd.jupyter.widget-view+json": {
              "model_id": "4e690fdb63c54cfbb77681ebcdd08979",
              "version_minor": 0,
              "version_major": 2
            },
            "text/plain": [
              "HBox(children=(FloatProgress(value=0.0, description='Downloading', max=4519765.0, style=ProgressStyle(descript…"
            ]
          },
          "metadata": {
            "tags": []
          }
        },
        {
          "output_type": "stream",
          "text": [
            "Special tokens have been added in the vocabulary, make sure the associated word embeddings are fine-tuned or trained.\n"
          ],
          "name": "stderr"
        },
        {
          "output_type": "stream",
          "text": [
            "\n"
          ],
          "name": "stdout"
        },
        {
          "output_type": "execute_result",
          "data": {
            "text/plain": [
              "[311, 1734, 6100]"
            ]
          },
          "metadata": {
            "tags": []
          },
          "execution_count": 4
        }
      ]
    },
    {
      "cell_type": "markdown",
      "metadata": {
        "id": "lRdruvCU7Rxf"
      },
      "source": [
        "From the example above we can see that the example string is encoded by the GPT2 tokenizer to a list of numerical values that represent the string, in this case one value per word. These values are easier to train the neural network model on than the string representation. We now have a corpus of flavour text we can iterate through, and a tokenizer, we should quickly inspect it to see what the longest string is, this will be useful later when we need to know how long to pad our sentences out to.\n"
      ]
    },
    {
      "cell_type": "markdown",
      "metadata": {
        "id": "ex5O1eV-Pfct"
      },
      "source": [
        "# PyTorch Datasets & Dataloaders\n"
      ]
    },
    {
      "cell_type": "markdown",
      "metadata": {
        "id": "3lgZoOYkxZfx"
      },
      "source": [
        "Different language models require different amounts of memory to hold all of the weights and biases in memory. Based on the memory your machine has available this will determine how you set your batch size. If your instance is running on a T4 GPU you can set batch to 32, but you may have to scale down if allocated a less powerful instance. "
      ]
    },
    {
      "cell_type": "code",
      "metadata": {
        "id": "satxtOn9CzgR",
        "colab": {
          "base_uri": "https://localhost:8080/"
        },
        "outputId": "38117c94-a325-4051-e2e9-fe686780415f"
      },
      "source": [
        "!nvidia-smi"
      ],
      "execution_count": null,
      "outputs": [
        {
          "output_type": "stream",
          "text": [
            "Sat Jun 12 05:58:58 2021       \n",
            "+-----------------------------------------------------------------------------+\n",
            "| NVIDIA-SMI 465.27       Driver Version: 460.32.03    CUDA Version: 11.2     |\n",
            "|-------------------------------+----------------------+----------------------+\n",
            "| GPU  Name        Persistence-M| Bus-Id        Disp.A | Volatile Uncorr. ECC |\n",
            "| Fan  Temp  Perf  Pwr:Usage/Cap|         Memory-Usage | GPU-Util  Compute M. |\n",
            "|                               |                      |               MIG M. |\n",
            "|===============================+======================+======================|\n",
            "|   0  Tesla T4            Off  | 00000000:00:04.0 Off |                    0 |\n",
            "| N/A   46C    P8     9W /  70W |      0MiB / 15109MiB |      0%      Default |\n",
            "|                               |                      |                  N/A |\n",
            "+-------------------------------+----------------------+----------------------+\n",
            "                                                                               \n",
            "+-----------------------------------------------------------------------------+\n",
            "| Processes:                                                                  |\n",
            "|  GPU   GI   CI        PID   Type   Process name                  GPU Memory |\n",
            "|        ID   ID                                                   Usage      |\n",
            "|=============================================================================|\n",
            "|  No running processes found                                                 |\n",
            "+-----------------------------------------------------------------------------+\n"
          ],
          "name": "stdout"
        }
      ]
    },
    {
      "cell_type": "code",
      "metadata": {
        "id": "scqrzmqhV__z"
      },
      "source": [
        "bs = 32"
      ],
      "execution_count": null,
      "outputs": []
    },
    {
      "cell_type": "markdown",
      "metadata": {
        "id": "lqGMee7Isfpx"
      },
      "source": [
        "The batch size will affect the training time so it is always a good idea to set the batch to the highest number you can fit in the memory of the GPU you are using for training, however this hyper parameter should only affect training time but not model performance. A batch size too large won't fit in memory for some GPUS so you will have to adjust this parameter if you aren't allocated a T4 or K80.\n",
        "\n",
        "The next thing to do is to create a custom dataloader for our corpus, we will follow the [PyTorch](https://pytorch.org/tutorials/beginner/data_loading_tutorial.html) documentation on this to create ```MTGDataset```."
      ]
    },
    {
      "cell_type": "code",
      "metadata": {
        "id": "U_XJVIetKN-h"
      },
      "source": [
        "import torch\n",
        "torch.manual_seed(42)\n",
        "from torch.utils.data import Dataset # this is the pytorch class import\n",
        "\n",
        "class MTGDataset(Dataset):\n",
        "\n",
        "  def __init__(self, txt_list, tokenizer, gpt2_type=\"monsoon-nlp/sanaa\", max_length=98):\n",
        "\n",
        "    self.tokenizer = tokenizer # the gpt2 tokenizer we instantiated\n",
        "    self.input_ids = []\n",
        "    self.attn_masks = []\n",
        "\n",
        "    for txt in txt_list:\n",
        "      \"\"\"\n",
        "      This loop will iterate through each entry in the flavour text corpus.\n",
        "      For each bit of text it will prepend it with the start of text token,\n",
        "      then append the end of text token and pad to the maximum length with the \n",
        "      pad token. \n",
        "      \"\"\"\n",
        "\n",
        "      encodings_dict = tokenizer('<|startoftext|>'+ txt + '<|endoftext|>', \n",
        "                                 truncation=True, \n",
        "                                 max_length=max_length, \n",
        "                                 padding=\"max_length\")\n",
        "      \n",
        "      \"\"\"\n",
        "      Each iteration then appends either the encoded tensor to a list,\n",
        "      or the attention mask for that encoding to a list. The attention mask is\n",
        "      a binary list of 1's or 0's which determine whether the langauge model\n",
        "      should take that token into consideration or not. \n",
        "      \"\"\"\n",
        "      self.input_ids.append(torch.tensor(encodings_dict['input_ids']))\n",
        "      self.attn_masks.append(torch.tensor(encodings_dict['attention_mask']))\n",
        "    \n",
        "  def __len__(self):\n",
        "    return len(self.input_ids)\n",
        "\n",
        "  def __getitem__(self, idx):\n",
        "    return self.input_ids[idx], self.attn_masks[idx] "
      ],
      "execution_count": null,
      "outputs": []
    },
    {
      "cell_type": "markdown",
      "metadata": {
        "id": "89Z7aYUgpWrd"
      },
      "source": [
        "The maximum length of tokens is 768, however we don't need to use this length as we saw that the longest string we are encoding is only 98 words long. So to save space in the model we will only pad up to the longest string in our corpus and not the longest string the tokenizer can handle. Next we will create the dataset itself using this class. Like I described above in the code each entry in the dataset will be two tensors, one which is the encoding for the string and one which is the attention mask. This dataset will then be split into the training and validation sets.\n"
      ]
    },
    {
      "cell_type": "code",
      "metadata": {
        "id": "Xza_O1_rD7yh",
        "colab": {
          "base_uri": "https://localhost:8080/",
          "height": 35
        },
        "outputId": "cde0d0bb-5427-4035-d09a-2357b38961ff"
      },
      "source": [
        "from torch.utils.data import random_split\n",
        "\n",
        "dataset = MTGDataset(t, tokenizer, max_length=98)\n",
        "\n",
        "# Split into training and validation sets\n",
        "train_size = int(0.8 * len(dataset))\n",
        "val_size = len(dataset) - train_size\n",
        "\n",
        "train_dataset, val_dataset = random_split(dataset, [train_size, val_size])\n",
        "\n",
        "f'There are {train_size} samples for training, and {val_size} samples for validation testing'"
      ],
      "execution_count": null,
      "outputs": [
        {
          "output_type": "execute_result",
          "data": {
            "application/vnd.google.colaboratory.intrinsic+json": {
              "type": "string"
            },
            "text/plain": [
              "'There are 52271 samples for training, and 13068 samples for validation testing'"
            ]
          },
          "metadata": {
            "tags": []
          },
          "execution_count": 8
        }
      ]
    },
    {
      "cell_type": "code",
      "metadata": {
        "colab": {
          "base_uri": "https://localhost:8080/"
        },
        "id": "sD8fu5gnhkUy",
        "outputId": "d7627fc2-6d99-4499-8cdc-f1e5b009a688"
      },
      "source": [
        "dataset"
      ],
      "execution_count": null,
      "outputs": [
        {
          "output_type": "execute_result",
          "data": {
            "text/plain": [
              "<__main__.MTGDataset at 0x7ff58d7255d0>"
            ]
          },
          "metadata": {
            "tags": []
          },
          "execution_count": 9
        }
      ]
    },
    {
      "cell_type": "markdown",
      "metadata": {
        "id": "lxNA7fonGAeS"
      },
      "source": [
        "Finally to illustrate what an entry in this dataset looks like below is a print out of the first encoded string. You can see that for every encoded word the model pays attention to we have a 1, then for the padding encodings (50258) we have a 0."
      ]
    },
    {
      "cell_type": "code",
      "metadata": {
        "id": "EGY9SMpuA1cg",
        "colab": {
          "base_uri": "https://localhost:8080/"
        },
        "outputId": "d30eeb06-a77d-4d1e-d8ec-28d3fba7ff36"
      },
      "source": [
        "dataset[0]"
      ],
      "execution_count": null,
      "outputs": [
        {
          "output_type": "execute_result",
          "data": {
            "text/plain": [
              "(tensor([64000,    87, 22108,   202,     0, 64001, 64001, 64001, 64001, 64001,\n",
              "         64001, 64001, 64001, 64001, 64001, 64001, 64001, 64001, 64001, 64001,\n",
              "         64001, 64001, 64001, 64001, 64001, 64001, 64001, 64001, 64001, 64001,\n",
              "         64001, 64001, 64001, 64001, 64001, 64001, 64001, 64001, 64001, 64001,\n",
              "         64001, 64001, 64001, 64001, 64001, 64001, 64001, 64001, 64001, 64001,\n",
              "         64001, 64001, 64001, 64001, 64001, 64001, 64001, 64001, 64001, 64001,\n",
              "         64001, 64001, 64001, 64001, 64001, 64001, 64001, 64001, 64001, 64001,\n",
              "         64001, 64001, 64001, 64001, 64001, 64001, 64001, 64001, 64001, 64001,\n",
              "         64001, 64001, 64001, 64001, 64001, 64001, 64001, 64001, 64001, 64001,\n",
              "         64001, 64001, 64001, 64001, 64001, 64001, 64001, 64001]),\n",
              " tensor([1, 1, 1, 1, 1, 0, 0, 0, 0, 0, 0, 0, 0, 0, 0, 0, 0, 0, 0, 0, 0, 0, 0, 0,\n",
              "         0, 0, 0, 0, 0, 0, 0, 0, 0, 0, 0, 0, 0, 0, 0, 0, 0, 0, 0, 0, 0, 0, 0, 0,\n",
              "         0, 0, 0, 0, 0, 0, 0, 0, 0, 0, 0, 0, 0, 0, 0, 0, 0, 0, 0, 0, 0, 0, 0, 0,\n",
              "         0, 0, 0, 0, 0, 0, 0, 0, 0, 0, 0, 0, 0, 0, 0, 0, 0, 0, 0, 0, 0, 0, 0, 0,\n",
              "         0, 0]))"
            ]
          },
          "metadata": {
            "tags": []
          },
          "execution_count": 10
        }
      ]
    },
    {
      "cell_type": "markdown",
      "metadata": {
        "id": "IMGx4t_3HU0j"
      },
      "source": [
        "Next we will create the dataloader object which will feed the neural network, this combines a dataset and a sampler, and provides single- or multi-process iterators over the dataset, see the official [documentation](https://pytorch.org/docs/1.1.0/_modules/torch/utils/data/dataloader.html) for further details. "
      ]
    },
    {
      "cell_type": "code",
      "metadata": {
        "id": "x0WeP5PREUuy"
      },
      "source": [
        "from torch.utils.data import DataLoader, RandomSampler, SequentialSampler\n",
        "\n",
        "train_dataloader = DataLoader(\n",
        "            train_dataset,  \n",
        "            sampler = RandomSampler(train_dataset), # Sampling for training is random\n",
        "            batch_size = bs\n",
        "        )\n",
        "\n",
        "validation_dataloader = DataLoader(\n",
        "            val_dataset, \n",
        "            sampler = SequentialSampler(val_dataset), # Sampling for validation is sequential as the order doesn't matter.\n",
        "            batch_size = bs \n",
        "        )"
      ],
      "execution_count": null,
      "outputs": []
    },
    {
      "cell_type": "markdown",
      "metadata": {
        "id": "D6TKgyUzPIQc"
      },
      "source": [
        "# Finetune GPT2 Language Model"
      ]
    },
    {
      "cell_type": "code",
      "metadata": {
        "id": "gFsCTp_mporB",
        "colab": {
          "base_uri": "https://localhost:8080/",
          "height": 115,
          "referenced_widgets": [
            "849a047d3b64453ebd7c6784fdf2eea6",
            "bf753b742a124ea2aa8251e445f3dec8",
            "4777445582284ba59d57ca31b3261381",
            "8aa8bd63b41d4e6b889a9aa97bff0e50",
            "25bd7e1d3c954f23907c4f6a60fca765",
            "aefecc561c3b4577bafd38a95252380e",
            "ff538351139d43f583dd536d4b3a55e5",
            "18527b1502a14b4b8085bf23b1e70bc4",
            "716ca76bd2fc47e9affd0c966a375cc7",
            "08d9b371b3e94607b7b42bc4811b1505",
            "f39b418e71e44df997a5a93c10ce50fe",
            "e64013fe5b91488cb35e191f507c79bb",
            "dd94ca40fb8b484785a867e17aa06750",
            "feca2c1495f8469cb60aa06fff66ffbf",
            "13469fd028874f99b7b445198c3ee69a",
            "0c9c574558314b0d877f6e68a1c54ccb"
          ]
        },
        "outputId": "18cc1b58-dbb6-4d0b-b4bb-7d01fffdc48c"
      },
      "source": [
        "import random\n",
        "from transformers import GPT2LMHeadModel, GPT2Config\n",
        "import numpy as np\n",
        "\n",
        "# Loading the model configuration and setting it to the GPT2 standard settings.\n",
        "configuration = GPT2Config.from_pretrained('aubmindlab/aragpt2-base', output_hidden_states=False)\n",
        "\n",
        "# Create the instance of the model and set the token size embedding length\n",
        "model = GPT2LMHeadModel.from_pretrained(\"aubmindlab/aragpt2-base\", config=configuration)\n",
        "model.resize_token_embeddings(len(tokenizer))\n",
        "\n",
        "# Tell pytorch to run this model on the GPU.\n",
        "device = torch.device(\"cuda\")\n",
        "model.cuda()\n",
        "\n",
        "# This step is optional but will enable reproducible runs.\n",
        "seed_val = 42\n",
        "\n",
        "random.seed(seed_val)\n",
        "np.random.seed(seed_val)\n",
        "torch.manual_seed(seed_val)\n",
        "torch.cuda.manual_seed_all(seed_val)"
      ],
      "execution_count": null,
      "outputs": [
        {
          "output_type": "display_data",
          "data": {
            "application/vnd.jupyter.widget-view+json": {
              "model_id": "849a047d3b64453ebd7c6784fdf2eea6",
              "version_minor": 0,
              "version_major": 2
            },
            "text/plain": [
              "HBox(children=(FloatProgress(value=0.0, description='Downloading', max=843.0, style=ProgressStyle(description_…"
            ]
          },
          "metadata": {
            "tags": []
          }
        },
        {
          "output_type": "stream",
          "text": [
            "\n"
          ],
          "name": "stdout"
        },
        {
          "output_type": "display_data",
          "data": {
            "application/vnd.jupyter.widget-view+json": {
              "model_id": "716ca76bd2fc47e9affd0c966a375cc7",
              "version_minor": 0,
              "version_major": 2
            },
            "text/plain": [
              "HBox(children=(FloatProgress(value=0.0, description='Downloading', max=552618653.0, style=ProgressStyle(descri…"
            ]
          },
          "metadata": {
            "tags": []
          }
        },
        {
          "output_type": "stream",
          "text": [
            "\n"
          ],
          "name": "stdout"
        }
      ]
    },
    {
      "cell_type": "code",
      "metadata": {
        "id": "LQKsb18NO757"
      },
      "source": [
        "# We wil create a few variables to define the training parameters of the model\n",
        "# epochs are the training rounds\n",
        "# the warmup steps are steps at the start of training that are ignored\n",
        "# every x steps we will sample the model to test the output\n",
        "\n",
        "epochs = 4\n",
        "warmup_steps = 1e2\n",
        "sample_every = 100"
      ],
      "execution_count": null,
      "outputs": []
    },
    {
      "cell_type": "markdown",
      "metadata": {
        "id": "GH4DA1X6K6jj"
      },
      "source": [
        "[AdamW](https://www.fast.ai/2018/07/02/adam-weight-decay/) is the optimizer of choice for training many models, we will be using [Hugging Face's](https://huggingface.co/transformers/main_classes/optimizer_schedules.html) implementation and all of it's defaults, we will also set the number of epochs here, again as we are fine tuning, not retraining, we don't need to run very long models. "
      ]
    },
    {
      "cell_type": "code",
      "metadata": {
        "id": "GLs72DuMODJO"
      },
      "source": [
        "from transformers import AdamW\n",
        "# AdamW is a class from the huggingface library, it is the optimizer we will be using, and we will only be instantiating it with the default parameters. \n",
        "optimizer = AdamW(model.parameters(),\n",
        "                  lr = 5e-4,\n",
        "                  eps = 1e-8\n",
        "                )"
      ],
      "execution_count": null,
      "outputs": []
    },
    {
      "cell_type": "code",
      "metadata": {
        "id": "-p0upAhhRiIx"
      },
      "source": [
        "from transformers import get_linear_schedule_with_warmup\n",
        "\n",
        "\"\"\"\n",
        "Total training steps is the number of data points, times the number of epochs. \n",
        "Essentially, epochs are training cycles, how many times each point will be seen by the model. \n",
        "\"\"\"\n",
        "\n",
        "total_steps = len(train_dataloader) * epochs\n",
        "\n",
        "\"\"\"\n",
        "We can set a variable learning rate which will help scan larger areas of the \n",
        "problem space at higher LR earlier, then fine tune to find the exact model minima \n",
        "at lower LR later in training.\n",
        "\"\"\"\n",
        "scheduler = get_linear_schedule_with_warmup(optimizer, \n",
        "                                            num_warmup_steps = warmup_steps, \n",
        "                                            num_training_steps = total_steps)"
      ],
      "execution_count": null,
      "outputs": []
    },
    {
      "cell_type": "code",
      "metadata": {
        "id": "vCPohrZ-CTWu",
        "colab": {
          "base_uri": "https://localhost:8080/"
        },
        "outputId": "162677da-a3d1-4083-ba29-8b98def441df"
      },
      "source": [
        "import random\n",
        "import time\n",
        "import datetime\n",
        "\n",
        "def format_time(elapsed):\n",
        "    return str(datetime.timedelta(seconds=int(round((elapsed)))))\n",
        "\n",
        "total_t0 = time.time()\n",
        "\n",
        "training_stats = []\n",
        "\n",
        "model = model.to(device)\n",
        "\n",
        "for epoch_i in range(0, epochs):\n",
        "\n",
        "    print(f'Beginning epoch {epoch_i + 1} of {epochs}')\n",
        "\n",
        "    t0 = time.time()\n",
        "\n",
        "    total_train_loss = 0\n",
        "\n",
        "    model.train()\n",
        "\n",
        "    for step, batch in enumerate(train_dataloader):\n",
        "\n",
        "        b_input_ids = batch[0].to(device)\n",
        "        b_labels = batch[0].to(device)\n",
        "        b_masks = batch[1].to(device)\n",
        "\n",
        "        model.zero_grad()        \n",
        "\n",
        "        outputs = model(  b_input_ids,\n",
        "                          labels=b_labels, \n",
        "                          attention_mask = b_masks,\n",
        "                          token_type_ids=None\n",
        "                        )\n",
        "\n",
        "        loss = outputs[0]  \n",
        "\n",
        "        batch_loss = loss.item()\n",
        "        total_train_loss += batch_loss\n",
        "\n",
        "        # Get sample every 100 batches.\n",
        "        if step % sample_every == 0 and not step == 0:\n",
        "\n",
        "            elapsed = format_time(time.time() - t0)\n",
        "            print(f'Batch {step} of {len(train_dataloader)}. Loss:{batch_loss}. Time:{elapsed}')\n",
        "\n",
        "            model.eval()\n",
        "\n",
        "            sample_outputs = model.generate(\n",
        "                                    bos_token_id=random.randint(1,30000),\n",
        "                                    do_sample=True,   \n",
        "                                    top_k=50, \n",
        "                                    max_length = 200,\n",
        "                                    top_p=0.95, \n",
        "                                    num_return_sequences=1\n",
        "                                )\n",
        "            for i, sample_output in enumerate(sample_outputs):\n",
        "                  print(f'Example output: {tokenizer.decode(sample_output, skip_special_tokens=True)}')\n",
        "            \n",
        "            model.train()\n",
        "\n",
        "        loss.backward()\n",
        "\n",
        "        optimizer.step()\n",
        "\n",
        "        scheduler.step()\n",
        "\n",
        "    # Calculate the average loss over all of the batches.\n",
        "    avg_train_loss = total_train_loss / len(train_dataloader)       \n",
        "    \n",
        "    # Measure how long this epoch took.\n",
        "    training_time = format_time(time.time() - t0)\n",
        "\n",
        "    print(f'Average Training Loss: {avg_train_loss}. Epoch time: {training_time}')\n",
        "\n",
        "    t0 = time.time()\n",
        "\n",
        "    model.eval()\n",
        "\n",
        "    total_eval_loss = 0\n",
        "    nb_eval_steps = 0\n",
        "\n",
        "    # Evaluate data for one epoch\n",
        "    for batch in validation_dataloader:\n",
        "        \n",
        "        b_input_ids = batch[0].to(device)\n",
        "        b_labels = batch[0].to(device)\n",
        "        b_masks = batch[1].to(device)\n",
        "        \n",
        "        with torch.no_grad():        \n",
        "\n",
        "            outputs  = model(b_input_ids,  \n",
        "                             attention_mask = b_masks,\n",
        "                             labels=b_labels)\n",
        "          \n",
        "            loss = outputs[0]  \n",
        "            \n",
        "        batch_loss = loss.item()\n",
        "        total_eval_loss += batch_loss        \n",
        "\n",
        "    avg_val_loss = total_eval_loss / len(validation_dataloader)\n",
        "    \n",
        "    validation_time = format_time(time.time() - t0)    \n",
        "\n",
        "    print(f'Validation loss: {avg_val_loss}. Validation Time: {validation_time}')\n",
        "\n",
        "    # Record all statistics from this epoch.\n",
        "    training_stats.append(\n",
        "        {\n",
        "            'epoch': epoch_i + 1,\n",
        "            'Training Loss': avg_train_loss,\n",
        "            'Valid. Loss': avg_val_loss,\n",
        "            'Training Time': training_time,\n",
        "            'Validation Time': validation_time\n",
        "        }\n",
        "    )\n",
        "\n",
        "print(f'Total training took {format_time(time.time()-total_t0)}')"
      ],
      "execution_count": null,
      "outputs": [
        {
          "output_type": "stream",
          "text": [
            "Beginning epoch 1 of 4\n"
          ],
          "name": "stdout"
        },
        {
          "output_type": "stream",
          "text": [
            "Setting `pad_token_id` to `eos_token_id`:0 for open-end generation.\n"
          ],
          "name": "stderr"
        },
        {
          "output_type": "stream",
          "text": [
            "Batch 100 of 1634. Loss:0.9763764142990112. Time:0:01:41\n",
            "Example output:  الباقيتكتب كل شيء غير اللي يعرفنا شيء اكيد لا يفهم الناس اجمعين في مصر الا انا كان يعرف هاذي غير اني لا اتكلمش اعملوها هاذي هاذي شي من تونس لا نوما ما يتقرروا باش ما يعرفوش فيها شيء متاعكم من تونس و انا نعمل بيها مع المواطنين اللي تعمل بيها كلش عادك كل يوم باش نعطوهم في تونس كولو تاها شيء معينش يا ما تعرفو و خاصة بعد تونس باش ما فيها شيئ في تونس الكملو وقت ما تعرف الناس غير الكلام اللي ما تعرفو فيها حاجة و خاصة الناس و متاعك في حاجة برشة شوية تونسية في خاطر من اي فترة ما تاعش في تونس و حتى غير في تونس ما تعرفهماش الي لا شيء الا ما يعرفش باش يكون في تونس و لا يعرفو اللي مشو موجودين في تونس في تونس و ما لا شيء غير كلام الناس بعد تونس ما يكونش من أي شيء لكن بعد ما نقولو الناس بعد ساعة ما عاد ما عادش اي شيء مع الوقت و\n"
          ],
          "name": "stdout"
        },
        {
          "output_type": "stream",
          "text": [
            "Setting `pad_token_id` to `eos_token_id`:0 for open-end generation.\n"
          ],
          "name": "stderr"
        },
        {
          "output_type": "stream",
          "text": [
            "Batch 200 of 1634. Loss:1.4040019512176514. Time:0:03:30\n",
            "Example output: ينيينكل واحد ما يمكنش حتى في كل يوم و نحن من اليوم اللي نحبو و نعرفو في كل مرة كل شيء بسيط و في كل شيء متاع كل شيء يهمش في النهار التونسي في كل شي من اليوم واللي صار في النهار كل يوم وكل نهار من اليوم والناس الي ندور في تونس في النهار ما نعرفش كيفاش في كل شيء بسيط و لا يهمهمش ولا نعرفوا الحقيقة ومن غير منطقي ومعبي وو ما يعرفش من الحقيقة هوما نقعدو من بعد ما نموت وما نعرفش على واحد اللي ما يفهمش حتى في الحياة ما نفهموش كيفاش و كيفاش باش يعرفوه في حياتهم كل مرة واحد في حياتهم وما نعرفش في الدار و حتى نفهمو على كل شيء كيفاش و غير ما نحبش فيها هوما نعرفوش الحكاية اللي ندور في النهار وما نشبيها في النهار في كل شيء نفهمها و نحن نحن في الليل ما نعرفش فيهش كيفاش و نحن في الليل من اليوم اللي جايبش واحد في النهار و حتى من الصباح كان في حجر\n"
          ],
          "name": "stdout"
        },
        {
          "output_type": "stream",
          "text": [
            "Setting `pad_token_id` to `eos_token_id`:0 for open-end generation.\n"
          ],
          "name": "stderr"
        },
        {
          "output_type": "stream",
          "text": [
            "Batch 300 of 1634. Loss:1.355130910873413. Time:0:05:19\n",
            "Example output: فتيعني في مكان يخدمو ولا في الخارج ولا في الخارج\n",
            "\n"
          ],
          "name": "stdout"
        },
        {
          "output_type": "stream",
          "text": [
            "Setting `pad_token_id` to `eos_token_id`:0 for open-end generation.\n"
          ],
          "name": "stderr"
        },
        {
          "output_type": "stream",
          "text": [
            "Batch 400 of 1634. Loss:0.9990910887718201. Time:0:07:06\n",
            "Example output:  تجربتهخاصة و مافيش باش تخرج من باب الدار مالاغلبية\n",
            "\n"
          ],
          "name": "stdout"
        },
        {
          "output_type": "stream",
          "text": [
            "Setting `pad_token_id` to `eos_token_id`:0 for open-end generation.\n"
          ],
          "name": "stderr"
        },
        {
          "output_type": "stream",
          "text": [
            "Batch 500 of 1634. Loss:1.1888196468353271. Time:0:08:53\n",
            "Example output:  بجدةما عادش خويا ما عاداش و ما عادش هاو شيء هه وو جبتنيش حاجة خويا\n",
            "\n"
          ],
          "name": "stdout"
        },
        {
          "output_type": "stream",
          "text": [
            "Setting `pad_token_id` to `eos_token_id`:0 for open-end generation.\n"
          ],
          "name": "stderr"
        },
        {
          "output_type": "stream",
          "text": [
            "Batch 600 of 1634. Loss:0.7578120827674866. Time:0:10:40\n",
            "Example output:  والل�اسودو دياركم في تونس مشا\n",
            "\n"
          ],
          "name": "stdout"
        },
        {
          "output_type": "stream",
          "text": [
            "Setting `pad_token_id` to `eos_token_id`:0 for open-end generation.\n"
          ],
          "name": "stderr"
        },
        {
          "output_type": "stream",
          "text": [
            "Batch 700 of 1634. Loss:0.9405247569084167. Time:0:12:27\n",
            "Example output:  نقابةالشهرة إلي نجم فيها إلي هي إلي نجم هكة في قناتنا و قناتنا أكثر من خمسة سنوات و أكثر بش نرسملك في قناتنا\n",
            "\n"
          ],
          "name": "stdout"
        },
        {
          "output_type": "stream",
          "text": [
            "Setting `pad_token_id` to `eos_token_id`:0 for open-end generation.\n"
          ],
          "name": "stderr"
        },
        {
          "output_type": "stream",
          "text": [
            "Batch 800 of 1634. Loss:0.9958183169364929. Time:0:14:14\n",
            "Example output: هاري\n",
            "\n"
          ],
          "name": "stdout"
        },
        {
          "output_type": "stream",
          "text": [
            "Setting `pad_token_id` to `eos_token_id`:0 for open-end generation.\n"
          ],
          "name": "stderr"
        },
        {
          "output_type": "stream",
          "text": [
            "Batch 900 of 1634. Loss:1.0329310894012451. Time:0:16:00\n",
            "Example output:  فائقعندك ساهلة محلاها هاذي حبتني كان ماته\n",
            "\n"
          ],
          "name": "stdout"
        },
        {
          "output_type": "stream",
          "text": [
            "Setting `pad_token_id` to `eos_token_id`:0 for open-end generation.\n"
          ],
          "name": "stderr"
        },
        {
          "output_type": "stream",
          "text": [
            "Batch 1000 of 1634. Loss:0.6689910888671875. Time:0:17:47\n",
            "Example output: سجيلمعلم\n",
            "\n"
          ],
          "name": "stdout"
        },
        {
          "output_type": "stream",
          "text": [
            "Setting `pad_token_id` to `eos_token_id`:0 for open-end generation.\n"
          ],
          "name": "stderr"
        },
        {
          "output_type": "stream",
          "text": [
            "Batch 1100 of 1634. Loss:0.7953939437866211. Time:0:19:34\n",
            "Example output:  ينتهكصديكو دق 76\n",
            "\n"
          ],
          "name": "stdout"
        },
        {
          "output_type": "stream",
          "text": [
            "Setting `pad_token_id` to `eos_token_id`:0 for open-end generation.\n"
          ],
          "name": "stderr"
        },
        {
          "output_type": "stream",
          "text": [
            "Batch 1200 of 1634. Loss:0.889569878578186. Time:0:21:20\n",
            "Example output:  بلطما يسكرش\n",
            "\n"
          ],
          "name": "stdout"
        },
        {
          "output_type": "stream",
          "text": [
            "Setting `pad_token_id` to `eos_token_id`:0 for open-end generation.\n"
          ],
          "name": "stderr"
        },
        {
          "output_type": "stream",
          "text": [
            "Batch 1300 of 1634. Loss:0.8718414902687073. Time:0:23:07\n",
            "Example output: زيكفي إطار خطة أمريكية و أمريكية\n",
            "\n"
          ],
          "name": "stdout"
        },
        {
          "output_type": "stream",
          "text": [
            "Setting `pad_token_id` to `eos_token_id`:0 for open-end generation.\n"
          ],
          "name": "stderr"
        },
        {
          "output_type": "stream",
          "text": [
            "Batch 1400 of 1634. Loss:0.9682220816612244. Time:0:24:54\n",
            "Example output:  التهمبالتوفيق ان شاء الله\n",
            "\n"
          ],
          "name": "stdout"
        },
        {
          "output_type": "stream",
          "text": [
            "Setting `pad_token_id` to `eos_token_id`:0 for open-end generation.\n"
          ],
          "name": "stderr"
        },
        {
          "output_type": "stream",
          "text": [
            "Batch 1500 of 1634. Loss:0.9033144116401672. Time:0:26:41\n",
            "Example output: ليناي\n",
            "\n"
          ],
          "name": "stdout"
        },
        {
          "output_type": "stream",
          "text": [
            "Setting `pad_token_id` to `eos_token_id`:0 for open-end generation.\n"
          ],
          "name": "stderr"
        },
        {
          "output_type": "stream",
          "text": [
            "Batch 1600 of 1634. Loss:1.2979214191436768. Time:0:28:28\n",
            "Example output:  المميزاتكريم شادلة\n",
            "\n",
            "Average Training Loss: 1.0595871739025653. Epoch time: 0:29:03\n",
            "Validation loss: 0.7935117617941719. Validation Time: 0:02:23\n",
            "Beginning epoch 2 of 4\n"
          ],
          "name": "stdout"
        },
        {
          "output_type": "stream",
          "text": [
            "Setting `pad_token_id` to `eos_token_id`:0 for open-end generation.\n"
          ],
          "name": "stderr"
        },
        {
          "output_type": "stream",
          "text": [
            "Batch 100 of 1634. Loss:0.8107580542564392. Time:0:01:47\n",
            "Example output:  التصريحاترب يحمينا\n",
            "\n"
          ],
          "name": "stdout"
        },
        {
          "output_type": "stream",
          "text": [
            "Setting `pad_token_id` to `eos_token_id`:0 for open-end generation.\n"
          ],
          "name": "stderr"
        },
        {
          "output_type": "stream",
          "text": [
            "Batch 200 of 1634. Loss:0.5142589807510376. Time:0:03:34\n",
            "Example output:  نحاحلى نور امين\n",
            "\n"
          ],
          "name": "stdout"
        },
        {
          "output_type": "stream",
          "text": [
            "Setting `pad_token_id` to `eos_token_id`:0 for open-end generation.\n"
          ],
          "name": "stderr"
        },
        {
          "output_type": "stream",
          "text": [
            "Batch 300 of 1634. Loss:0.8257040977478027. Time:0:05:20\n",
            "Example output: لانراجل\n",
            "\n"
          ],
          "name": "stdout"
        },
        {
          "output_type": "stream",
          "text": [
            "Setting `pad_token_id` to `eos_token_id`:0 for open-end generation.\n"
          ],
          "name": "stderr"
        },
        {
          "output_type": "stream",
          "text": [
            "Batch 400 of 1634. Loss:0.9053298830986023. Time:0:07:07\n",
            "Example output:  يوسفإلي ما لقيت ما قلت شنوة ما لقيتش ها المدونه من جديد وريني خويا زادا زادا كان ها التدوينه إلي صارت هي إلي عندي و إلي تحكي فيه\n",
            "\n"
          ],
          "name": "stdout"
        },
        {
          "output_type": "stream",
          "text": [
            "Setting `pad_token_id` to `eos_token_id`:0 for open-end generation.\n"
          ],
          "name": "stderr"
        },
        {
          "output_type": "stream",
          "text": [
            "Batch 500 of 1634. Loss:0.8309661149978638. Time:0:08:54\n",
            "Example output:  whخدامة و مزيانة\n",
            "\n"
          ],
          "name": "stdout"
        },
        {
          "output_type": "stream",
          "text": [
            "Setting `pad_token_id` to `eos_token_id`:0 for open-end generation.\n"
          ],
          "name": "stderr"
        },
        {
          "output_type": "stream",
          "text": [
            "Batch 600 of 1634. Loss:0.9787625074386597. Time:0:10:41\n",
            "Example output:  الاربعاءكلام صحيح\n",
            "\n"
          ],
          "name": "stdout"
        },
        {
          "output_type": "stream",
          "text": [
            "Setting `pad_token_id` to `eos_token_id`:0 for open-end generation.\n"
          ],
          "name": "stderr"
        },
        {
          "output_type": "stream",
          "text": [
            "Batch 700 of 1634. Loss:0.8107263445854187. Time:0:12:28\n",
            "Example output: ديادوالله عار على كل غيور على شعبه\n",
            "\n"
          ],
          "name": "stdout"
        },
        {
          "output_type": "stream",
          "text": [
            "Setting `pad_token_id` to `eos_token_id`:0 for open-end generation.\n"
          ],
          "name": "stderr"
        },
        {
          "output_type": "stream",
          "text": [
            "Batch 800 of 1634. Loss:0.5888786911964417. Time:0:14:15\n",
            "Example output:  فلسطينيينوالله عيب و ربي يكون على أخلاقكم و ربي يحفضكم\n",
            "\n"
          ],
          "name": "stdout"
        },
        {
          "output_type": "stream",
          "text": [
            "Setting `pad_token_id` to `eos_token_id`:0 for open-end generation.\n"
          ],
          "name": "stderr"
        },
        {
          "output_type": "stream",
          "text": [
            "Batch 900 of 1634. Loss:0.7555410861968994. Time:0:16:02\n",
            "Example output:  بالمفنان ناجح واعي و من أحسن الممثلين في البلاد\n",
            "\n"
          ],
          "name": "stdout"
        },
        {
          "output_type": "stream",
          "text": [
            "Setting `pad_token_id` to `eos_token_id`:0 for open-end generation.\n"
          ],
          "name": "stderr"
        },
        {
          "output_type": "stream",
          "text": [
            "Batch 1000 of 1634. Loss:0.8333951234817505. Time:0:17:49\n",
            "Example output:  التشكيليةهذا يدخل حد الوباء\n",
            "\n"
          ],
          "name": "stdout"
        },
        {
          "output_type": "stream",
          "text": [
            "Setting `pad_token_id` to `eos_token_id`:0 for open-end generation.\n"
          ],
          "name": "stderr"
        },
        {
          "output_type": "stream",
          "text": [
            "Batch 1100 of 1634. Loss:0.558089554309845. Time:0:19:36\n",
            "Example output:  الطقسالميكير ك تشوفو الكلوش باش ما توفرولهم\n",
            "\n"
          ],
          "name": "stdout"
        },
        {
          "output_type": "stream",
          "text": [
            "Setting `pad_token_id` to `eos_token_id`:0 for open-end generation.\n"
          ],
          "name": "stderr"
        },
        {
          "output_type": "stream",
          "text": [
            "Batch 1200 of 1634. Loss:0.7822617888450623. Time:0:21:22\n",
            "Example output: �اركةقحب\n",
            "\n"
          ],
          "name": "stdout"
        },
        {
          "output_type": "stream",
          "text": [
            "Setting `pad_token_id` to `eos_token_id`:0 for open-end generation.\n"
          ],
          "name": "stderr"
        },
        {
          "output_type": "stream",
          "text": [
            "Batch 1300 of 1634. Loss:0.685971200466156. Time:0:23:09\n",
            "Example output:  وحريةسدد الله خطاكم\n",
            "\n"
          ],
          "name": "stdout"
        },
        {
          "output_type": "stream",
          "text": [
            "Setting `pad_token_id` to `eos_token_id`:0 for open-end generation.\n"
          ],
          "name": "stderr"
        },
        {
          "output_type": "stream",
          "text": [
            "Batch 1400 of 1634. Loss:0.714095413684845. Time:0:24:56\n",
            "Example output:  متسبيهالله لا تربحك يا ربيي عل بوليس مااسط جايبينو ياخي يا جعفور و كلامو صحيح كل حاجة لا\n",
            "\n"
          ],
          "name": "stdout"
        },
        {
          "output_type": "stream",
          "text": [
            "Setting `pad_token_id` to `eos_token_id`:0 for open-end generation.\n"
          ],
          "name": "stderr"
        },
        {
          "output_type": "stream",
          "text": [
            "Batch 1500 of 1634. Loss:0.6797019839286804. Time:0:26:43\n",
            "Example output: عبدما شحمه الله و الله ما تلطف بيهم\n",
            "\n"
          ],
          "name": "stdout"
        },
        {
          "output_type": "stream",
          "text": [
            "Setting `pad_token_id` to `eos_token_id`:0 for open-end generation.\n"
          ],
          "name": "stderr"
        },
        {
          "output_type": "stream",
          "text": [
            "Batch 1600 of 1634. Loss:0.8159812688827515. Time:0:28:30\n",
            "Example output:  يغيرعطيوبة\n",
            "\n",
            "Average Training Loss: 0.7435706842376085. Epoch time: 0:29:05\n",
            "Validation loss: 0.7184764142432831. Validation Time: 0:02:24\n",
            "Beginning epoch 3 of 4\n"
          ],
          "name": "stdout"
        },
        {
          "output_type": "stream",
          "text": [
            "Setting `pad_token_id` to `eos_token_id`:0 for open-end generation.\n"
          ],
          "name": "stderr"
        },
        {
          "output_type": "stream",
          "text": [
            "Batch 100 of 1634. Loss:0.7496828436851501. Time:0:01:47\n",
            "Example output:  نجومإستدعاء الفنانين في تونس\n",
            "\n"
          ],
          "name": "stdout"
        },
        {
          "output_type": "stream",
          "text": [
            "Setting `pad_token_id` to `eos_token_id`:0 for open-end generation.\n"
          ],
          "name": "stderr"
        },
        {
          "output_type": "stream",
          "text": [
            "Batch 200 of 1634. Loss:0.598881185054779. Time:0:03:34\n",
            "Example output:  والمتوسطةهذاكة موش قتلي كان نحي دمو\n",
            "\n"
          ],
          "name": "stdout"
        },
        {
          "output_type": "stream",
          "text": [
            "Setting `pad_token_id` to `eos_token_id`:0 for open-end generation.\n"
          ],
          "name": "stderr"
        },
        {
          "output_type": "stream",
          "text": [
            "Batch 300 of 1634. Loss:0.6491476893424988. Time:0:05:21\n",
            "Example output:  كوبيربي يحمي تونس و أهلها\n",
            "\n"
          ],
          "name": "stdout"
        },
        {
          "output_type": "stream",
          "text": [
            "Setting `pad_token_id` to `eos_token_id`:0 for open-end generation.\n"
          ],
          "name": "stderr"
        },
        {
          "output_type": "stream",
          "text": [
            "Batch 400 of 1634. Loss:0.407758891582489. Time:0:07:07\n",
            "Example output:  مقاتألمانيا عندها 69 حالة إنعاش و إنعاش و إنعاش و 700 مليون ساكن هنا و هذا يمثل 4 أهداف من وراء هذا يمثل 4 من وراء إنعاش\n",
            "\n"
          ],
          "name": "stdout"
        },
        {
          "output_type": "stream",
          "text": [
            "Setting `pad_token_id` to `eos_token_id`:0 for open-end generation.\n"
          ],
          "name": "stderr"
        },
        {
          "output_type": "stream",
          "text": [
            "Batch 500 of 1634. Loss:0.6535628437995911. Time:0:08:55\n",
            "Example output:  أفنيانا ما فقتش\n",
            "\n"
          ],
          "name": "stdout"
        },
        {
          "output_type": "stream",
          "text": [
            "Setting `pad_token_id` to `eos_token_id`:0 for open-end generation.\n"
          ],
          "name": "stderr"
        },
        {
          "output_type": "stream",
          "text": [
            "Batch 600 of 1634. Loss:0.5489158630371094. Time:0:10:42\n",
            "Example output:  ولدهما شاء الله عليها\n",
            "\n"
          ],
          "name": "stdout"
        },
        {
          "output_type": "stream",
          "text": [
            "Setting `pad_token_id` to `eos_token_id`:0 for open-end generation.\n"
          ],
          "name": "stderr"
        },
        {
          "output_type": "stream",
          "text": [
            "Batch 700 of 1634. Loss:0.5803480744361877. Time:0:12:28\n",
            "Example output: \u0015برافو\n",
            "\n"
          ],
          "name": "stdout"
        },
        {
          "output_type": "stream",
          "text": [
            "Setting `pad_token_id` to `eos_token_id`:0 for open-end generation.\n"
          ],
          "name": "stderr"
        },
        {
          "output_type": "stream",
          "text": [
            "Batch 800 of 1634. Loss:0.7713974118232727. Time:0:14:15\n",
            "Example output:  الفللرجل بكل خصال الرجولة والشهامة وحب العطاء الله يسليك\n",
            "\n"
          ],
          "name": "stdout"
        },
        {
          "output_type": "stream",
          "text": [
            "Setting `pad_token_id` to `eos_token_id`:0 for open-end generation.\n"
          ],
          "name": "stderr"
        },
        {
          "output_type": "stream",
          "text": [
            "Batch 900 of 1634. Loss:0.6262574195861816. Time:0:16:02\n",
            "Example output: حايابربي سؤال هل زار ت السياحه غير معنيه لانها الى حد الان لم تغل ق البيران ولا الوتله ولد سربي حتى العشر تاع الليل\n",
            "\n"
          ],
          "name": "stdout"
        },
        {
          "output_type": "stream",
          "text": [
            "Setting `pad_token_id` to `eos_token_id`:0 for open-end generation.\n"
          ],
          "name": "stderr"
        },
        {
          "output_type": "stream",
          "text": [
            "Batch 1000 of 1634. Loss:0.5537426471710205. Time:0:17:49\n",
            "Example output:  يساعدبلا\n",
            "\n"
          ],
          "name": "stdout"
        },
        {
          "output_type": "stream",
          "text": [
            "Setting `pad_token_id` to `eos_token_id`:0 for open-end generation.\n"
          ],
          "name": "stderr"
        },
        {
          "output_type": "stream",
          "text": [
            "Batch 1100 of 1634. Loss:0.5733129382133484. Time:0:19:36\n",
            "Example output:  اكتسابنقول لها الحق في اي لحظة خاطر رانا في ايطاليا وبقية الدول محترمة الحجر الصحي و كل شي تعملوه في تونس والعالم\n",
            "\n"
          ],
          "name": "stdout"
        },
        {
          "output_type": "stream",
          "text": [
            "Setting `pad_token_id` to `eos_token_id`:0 for open-end generation.\n"
          ],
          "name": "stderr"
        },
        {
          "output_type": "stream",
          "text": [
            "Batch 1200 of 1634. Loss:0.7633512616157532. Time:0:21:23\n",
            "Example output:  2020ي\n",
            "\n"
          ],
          "name": "stdout"
        },
        {
          "output_type": "stream",
          "text": [
            "Setting `pad_token_id` to `eos_token_id`:0 for open-end generation.\n"
          ],
          "name": "stderr"
        },
        {
          "output_type": "stream",
          "text": [
            "Batch 1300 of 1634. Loss:0.4779297709465027. Time:0:23:10\n",
            "Example output:  يحضربالتوفيق دكتور\n",
            "\n"
          ],
          "name": "stdout"
        },
        {
          "output_type": "stream",
          "text": [
            "Setting `pad_token_id` to `eos_token_id`:0 for open-end generation.\n"
          ],
          "name": "stderr"
        },
        {
          "output_type": "stream",
          "text": [
            "Batch 1400 of 1634. Loss:0.43948251008987427. Time:0:24:56\n",
            "Example output: �وميبتبط يوتو ب دبااتنااناانسمة\n",
            "\n"
          ],
          "name": "stdout"
        },
        {
          "output_type": "stream",
          "text": [
            "Setting `pad_token_id` to `eos_token_id`:0 for open-end generation.\n"
          ],
          "name": "stderr"
        },
        {
          "output_type": "stream",
          "text": [
            "Batch 1500 of 1634. Loss:0.4917277991771698. Time:0:26:43\n",
            "Example output:  شهادةهاذي نكرة و قداش تنجم\n",
            "\n"
          ],
          "name": "stdout"
        },
        {
          "output_type": "stream",
          "text": [
            "Setting `pad_token_id` to `eos_token_id`:0 for open-end generation.\n"
          ],
          "name": "stderr"
        },
        {
          "output_type": "stream",
          "text": [
            "Batch 1600 of 1634. Loss:0.4676280915737152. Time:0:28:30\n",
            "Example output:  وآخربرافو\n",
            "\n",
            "Average Training Loss: 0.6089950028437587. Epoch time: 0:29:05\n",
            "Validation loss: 0.6636781667730336. Validation Time: 0:02:24\n",
            "Beginning epoch 4 of 4\n"
          ],
          "name": "stdout"
        },
        {
          "output_type": "stream",
          "text": [
            "Setting `pad_token_id` to `eos_token_id`:0 for open-end generation.\n"
          ],
          "name": "stderr"
        },
        {
          "output_type": "stream",
          "text": [
            "Batch 100 of 1634. Loss:0.5142074823379517. Time:0:01:47\n",
            "Example output: جانيكلامو صحيح برافوو\n",
            "\n"
          ],
          "name": "stdout"
        },
        {
          "output_type": "stream",
          "text": [
            "Setting `pad_token_id` to `eos_token_id`:0 for open-end generation.\n"
          ],
          "name": "stderr"
        },
        {
          "output_type": "stream",
          "text": [
            "Batch 200 of 1634. Loss:0.46466413140296936. Time:0:03:34\n",
            "Example output: ثقفي إطار محاربة فيروس كورونا في تونس\n",
            "\n"
          ],
          "name": "stdout"
        },
        {
          "output_type": "stream",
          "text": [
            "Setting `pad_token_id` to `eos_token_id`:0 for open-end generation.\n"
          ],
          "name": "stderr"
        },
        {
          "output_type": "stream",
          "text": [
            "Batch 300 of 1634. Loss:0.4941146969795227. Time:0:05:21\n",
            "Example output:  شمالتعجبني\n",
            "\n"
          ],
          "name": "stdout"
        },
        {
          "output_type": "stream",
          "text": [
            "Setting `pad_token_id` to `eos_token_id`:0 for open-end generation.\n"
          ],
          "name": "stderr"
        },
        {
          "output_type": "stream",
          "text": [
            "Batch 400 of 1634. Loss:0.5398553013801575. Time:0:07:07\n",
            "Example output:  العلاقاتنسمة كورونا\n",
            "\n"
          ],
          "name": "stdout"
        },
        {
          "output_type": "stream",
          "text": [
            "Setting `pad_token_id` to `eos_token_id`:0 for open-end generation.\n"
          ],
          "name": "stderr"
        },
        {
          "output_type": "stream",
          "text": [
            "Batch 500 of 1634. Loss:0.48303964734077454. Time:0:08:54\n",
            "Example output:  تهددسلامتكوسلامتيمسؤليتناالكل\n",
            "\n"
          ],
          "name": "stdout"
        },
        {
          "output_type": "stream",
          "text": [
            "Setting `pad_token_id` to `eos_token_id`:0 for open-end generation.\n"
          ],
          "name": "stderr"
        },
        {
          "output_type": "stream",
          "text": [
            "Batch 600 of 1634. Loss:0.4882400333881378. Time:0:10:41\n",
            "Example output:  ومشماسطة و متكبر\n",
            "\n"
          ],
          "name": "stdout"
        },
        {
          "output_type": "stream",
          "text": [
            "Setting `pad_token_id` to `eos_token_id`:0 for open-end generation.\n"
          ],
          "name": "stderr"
        },
        {
          "output_type": "stream",
          "text": [
            "Batch 700 of 1634. Loss:0.5324944853782654. Time:0:12:28\n",
            "Example output:  وحلولي\n",
            "\n"
          ],
          "name": "stdout"
        },
        {
          "output_type": "stream",
          "text": [
            "Setting `pad_token_id` to `eos_token_id`:0 for open-end generation.\n"
          ],
          "name": "stderr"
        },
        {
          "output_type": "stream",
          "text": [
            "Batch 800 of 1634. Loss:0.5394680500030518. Time:0:14:14\n",
            "Example output:  سببهبجاه ربي نقصو علينا من كثرة الاشهار فى خليل تونس رانا كرهنا نسمة وكرهنا نتفرج فيها ولات قنات طلبة فقط\n",
            "\n"
          ],
          "name": "stdout"
        },
        {
          "output_type": "stream",
          "text": [
            "Setting `pad_token_id` to `eos_token_id`:0 for open-end generation.\n"
          ],
          "name": "stderr"
        },
        {
          "output_type": "stream",
          "text": [
            "Batch 900 of 1634. Loss:0.5661144256591797. Time:0:16:02\n",
            "Example output:  وجهاتبرشة ضحك برافو\n",
            "\n"
          ],
          "name": "stdout"
        },
        {
          "output_type": "stream",
          "text": [
            "Setting `pad_token_id` to `eos_token_id`:0 for open-end generation.\n"
          ],
          "name": "stderr"
        },
        {
          "output_type": "stream",
          "text": [
            "Batch 1000 of 1634. Loss:0.40894147753715515. Time:0:17:48\n",
            "Example output:  استئممسطها مرا وعليها لكلام\n",
            "\n"
          ],
          "name": "stdout"
        },
        {
          "output_type": "stream",
          "text": [
            "Setting `pad_token_id` to `eos_token_id`:0 for open-end generation.\n"
          ],
          "name": "stderr"
        },
        {
          "output_type": "stream",
          "text": [
            "Batch 1100 of 1634. Loss:0.5123432278633118. Time:0:19:35\n",
            "Example output:  الاسرائيليةيا دكتور نسعدو المرحلة هاذي\n",
            "\n"
          ],
          "name": "stdout"
        },
        {
          "output_type": "stream",
          "text": [
            "Setting `pad_token_id` to `eos_token_id`:0 for open-end generation.\n"
          ],
          "name": "stderr"
        },
        {
          "output_type": "stream",
          "text": [
            "Batch 1200 of 1634. Loss:0.6548138856887817. Time:0:21:22\n",
            "Example output:  رصاصالمعمل تخدم بال الف موش محصوبين فداول وماعندمشههش بلاصة فلخررية\n",
            "\n"
          ],
          "name": "stdout"
        },
        {
          "output_type": "stream",
          "text": [
            "Setting `pad_token_id` to `eos_token_id`:0 for open-end generation.\n"
          ],
          "name": "stderr"
        },
        {
          "output_type": "stream",
          "text": [
            "Batch 1300 of 1634. Loss:0.5589815378189087. Time:0:23:09\n",
            "Example output:  ولمربي يقدر الخير\n",
            "\n"
          ],
          "name": "stdout"
        },
        {
          "output_type": "stream",
          "text": [
            "Setting `pad_token_id` to `eos_token_id`:0 for open-end generation.\n"
          ],
          "name": "stderr"
        },
        {
          "output_type": "stream",
          "text": [
            "Batch 1400 of 1634. Loss:0.41205766797065735. Time:0:24:56\n",
            "Example output: ورطينكفر فو 24 24 يرحم والديكم خير مبهد مانندمو\n",
            "\n"
          ],
          "name": "stdout"
        },
        {
          "output_type": "stream",
          "text": [
            "Setting `pad_token_id` to `eos_token_id`:0 for open-end generation.\n"
          ],
          "name": "stderr"
        },
        {
          "output_type": "stream",
          "text": [
            "Batch 1500 of 1634. Loss:0.36451253294944763. Time:0:26:42\n",
            "Example output:  ويافشل\n",
            "\n"
          ],
          "name": "stdout"
        },
        {
          "output_type": "stream",
          "text": [
            "Setting `pad_token_id` to `eos_token_id`:0 for open-end generation.\n"
          ],
          "name": "stderr"
        },
        {
          "output_type": "stream",
          "text": [
            "Batch 1600 of 1634. Loss:0.5425718426704407. Time:0:28:29\n",
            "Example output:  الإسلاميينشيخنا عبد الفتاح مورو مشى يشطح على روحو و من بعدو شيخ من أصل عرق آخر و هو يقاسي و مناضل\n",
            "\n",
            "Average Training Loss: 0.4880859901902871. Epoch time: 0:29:05\n",
            "Validation loss: 0.6514569288506776. Validation Time: 0:02:24\n",
            "Total training took 2:05:54\n"
          ],
          "name": "stdout"
        }
      ]
    },
    {
      "cell_type": "markdown",
      "metadata": {
        "id": "VQTvJ1vRP7u4"
      },
      "source": [
        "Let's view the summary of the training process, We'll visualize the change in training and validation loss to see if the models is converging. "
      ]
    },
    {
      "cell_type": "code",
      "metadata": {
        "id": "68xreA9JAmG5",
        "colab": {
          "base_uri": "https://localhost:8080/",
          "height": 427
        },
        "outputId": "ee2cb251-7b52-472d-fb15-9be5044e2773"
      },
      "source": [
        "import seaborn as sns\n",
        "import matplotlib.pyplot as plt\n",
        "% matplotlib inline\n",
        "\n",
        "pd.set_option('precision', 2)\n",
        "df_stats = pd.DataFrame(data=training_stats)\n",
        "df_stats = df_stats.set_index('epoch')\n",
        "\n",
        "# Use plot styling from seaborn.\n",
        "sns.set(style='darkgrid')\n",
        "\n",
        "# Increase the plot size and font size.\n",
        "sns.set(font_scale=1.5)\n",
        "plt.rcParams[\"figure.figsize\"] = (12,6)\n",
        "\n",
        "# Plot the learning curve.\n",
        "plt.plot(df_stats['Training Loss'], 'b-o', label=\"Training\")\n",
        "plt.plot(df_stats['Valid. Loss'], 'g-o', label=\"Validation\")\n",
        "\n",
        "# Label the plot.\n",
        "plt.title(\"Training & Validation Loss\")\n",
        "plt.xlabel(\"Epoch\")\n",
        "plt.ylabel(\"Loss\")\n",
        "plt.legend()\n",
        "plt.xticks([1, 2, 3, 4])\n",
        "\n",
        "plt.show()"
      ],
      "execution_count": null,
      "outputs": [
        {
          "output_type": "display_data",
          "data": {
            "image/png": "[encoded data removed]",
            "text/plain": [
              "<Figure size 864x432 with 1 Axes>"
            ]
          },
          "metadata": {
            "tags": []
          }
        }
      ]
    },
    {
      "cell_type": "markdown",
      "metadata": {
        "id": "q2079Qyn8Mt8"
      },
      "source": [
        "# Saving & Loading Fine-Tuned Model\n",
        "\n",
        "Next it is a good idea to move the model we have trained and the associated weights, biases and model parameters out of the Colab space and into our own google drives. The cell below will mount your drive for you, then you can save the model using the prebuilt Hugging Face and PyTorch functionalities.\n",
        "\n",
        "\n"
      ]
    },
    {
      "cell_type": "code",
      "metadata": {
        "id": "NiUCVSGwSMgM",
        "colab": {
          "base_uri": "https://localhost:8080/"
        },
        "outputId": "6dbeee10-d28c-4d69-8e19-eeecb2df531a"
      },
      "source": [
        "from google.colab import drive\n",
        "drive.mount('/content/drive')"
      ],
      "execution_count": null,
      "outputs": [
        {
          "output_type": "stream",
          "text": [
            "Mounted at /content/drive\n"
          ],
          "name": "stdout"
        }
      ]
    },
    {
      "cell_type": "code",
      "metadata": {
        "id": "6ulTWaOr8QNY"
      },
      "source": [
        "import os\n",
        "\n",
        "output_dir = '/content/drive/MyDrive/models/fatma_gpt2/modelTN12-06-2021'\n",
        "args=0\n",
        "# Save a trained model, configuration and tokenizer using `save_pretrained()`.\n",
        "# They can then be reloaded using `from_pretrained()`\n",
        "model_to_save = model.module if hasattr(model, 'module') else model\n",
        "model_to_save.save_pretrained(output_dir)\n",
        "tokenizer.save_pretrained(output_dir)\n",
        "torch.save(args ,os.path.join(output_dir, 'training_args.bin'))\n",
        "\n",
        "# Good practice: save your training arguments together with the trained model\n",
        "torch.save(args, os.path.join(output_dir, 'training_args.bin'))"
      ],
      "execution_count": null,
      "outputs": []
    },
    {
      "cell_type": "markdown",
      "metadata": {
        "id": "ZLf6rbRglYhQ"
      },
      "source": [
        "# Generate Text\n",
        "\n",
        "Lastly the fun part! We will now generate samples from our model to test how well our model performs!"
      ]
    },
    {
      "cell_type": "code",
      "metadata": {
        "id": "v4XhewaV93-_",
        "colab": {
          "base_uri": "https://localhost:8080/"
        },
        "outputId": "31d10627-c2e1-4cd4-e028-eee72c85e844"
      },
      "source": [
        "model.eval()\n",
        "\n",
        "prompt = \" سلام وينك\" \n",
        "generated = torch.tensor(tokenizer.encode(prompt)).unsqueeze(0)\n",
        "generated = generated.to(device)\n",
        "\n",
        "sample_outputs = model.generate(\n",
        "                                generated, \n",
        "                                do_sample=True,   \n",
        "                                top_k=45, \n",
        "                                max_length = 30,\n",
        "                                top_p=0.90, \n",
        "                                num_return_sequences=3\n",
        "                                )\n",
        "\n",
        "for i, sample_output in enumerate(sample_outputs):\n",
        "  print(\"{}: {}\\n\\n\".format(i, tokenizer.decode(sample_output, skip_special_tokens=True)))"
      ],
      "execution_count": null,
      "outputs": [
        {
          "output_type": "stream",
          "text": [
            "Setting `pad_token_id` to `eos_token_id`:0 for open-end generation.\n"
          ],
          "name": "stderr"
        },
        {
          "output_type": "stream",
          "text": [
            "0:  سلام وينك لباس\n",
            "\n",
            "\n",
            "\n",
            "1:  سلام وينك\n",
            "\n",
            "\n",
            "\n",
            "2:  سلام وينك لباس\n",
            "\n",
            "\n",
            "\n"
          ],
          "name": "stdout"
        }
      ]
    },
    {
      "cell_type": "markdown",
      "metadata": {
        "id": "bBKFp7XBKZ8w"
      },
      "source": [
        "If you are familiar with MTG then you can evaluate these for yourself to determine how well the model has worked, or if you have modified the code to accept your own data input for a specific task this is what you are looking to evaluate for your own uses. Lastly, if you want to load the model you have saved to your google drive, the next cell will load the fine tuned GPT2 model and tokenizer, this means you can also share your model with other!"
      ]
    },
    {
      "cell_type": "code",
      "metadata": {
        "id": "SHJXRjDdvbmO",
        "colab": {
          "base_uri": "https://localhost:8080/"
        },
        "outputId": "66867b8f-e572-49b1-fc99-d0d21fd82605"
      },
      "source": [
        "model = GPT2LMHeadModel.from_pretrained(output_dir)\n",
        "tokenizer = GPT2Tokenizer.from_pretrained(output_dir)\n",
        "model.to(device)"
      ],
      "execution_count": null,
      "outputs": [
        {
          "output_type": "execute_result",
          "data": {
            "text/plain": [
              "GPT2LMHeadModel(\n",
              "  (transformer): GPT2Model(\n",
              "    (wte): Embedding(64002, 768)\n",
              "    (wpe): Embedding(1024, 768)\n",
              "    (drop): Dropout(p=0.1, inplace=False)\n",
              "    (h): ModuleList(\n",
              "      (0): GPT2Block(\n",
              "        (ln_1): LayerNorm((768,), eps=1e-05, elementwise_affine=True)\n",
              "        (attn): GPT2Attention(\n",
              "          (c_attn): Conv1D()\n",
              "          (c_proj): Conv1D()\n",
              "          (attn_dropout): Dropout(p=0.1, inplace=False)\n",
              "          (resid_dropout): Dropout(p=0.1, inplace=False)\n",
              "        )\n",
              "        (ln_2): LayerNorm((768,), eps=1e-05, elementwise_affine=True)\n",
              "        (mlp): GPT2MLP(\n",
              "          (c_fc): Conv1D()\n",
              "          (c_proj): Conv1D()\n",
              "          (dropout): Dropout(p=0.1, inplace=False)\n",
              "        )\n",
              "      )\n",
              "      (1): GPT2Block(\n",
              "        (ln_1): LayerNorm((768,), eps=1e-05, elementwise_affine=True)\n",
              "        (attn): GPT2Attention(\n",
              "          (c_attn): Conv1D()\n",
              "          (c_proj): Conv1D()\n",
              "          (attn_dropout): Dropout(p=0.1, inplace=False)\n",
              "          (resid_dropout): Dropout(p=0.1, inplace=False)\n",
              "        )\n",
              "        (ln_2): LayerNorm((768,), eps=1e-05, elementwise_affine=True)\n",
              "        (mlp): GPT2MLP(\n",
              "          (c_fc): Conv1D()\n",
              "          (c_proj): Conv1D()\n",
              "          (dropout): Dropout(p=0.1, inplace=False)\n",
              "        )\n",
              "      )\n",
              "      (2): GPT2Block(\n",
              "        (ln_1): LayerNorm((768,), eps=1e-05, elementwise_affine=True)\n",
              "        (attn): GPT2Attention(\n",
              "          (c_attn): Conv1D()\n",
              "          (c_proj): Conv1D()\n",
              "          (attn_dropout): Dropout(p=0.1, inplace=False)\n",
              "          (resid_dropout): Dropout(p=0.1, inplace=False)\n",
              "        )\n",
              "        (ln_2): LayerNorm((768,), eps=1e-05, elementwise_affine=True)\n",
              "        (mlp): GPT2MLP(\n",
              "          (c_fc): Conv1D()\n",
              "          (c_proj): Conv1D()\n",
              "          (dropout): Dropout(p=0.1, inplace=False)\n",
              "        )\n",
              "      )\n",
              "      (3): GPT2Block(\n",
              "        (ln_1): LayerNorm((768,), eps=1e-05, elementwise_affine=True)\n",
              "        (attn): GPT2Attention(\n",
              "          (c_attn): Conv1D()\n",
              "          (c_proj): Conv1D()\n",
              "          (attn_dropout): Dropout(p=0.1, inplace=False)\n",
              "          (resid_dropout): Dropout(p=0.1, inplace=False)\n",
              "        )\n",
              "        (ln_2): LayerNorm((768,), eps=1e-05, elementwise_affine=True)\n",
              "        (mlp): GPT2MLP(\n",
              "          (c_fc): Conv1D()\n",
              "          (c_proj): Conv1D()\n",
              "          (dropout): Dropout(p=0.1, inplace=False)\n",
              "        )\n",
              "      )\n",
              "      (4): GPT2Block(\n",
              "        (ln_1): LayerNorm((768,), eps=1e-05, elementwise_affine=True)\n",
              "        (attn): GPT2Attention(\n",
              "          (c_attn): Conv1D()\n",
              "          (c_proj): Conv1D()\n",
              "          (attn_dropout): Dropout(p=0.1, inplace=False)\n",
              "          (resid_dropout): Dropout(p=0.1, inplace=False)\n",
              "        )\n",
              "        (ln_2): LayerNorm((768,), eps=1e-05, elementwise_affine=True)\n",
              "        (mlp): GPT2MLP(\n",
              "          (c_fc): Conv1D()\n",
              "          (c_proj): Conv1D()\n",
              "          (dropout): Dropout(p=0.1, inplace=False)\n",
              "        )\n",
              "      )\n",
              "      (5): GPT2Block(\n",
              "        (ln_1): LayerNorm((768,), eps=1e-05, elementwise_affine=True)\n",
              "        (attn): GPT2Attention(\n",
              "          (c_attn): Conv1D()\n",
              "          (c_proj): Conv1D()\n",
              "          (attn_dropout): Dropout(p=0.1, inplace=False)\n",
              "          (resid_dropout): Dropout(p=0.1, inplace=False)\n",
              "        )\n",
              "        (ln_2): LayerNorm((768,), eps=1e-05, elementwise_affine=True)\n",
              "        (mlp): GPT2MLP(\n",
              "          (c_fc): Conv1D()\n",
              "          (c_proj): Conv1D()\n",
              "          (dropout): Dropout(p=0.1, inplace=False)\n",
              "        )\n",
              "      )\n",
              "      (6): GPT2Block(\n",
              "        (ln_1): LayerNorm((768,), eps=1e-05, elementwise_affine=True)\n",
              "        (attn): GPT2Attention(\n",
              "          (c_attn): Conv1D()\n",
              "          (c_proj): Conv1D()\n",
              "          (attn_dropout): Dropout(p=0.1, inplace=False)\n",
              "          (resid_dropout): Dropout(p=0.1, inplace=False)\n",
              "        )\n",
              "        (ln_2): LayerNorm((768,), eps=1e-05, elementwise_affine=True)\n",
              "        (mlp): GPT2MLP(\n",
              "          (c_fc): Conv1D()\n",
              "          (c_proj): Conv1D()\n",
              "          (dropout): Dropout(p=0.1, inplace=False)\n",
              "        )\n",
              "      )\n",
              "      (7): GPT2Block(\n",
              "        (ln_1): LayerNorm((768,), eps=1e-05, elementwise_affine=True)\n",
              "        (attn): GPT2Attention(\n",
              "          (c_attn): Conv1D()\n",
              "          (c_proj): Conv1D()\n",
              "          (attn_dropout): Dropout(p=0.1, inplace=False)\n",
              "          (resid_dropout): Dropout(p=0.1, inplace=False)\n",
              "        )\n",
              "        (ln_2): LayerNorm((768,), eps=1e-05, elementwise_affine=True)\n",
              "        (mlp): GPT2MLP(\n",
              "          (c_fc): Conv1D()\n",
              "          (c_proj): Conv1D()\n",
              "          (dropout): Dropout(p=0.1, inplace=False)\n",
              "        )\n",
              "      )\n",
              "      (8): GPT2Block(\n",
              "        (ln_1): LayerNorm((768,), eps=1e-05, elementwise_affine=True)\n",
              "        (attn): GPT2Attention(\n",
              "          (c_attn): Conv1D()\n",
              "          (c_proj): Conv1D()\n",
              "          (attn_dropout): Dropout(p=0.1, inplace=False)\n",
              "          (resid_dropout): Dropout(p=0.1, inplace=False)\n",
              "        )\n",
              "        (ln_2): LayerNorm((768,), eps=1e-05, elementwise_affine=True)\n",
              "        (mlp): GPT2MLP(\n",
              "          (c_fc): Conv1D()\n",
              "          (c_proj): Conv1D()\n",
              "          (dropout): Dropout(p=0.1, inplace=False)\n",
              "        )\n",
              "      )\n",
              "      (9): GPT2Block(\n",
              "        (ln_1): LayerNorm((768,), eps=1e-05, elementwise_affine=True)\n",
              "        (attn): GPT2Attention(\n",
              "          (c_attn): Conv1D()\n",
              "          (c_proj): Conv1D()\n",
              "          (attn_dropout): Dropout(p=0.1, inplace=False)\n",
              "          (resid_dropout): Dropout(p=0.1, inplace=False)\n",
              "        )\n",
              "        (ln_2): LayerNorm((768,), eps=1e-05, elementwise_affine=True)\n",
              "        (mlp): GPT2MLP(\n",
              "          (c_fc): Conv1D()\n",
              "          (c_proj): Conv1D()\n",
              "          (dropout): Dropout(p=0.1, inplace=False)\n",
              "        )\n",
              "      )\n",
              "      (10): GPT2Block(\n",
              "        (ln_1): LayerNorm((768,), eps=1e-05, elementwise_affine=True)\n",
              "        (attn): GPT2Attention(\n",
              "          (c_attn): Conv1D()\n",
              "          (c_proj): Conv1D()\n",
              "          (attn_dropout): Dropout(p=0.1, inplace=False)\n",
              "          (resid_dropout): Dropout(p=0.1, inplace=False)\n",
              "        )\n",
              "        (ln_2): LayerNorm((768,), eps=1e-05, elementwise_affine=True)\n",
              "        (mlp): GPT2MLP(\n",
              "          (c_fc): Conv1D()\n",
              "          (c_proj): Conv1D()\n",
              "          (dropout): Dropout(p=0.1, inplace=False)\n",
              "        )\n",
              "      )\n",
              "      (11): GPT2Block(\n",
              "        (ln_1): LayerNorm((768,), eps=1e-05, elementwise_affine=True)\n",
              "        (attn): GPT2Attention(\n",
              "          (c_attn): Conv1D()\n",
              "          (c_proj): Conv1D()\n",
              "          (attn_dropout): Dropout(p=0.1, inplace=False)\n",
              "          (resid_dropout): Dropout(p=0.1, inplace=False)\n",
              "        )\n",
              "        (ln_2): LayerNorm((768,), eps=1e-05, elementwise_affine=True)\n",
              "        (mlp): GPT2MLP(\n",
              "          (c_fc): Conv1D()\n",
              "          (c_proj): Conv1D()\n",
              "          (dropout): Dropout(p=0.1, inplace=False)\n",
              "        )\n",
              "      )\n",
              "    )\n",
              "    (ln_f): LayerNorm((768,), eps=1e-05, elementwise_affine=True)\n",
              "  )\n",
              "  (lm_head): Linear(in_features=768, out_features=64002, bias=False)\n",
              ")"
            ]
          },
          "metadata": {
            "tags": []
          },
          "execution_count": 28
        }
      ]
    }
  ]
}